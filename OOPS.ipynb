{
 "cells": [
  {
   "cell_type": "markdown",
   "id": "2dce455d-b0b0-40c7-83c8-38d99450ecef",
   "metadata": {},
   "source": [
    "### QUE;-1 Explain the importnace of function."
   ]
  },
  {
   "cell_type": "markdown",
   "id": "6016f2c4-669b-4b3c-8ebb-abb77de735b6",
   "metadata": {
    "tags": []
   },
   "source": [
    "#### A function is a named block of code that performs a specific task and can be reused throughout a program.\n",
    "\n"
   ]
  },
  {
   "cell_type": "markdown",
   "id": "9b4bfb1e-cbfb-4bcf-9551-9a004f8c6a2d",
   "metadata": {},
   "source": [
    "\n",
    "Abstraction:  \n",
    "\n",
    "\n",
    ":  This allows for more targeted testing and easier identification of any issues that may arise.\n"
   ]
  },
  {
   "cell_type": "markdown",
   "id": "5e241064-166b-40be-8c56-b4f0132e8aca",
   "metadata": {},
   "source": [
    "# importance of function:-\n",
    "### 1. code reusability:-\n",
    "#### --->  using of function you can write a function once and use it multiple times throughout your program.\n",
    "#### --->  this is save your time and effort but also promotes consistency and reduces the likelihood of errors.\n",
    "\n",
    "\n",
    "### 2. modularity:-\n",
    "#### --->  function allow you to break down your code into smaller , manageable and reusable pieces. instead of weiting the same code multiple time you can encapsulate a particular task or functionality within a function or  call the function whenever you need yo function to perform.\n",
    "\n",
    "\n",
    "### 3. Abstraction:-\n",
    "#### --->  Functions provide a level of abstraction, allowing you to focus on what a piece of code does rather than how it does it.\n",
    "#### --->  Once a function is defined, you can use it without needing to know or understand its implementation details, making your code more readable and easier to maintain.\n",
    "\n",
    "\n",
    "### 4. Encapsulation:-\n",
    "#### --->  Functions encapsulate logic, meaning they isolate a specific task or functionality within a defined scope. This helps to organize your code and prevent unintended interactions between different parts of your program.\n",
    "\n",
    "\n",
    "### 5. Testing and Debugging:-\n",
    "#### --->  Functions make it easier to test and debug your code because you can isolate individual pieces of functionality and test them independently.\n",
    "#### --->  Functions make it easier to test and debug your code because you can isolate individual pieces of functionality and test them independently.\n",
    "\n",
    "\n",
    "### 6. Scalability:-\n",
    "#### --->   As your program grows in size and complexity, functions allow you to manage that complexity by breaking it down into smaller, more manageable pieces"
   ]
  },
  {
   "cell_type": "markdown",
   "id": "e3a87297-3235-49e8-bc8a-0907074451ab",
   "metadata": {},
   "source": [
    "---------------------------------------------------------------------------------------------------------------"
   ]
  },
  {
   "cell_type": "markdown",
   "id": "4ebb654c-6a38-435b-870c-227a71dea372",
   "metadata": {},
   "source": [
    "### QUE:-2 Write a basic function to greet students."
   ]
  },
  {
   "cell_type": "code",
   "execution_count": 2,
   "id": "e3b7e8b0-5ee9-42d7-b26f-1461803c91ec",
   "metadata": {},
   "outputs": [
    {
     "name": "stdout",
     "output_type": "stream",
     "text": [
      "hello pwskills students how are you\n"
     ]
    }
   ],
   "source": [
    "def greet(name):\n",
    "    print(f\"hello pwskills {name} how are you\")\n",
    "greet(\"students\")"
   ]
  },
  {
   "cell_type": "markdown",
   "id": "8966d52c-260c-4a25-82e7-4a9d92693d87",
   "metadata": {},
   "source": [
    "------------------------------------------------------------------------------------------------------------"
   ]
  },
  {
   "cell_type": "markdown",
   "id": "7a846967-38e5-4461-8497-94b18bef19f0",
   "metadata": {},
   "source": [
    "### QUE:-3 what is the difference between print and return statment?\n",
    "\n"
   ]
  },
  {
   "cell_type": "markdown",
   "id": "27f44113-4d37-4b31-9818-d82885134593",
   "metadata": {},
   "source": [
    "### print statement :- \n",
    "#### ---> print statement is used to display output to the console or terminal.\n",
    "#### ---> it is primirily used fo debgging purpose or for providing informatin to the user\n",
    "#### ---> it does not affect the flow of programme and its output is typically visible to the user.\n",
    "#### ---> it does not return any value it simply display the output\n",
    "#### ---> print can return multiple value with saparated by commas."
   ]
  },
  {
   "cell_type": "markdown",
   "id": "511609cb-8c8e-4412-9265-7dda998369c1",
   "metadata": {},
   "source": [
    "### return statement :-\n",
    "#### ---> the return statement is used to exit a function and return a value to the caller. \n",
    "#### ---> it terminates the execution of the function and passes the specific value back to the code that caller the function.\n",
    "#### ---> the value return by the function can be used for further computation or stored in a variable.\n",
    "#### ---> return is used specifically to pass a value back to the caller .\n",
    "#### ---> it can return only single value."
   ]
  },
  {
   "cell_type": "markdown",
   "id": "cabaadba-afee-4bd2-920e-9c9d4f23167a",
   "metadata": {},
   "source": [
    "---------------------------------------------------------------------------------------------------------------"
   ]
  },
  {
   "cell_type": "markdown",
   "id": "39d47682-52f0-4306-957b-b1e012817f46",
   "metadata": {},
   "source": [
    "### QUE:-4 what are *args and *kwargs?\n"
   ]
  },
  {
   "cell_type": "markdown",
   "id": "a5625ce2-a509-4464-9b8e-5afb4d17343b",
   "metadata": {},
   "source": [
    "### *args:-\n",
    "#### ---> It allows a function to accept an arbitrary number of positional arguments.\n",
    "#### ---> The *args parameter collects all the positional arguments passed to the function into a tuple.\n",
    "#### ---> You can name it anything you want, but args is a convention.\n"
   ]
  },
  {
   "cell_type": "markdown",
   "id": "d811859b-03ff-4639-b7c0-f3be3201bfd3",
   "metadata": {},
   "source": [
    "### **kwargs:-\n",
    "#### ---> It allows a function to accept an arbitrary number of keyword arguments .\n",
    "#### ---> The **kwargs parameter collects all the keyword arguments into a dictionary where the keys are the argument names and the values are their corresponding values.\n",
    "#### ---> You can name it anything you want, but kwargs is a convention.\n"
   ]
  },
  {
   "cell_type": "markdown",
   "id": "c7e7a48f-b396-43d8-8c97-777792530808",
   "metadata": {},
   "source": [
    "-------------------------------------------------------------------------------------------------------------------------------------------------"
   ]
  },
  {
   "cell_type": "markdown",
   "id": "38b9303b-3d1a-48ef-8808-036d743ad193",
   "metadata": {},
   "source": [
    "### QUE:-5  Explain the iterator function?"
   ]
  },
  {
   "cell_type": "markdown",
   "id": "c61c7885-8f0f-4710-b949-e90ba7b245bd",
   "metadata": {},
   "source": [
    "#### ---> The iter() function in python is used to create an iterator object. an iterator is an object that represent a streams of data and can be traversed using a loop.\n",
    "#### ---> it provides a way to access elements of collection one at a time without needing to know the underlying structure of the collection.\n",
    "#### ---> ter function can be called with two arguments. 1= iterabel  2=  sentinel\n",
    "#### ---> terator is an object that you want to iterate over.and a sentinel value that specifiesa when to stop iteration.\n",
    "#### ---> the iter() function will keep calling the iterable's __next__() method until it returns the sentinel value."
   ]
  },
  {
   "cell_type": "code",
   "execution_count": 5,
   "id": "c19fb277-19fd-4962-8fd1-36104f41b71b",
   "metadata": {},
   "outputs": [
    {
     "name": "stdout",
     "output_type": "stream",
     "text": [
      "1\n",
      "2\n",
      "3\n",
      "4\n",
      "5\n"
     ]
    }
   ],
   "source": [
    "my_list = [1, 2, 3, 4, 5]\n",
    "my_iterator = iter(my_list)\n",
    "\n",
    "for item in my_iterator:\n",
    "    print(item)\n"
   ]
  },
  {
   "cell_type": "code",
   "execution_count": 7,
   "id": "1f7d4639-00cf-4e20-aa7f-0a5a7d9d74a8",
   "metadata": {},
   "outputs": [
    {
     "name": "stdout",
     "output_type": "stream",
     "text": [
      "1\n",
      "2\n"
     ]
    }
   ],
   "source": [
    "# or \n",
    "my_list = [1, 2, 3, 4, 5]\n",
    "my_iterator = iter(my_list)\n",
    "print(next(my_iterator))  \n",
    "print(next(my_iterator)) "
   ]
  },
  {
   "cell_type": "markdown",
   "id": "10c9c204-9e58-4b6d-a608-3e934cdfbf77",
   "metadata": {},
   "source": [
    "-----------------------------------------------------------------------------------------------------------------"
   ]
  },
  {
   "cell_type": "markdown",
   "id": "26a8f2ad-69d6-4b04-8504-8267e5ebaa9e",
   "metadata": {},
   "source": [
    "### QUE:-6 write a code that generates the squares of numbers from 1 to n using generator?"
   ]
  },
  {
   "cell_type": "code",
   "execution_count": 10,
   "id": "3b9aef93-a6da-4599-980d-41e3b5378877",
   "metadata": {},
   "outputs": [
    {
     "name": "stdout",
     "output_type": "stream",
     "text": [
      "0\n",
      "1\n",
      "4\n",
      "9\n",
      "16\n",
      "25\n"
     ]
    }
   ],
   "source": [
    "def square(n):\n",
    "    for i in range(n+1):\n",
    "        yield i**2\n",
    "num_sqrt=square(5)\n",
    "for i in num_sqrt:\n",
    "    print(i)"
   ]
  },
  {
   "cell_type": "markdown",
   "id": "62170c5b-512a-4caa-a0de-87ea10c05e14",
   "metadata": {},
   "source": [
    "-------------------------------------------------------------------------------------------------------------------"
   ]
  },
  {
   "cell_type": "markdown",
   "id": "66c85a0b-ddd6-48c1-82c3-90779bfd763b",
   "metadata": {},
   "source": [
    "### QUE:-7 write a code that generates palindromic numbers upto n using a generator?"
   ]
  },
  {
   "cell_type": "code",
   "execution_count": 13,
   "id": "1dfc212f-68ea-4efd-a3ff-f218f468bc15",
   "metadata": {},
   "outputs": [
    {
     "name": "stdout",
     "output_type": "stream",
     "text": [
      "1\n",
      "2\n",
      "3\n",
      "4\n",
      "5\n",
      "6\n",
      "7\n",
      "8\n",
      "9\n",
      "11\n",
      "22\n",
      "33\n",
      "44\n",
      "55\n",
      "66\n",
      "77\n",
      "88\n",
      "99\n"
     ]
    }
   ],
   "source": [
    "def palin(n):\n",
    "    for num in range(1,n+1):\n",
    "        if str(num)==str(num)[::-1]:\n",
    "            yield num\n",
    "number=100\n",
    "gen_palin=palin(number)\n",
    "for palin in gen_palin:\n",
    "    print(palin)"
   ]
  },
  {
   "cell_type": "markdown",
   "id": "d3750696-24c1-4798-9802-bc15385c4862",
   "metadata": {},
   "source": [
    "-------------------------------------------------------------------------------------------------------------"
   ]
  },
  {
   "cell_type": "markdown",
   "id": "5dfb1db9-2027-4708-9c3c-e6e842a9d0d3",
   "metadata": {},
   "source": [
    "### QUE:-8 write a code that generates even numbers from 2 to n using a generator?"
   ]
  },
  {
   "cell_type": "code",
   "execution_count": 14,
   "id": "a937cf93-34eb-470e-a208-4ca91ceb9475",
   "metadata": {},
   "outputs": [
    {
     "name": "stdout",
     "output_type": "stream",
     "text": [
      "2\n",
      "4\n",
      "6\n",
      "8\n",
      "10\n",
      "12\n",
      "14\n",
      "16\n",
      "18\n",
      "20\n",
      "22\n",
      "24\n",
      "26\n",
      "28\n",
      "30\n",
      "32\n",
      "34\n",
      "36\n",
      "38\n",
      "40\n",
      "42\n",
      "44\n",
      "46\n",
      "48\n",
      "50\n",
      "52\n",
      "54\n",
      "56\n",
      "58\n",
      "60\n",
      "62\n",
      "64\n",
      "66\n",
      "68\n",
      "70\n",
      "72\n",
      "74\n",
      "76\n",
      "78\n",
      "80\n",
      "82\n",
      "84\n",
      "86\n",
      "88\n",
      "90\n",
      "92\n",
      "94\n",
      "96\n",
      "98\n",
      "100\n"
     ]
    }
   ],
   "source": [
    "def iseven(n):\n",
    "    for i in range(2,n+1):\n",
    "        if i%2==0:\n",
    "            yield i\n",
    "num_even=iseven(100)\n",
    "for i in num_even:\n",
    "    print(i)"
   ]
  },
  {
   "cell_type": "markdown",
   "id": "c405f198-7ac0-47f2-a9fd-6cf77e9e0565",
   "metadata": {},
   "source": [
    "---------------------------------------------------------------------------------------------------------------"
   ]
  },
  {
   "cell_type": "markdown",
   "id": "44bfa5f9-7110-4f26-8460-00465933793b",
   "metadata": {},
   "source": [
    "### QUE:-9 write a code that generates power of two upto n using a generator?"
   ]
  },
  {
   "cell_type": "code",
   "execution_count": 16,
   "id": "44cb8736-4eb0-42ee-b06a-502653ac54e1",
   "metadata": {},
   "outputs": [
    {
     "name": "stdout",
     "output_type": "stream",
     "text": [
      "1\n",
      "4\n",
      "9\n",
      "16\n",
      "25\n",
      "36\n",
      "49\n",
      "64\n",
      "81\n",
      "100\n",
      "121\n",
      "144\n",
      "169\n",
      "196\n",
      "225\n",
      "256\n",
      "289\n",
      "324\n",
      "361\n",
      "400\n",
      "441\n",
      "484\n",
      "529\n",
      "576\n",
      "625\n",
      "676\n",
      "729\n",
      "784\n",
      "841\n",
      "900\n",
      "961\n",
      "1024\n",
      "1089\n",
      "1156\n",
      "1225\n",
      "1296\n",
      "1369\n",
      "1444\n",
      "1521\n",
      "1600\n",
      "1681\n",
      "1764\n",
      "1849\n",
      "1936\n",
      "2025\n",
      "2116\n",
      "2209\n",
      "2304\n",
      "2401\n",
      "2500\n",
      "2601\n",
      "2704\n",
      "2809\n",
      "2916\n",
      "3025\n",
      "3136\n",
      "3249\n",
      "3364\n",
      "3481\n",
      "3600\n",
      "3721\n",
      "3844\n",
      "3969\n",
      "4096\n",
      "4225\n",
      "4356\n",
      "4489\n",
      "4624\n",
      "4761\n",
      "4900\n",
      "5041\n",
      "5184\n",
      "5329\n",
      "5476\n",
      "5625\n",
      "5776\n",
      "5929\n",
      "6084\n",
      "6241\n",
      "6400\n",
      "6561\n",
      "6724\n",
      "6889\n",
      "7056\n",
      "7225\n",
      "7396\n",
      "7569\n",
      "7744\n",
      "7921\n",
      "8100\n",
      "8281\n",
      "8464\n",
      "8649\n",
      "8836\n",
      "9025\n",
      "9216\n",
      "9409\n",
      "9604\n",
      "9801\n",
      "10000\n"
     ]
    }
   ],
   "source": [
    "def power(n):\n",
    "    for i in range(1,n+1):\n",
    "        yield i**2\n",
    "power_two=power(100)\n",
    "for i in power_two:\n",
    "    print(i)"
   ]
  },
  {
   "cell_type": "markdown",
   "id": "1ece3c26-e075-48cf-a374-32dc92403f82",
   "metadata": {},
   "source": [
    "----------------------------------------------------------------------------------------------------------"
   ]
  },
  {
   "cell_type": "markdown",
   "id": "25b930fb-801a-498f-b72a-d53c1f4fb1bd",
   "metadata": {},
   "source": [
    "### QUE:-10 write a code that generates prime number upto n using a generator?"
   ]
  },
  {
   "cell_type": "code",
   "execution_count": 12,
   "id": "10259138-3290-43e4-b510-00011b93d577",
   "metadata": {},
   "outputs": [
    {
     "name": "stdout",
     "output_type": "stream",
     "text": [
      "5\n",
      "7\n",
      "9\n",
      "11\n",
      "13\n",
      "15\n",
      "17\n",
      "19\n",
      "21\n",
      "23\n",
      "25\n"
     ]
    }
   ],
   "source": [
    "def isprime(n):\n",
    "    for num in range(2,n+1):\n",
    "        if gen_prime (num):\n",
    "            yield num\n",
    "def gen_prime(num):\n",
    "    if num <2:\n",
    "        return False\n",
    "    for i in range(2,int(num**0.5)+1):\n",
    "        if num%i==0:\n",
    "            return False\n",
    "        return True\n",
    "limit=25\n",
    "num_prime=isprime(limit)\n",
    "for i in num_prime:\n",
    "    print(i)"
   ]
  },
  {
   "cell_type": "markdown",
   "id": "e9271f71-393a-4397-897a-82c758df3bc2",
   "metadata": {},
   "source": [
    "----------------------------------------------------------------------------------------------------------------"
   ]
  },
  {
   "cell_type": "markdown",
   "id": "390644e8-c5e6-432f-a522-078f80c66eb6",
   "metadata": {},
   "source": [
    "### QUE:-11 write a code that uses a labmda function to calculate a sum of two numbers."
   ]
  },
  {
   "cell_type": "code",
   "execution_count": 17,
   "id": "0ad2a011-eab6-4db0-af09-56fd57e8c0d1",
   "metadata": {},
   "outputs": [
    {
     "name": "stdin",
     "output_type": "stream",
     "text": [
      "enter the first number 15\n",
      "enter the second number 23\n"
     ]
    },
    {
     "name": "stdout",
     "output_type": "stream",
     "text": [
      "38.0\n"
     ]
    }
   ],
   "source": [
    "num1=float(input(\"enter the first number\"))\n",
    "num2=float(input(\"enter the second number\"))\n",
    "sum_two_number=(lambda a,b: a+b)\n",
    "total_sum=sum_two_number(num1,num2)\n",
    "print(total_sum)"
   ]
  },
  {
   "cell_type": "markdown",
   "id": "5899a484-794c-4cd2-8149-59db0a3f868b",
   "metadata": {},
   "source": [
    "--------------------------------------------------------------------------------------------------------------"
   ]
  },
  {
   "cell_type": "markdown",
   "id": "3a460748-62c6-449d-87e4-8214f0210422",
   "metadata": {},
   "source": [
    "### QUE:-12 write a code that uses a labmda function to calculate the square of a given number."
   ]
  },
  {
   "cell_type": "code",
   "execution_count": 18,
   "id": "d2a05378-97d1-4544-8053-61ec35fb9476",
   "metadata": {},
   "outputs": [
    {
     "name": "stdin",
     "output_type": "stream",
     "text": [
      "enter the number 23\n"
     ]
    },
    {
     "name": "stdout",
     "output_type": "stream",
     "text": [
      "529\n"
     ]
    }
   ],
   "source": [
    "num1=int(input(\"enter the number\"))\n",
    "square=(lambda x : x**2)\n",
    "result=square(num1)\n",
    "print(result)"
   ]
  },
  {
   "cell_type": "markdown",
   "id": "2ce39c4c-9cb4-47b1-891c-a2c25dc26bac",
   "metadata": {},
   "source": [
    "-------------------------------------------------------------------------------------------------------------"
   ]
  },
  {
   "cell_type": "markdown",
   "id": "27171b18-62ae-4d08-a051-90ca0cc18194",
   "metadata": {},
   "source": [
    "### QUE;-13 write a code that uses a labmda function to check whether a number is even or odd?\n"
   ]
  },
  {
   "cell_type": "code",
   "execution_count": 24,
   "id": "63854c7a-3563-4477-af49-ca212efb932a",
   "metadata": {},
   "outputs": [
    {
     "name": "stdin",
     "output_type": "stream",
     "text": [
      "enter the number 12\n"
     ]
    },
    {
     "name": "stdout",
     "output_type": "stream",
     "text": [
      "12 is even\n"
     ]
    }
   ],
   "source": [
    "num=int(input(\"enter the number\"))\n",
    "result=(lambda x : \"even\" if x % 2 == 0 else \"odd\")(num)\n",
    "print(num , \"is\" , result)"
   ]
  },
  {
   "cell_type": "markdown",
   "id": "fc2da1ed-205f-4b50-b2bf-df5d9be6f5f9",
   "metadata": {},
   "source": [
    "------------------------------------------------------------------------------------------------------------"
   ]
  },
  {
   "cell_type": "markdown",
   "id": "506ae31b-2e41-4121-9820-5ceb46b6fbf7",
   "metadata": {},
   "source": [
    "### QUE:-15  write a code that uses a labmda function to concatenate two strings?"
   ]
  },
  {
   "cell_type": "code",
   "execution_count": 26,
   "id": "200b40f8-6506-4c14-9afe-3208e5998d63",
   "metadata": {},
   "outputs": [
    {
     "name": "stdin",
     "output_type": "stream",
     "text": [
      "enter the first string HELLO \n",
      "enter the second string PWSKILLS\n"
     ]
    },
    {
     "name": "stdout",
     "output_type": "stream",
     "text": [
      "HELLO PWSKILLS\n"
     ]
    }
   ],
   "source": [
    "str1=input(\"enter the first string\")\n",
    "str2=input(\"enter the second string\")\n",
    "result=(lambda x , y : x + y)\n",
    "two_string=result(str1,str2)\n",
    "print(two_string)"
   ]
  },
  {
   "cell_type": "markdown",
   "id": "a05e3926-9021-40fa-9763-10c65395d9b0",
   "metadata": {},
   "source": [
    "--------------------------------------------------------------------------------------------------------------------"
   ]
  },
  {
   "cell_type": "markdown",
   "id": "b67bc15c-1668-42ac-8300-d16e77519d39",
   "metadata": {},
   "source": [
    "### QUE:-16 write a code that uses a labmda function to find the maximum of three given numbers."
   ]
  },
  {
   "cell_type": "code",
   "execution_count": 1,
   "id": "cf343b9a-7c70-484a-a36f-5b01d098f09b",
   "metadata": {},
   "outputs": [
    {
     "name": "stdin",
     "output_type": "stream",
     "text": [
      "enter the first number 12\n",
      "enter the second number 45\n",
      "enter the third number 32\n"
     ]
    },
    {
     "name": "stdout",
     "output_type": "stream",
     "text": [
      "max of 12,45 and 32 is 45\n"
     ]
    }
   ],
   "source": [
    "num1=int(input(\"enter the first number\"))\n",
    "num2=int(input(\"enter the second number\"))\n",
    "num3=int(input(\"enter the third number\"))\n",
    "max_num=(lambda x,y,z:  max(x,y,z))\n",
    "result=max_num(num1,num2,num3)\n",
    "print(f\"max of {num1},{num2} and {num3} is {result}\")"
   ]
  },
  {
   "cell_type": "markdown",
   "id": "91819fc2-fa88-4fa3-9747-08915d5d3a4c",
   "metadata": {},
   "source": [
    "---------------------------------------------------------------------------------------------------------"
   ]
  },
  {
   "cell_type": "markdown",
   "id": "e0bd6569-8794-4751-971c-37b949c37505",
   "metadata": {},
   "source": [
    "### QUE:-17 write a code that generates the square of even numbers from a given lists."
   ]
  },
  {
   "cell_type": "code",
   "execution_count": 37,
   "id": "ef8a4ba9-bc8c-4171-959f-063baf1a1861",
   "metadata": {},
   "outputs": [
    {
     "name": "stdin",
     "output_type": "stream",
     "text": [
      "enter a list of numbers 1 2 3 4 5 6 \n"
     ]
    },
    {
     "name": "stdout",
     "output_type": "stream",
     "text": [
      "[4, 16, 36]\n"
     ]
    }
   ],
   "source": [
    "numbers=[int (x) for x in input(\"enter a list of numbers\").split()]\n",
    "sqrt_num=list(map(lambda x : x **2 , filter (lambda x:x%2==0 , numbers)))\n",
    "print(sqrt_num)"
   ]
  },
  {
   "cell_type": "markdown",
   "id": "f829bcd4-f050-4f05-8ece-0299e3150bc0",
   "metadata": {},
   "source": [
    "----------------------------------------------------------------------------------------------------------------"
   ]
  },
  {
   "cell_type": "markdown",
   "id": "064c7808-9435-40ef-a1d3-6d90fff7208e",
   "metadata": {},
   "source": [
    "### QUE:-18 write a code that calculates the product of positive numbers from a given list?"
   ]
  },
  {
   "cell_type": "code",
   "execution_count": 10,
   "id": "6629759e-675b-43ea-bf2b-1b33ade6e279",
   "metadata": {},
   "outputs": [
    {
     "name": "stdin",
     "output_type": "stream",
     "text": [
      "enter a list of numbers 1 2 3 4 5 6\n"
     ]
    },
    {
     "name": "stdout",
     "output_type": "stream",
     "text": [
      "720\n"
     ]
    }
   ],
   "source": [
    "numbers=[int (x) for x in input(\"enter a list of numbers\").split()]\n",
    "pos_num=filter(lambda x : x>0, numbers)\n",
    "product=reduce(lambda x,y: x*y,pos_num,1)\n",
    "print(product)\n"
   ]
  },
  {
   "cell_type": "code",
   "execution_count": 12,
   "id": "80c29f55-edff-48f4-aea8-444843fd3a4b",
   "metadata": {},
   "outputs": [
    {
     "name": "stdin",
     "output_type": "stream",
     "text": [
      "enter a list of numbers 1 2 3 4 5 \n"
     ]
    },
    {
     "name": "stdout",
     "output_type": "stream",
     "text": [
      "120\n"
     ]
    }
   ],
   "source": [
    "numbers=[int (x) for x in input(\"enter a list of numbers\").split()]\n",
    "pos_num=filter(lambda x : x>0, numbers)\n",
    "product=1\n",
    "for i in pos_num:\n",
    "    product=product*i\n",
    "print(product)"
   ]
  },
  {
   "cell_type": "markdown",
   "id": "8a99a527-bd82-47b2-aa78-8250f6dad890",
   "metadata": {},
   "source": [
    "---------------------------------------------------------------------------------------------------------------"
   ]
  },
  {
   "cell_type": "markdown",
   "id": "0dce232b-2f25-4fa7-b0b9-83c1701be0a7",
   "metadata": {},
   "source": [
    "### QUE:-19 write a code that doubles the value of odd numbers from a given list?"
   ]
  },
  {
   "cell_type": "code",
   "execution_count": 23,
   "id": "b0c5fdab-d10c-4d9d-ab32-2ba6d2be14c4",
   "metadata": {},
   "outputs": [
    {
     "name": "stdin",
     "output_type": "stream",
     "text": [
      "enter the list value 1 2 3 4 5 6\n"
     ]
    },
    {
     "name": "stdout",
     "output_type": "stream",
     "text": [
      "original list=0 [1, 2, 3, 4, 5, 6]\n",
      "double odd list= [2, 2, 6, 4, 10, 6]\n"
     ]
    }
   ],
   "source": [
    "numbers=[int(x) for x in input(\"enter the list value\").split()]\n",
    "lst2=[]\n",
    "for i in numbers:\n",
    "    if i%2!=0:\n",
    "        lst2.append(i*2)\n",
    "    else:\n",
    "        lst2.append(i)\n",
    "print(\"original list=0\",numbers)         \n",
    "print(\"double odd list=\",lst2)"
   ]
  },
  {
   "cell_type": "markdown",
   "id": "08feb617-3204-4eb0-91fc-1e852d097803",
   "metadata": {},
   "source": [
    "----------------------------------------------------------------------------------------------------------"
   ]
  },
  {
   "cell_type": "markdown",
   "id": "b4fd7f14-de9b-484c-8cd4-bc3f3fc5f6d9",
   "metadata": {},
   "source": [
    "### QUE:-20 write a code that calculates the sum of cubes of numbers from a given list?"
   ]
  },
  {
   "cell_type": "code",
   "execution_count": 26,
   "id": "dba523d6-335a-4e00-a825-0eab493889aa",
   "metadata": {},
   "outputs": [
    {
     "name": "stdin",
     "output_type": "stream",
     "text": [
      "enter the list of numbers 1 2 3 4 5 6\n"
     ]
    },
    {
     "name": "stdout",
     "output_type": "stream",
     "text": [
      "441\n"
     ]
    }
   ],
   "source": [
    "numbers=[int(x) for x in input(\"enter the list of numbers\").split()]\n",
    "result=sum([x**3 for x in numbers ])\n",
    "print(result)"
   ]
  },
  {
   "cell_type": "markdown",
   "id": "f6a58d3f-08aa-4e8b-bd3d-efccb7137b00",
   "metadata": {},
   "source": [
    "-----------------------------------------------------------------------------------------------------------"
   ]
  },
  {
   "cell_type": "markdown",
   "id": "472570ef-4ae6-47b1-a321-419295f299a4",
   "metadata": {},
   "source": [
    "### QUE:-21  write the code that filter out prime numbers form a given list?"
   ]
  },
  {
   "cell_type": "code",
   "execution_count": 35,
   "id": "b66d1f45-67b1-460d-9efc-2e106d39bf1e",
   "metadata": {},
   "outputs": [
    {
     "name": "stdin",
     "output_type": "stream",
     "text": [
      "enter the number of list 1 2 3 4 5 6 7 8 9\n"
     ]
    },
    {
     "name": "stdout",
     "output_type": "stream",
     "text": [
      "[5, 7, 9]\n"
     ]
    }
   ],
   "source": [
    "def is_prime(n):\n",
    "    if n<2:\n",
    "        return False\n",
    "    for i in range(2,int(n**0.5)+1):\n",
    "        if n%i==0:\n",
    "            return False\n",
    "        return True\n",
    "numbers=[int(x) for x in input(\"enter the number of list\").split()]\n",
    "prime_num=filter(is_prime,numbers)\n",
    "prime_list=list(prime_num)\n",
    "print(prime_list)"
   ]
  },
  {
   "cell_type": "markdown",
   "id": "57fcd07a-5981-4884-8269-4f76574032e0",
   "metadata": {},
   "source": [
    "--------------------------------------------------------------------------------------------------------------"
   ]
  },
  {
   "cell_type": "markdown",
   "id": "51bfe1bd-3c33-47bc-b65f-29146787ae2a",
   "metadata": {},
   "source": [
    "### QUE;-22 write a code that uses a lambda function to calculate the sum of two numbers?"
   ]
  },
  {
   "cell_type": "code",
   "execution_count": 36,
   "id": "26581479-e879-43b4-b297-b6b8209202f0",
   "metadata": {},
   "outputs": [
    {
     "name": "stdin",
     "output_type": "stream",
     "text": [
      "enter the first number 5 \n",
      "enter the second number 9\n"
     ]
    },
    {
     "name": "stdout",
     "output_type": "stream",
     "text": [
      "14.0\n"
     ]
    }
   ],
   "source": [
    "num1=float(input(\"enter the first number\"))\n",
    "num2=float(input(\"enter the second number\"))\n",
    "sum_two_number=(lambda a,b: a+b)\n",
    "total_sum=sum_two_number(num1,num2)\n",
    "print(total_sum)"
   ]
  },
  {
   "cell_type": "markdown",
   "id": "dc723ac1-4cbb-4a64-9b22-d779ee457957",
   "metadata": {},
   "source": [
    "### QUE:-23 write a code that uses a labmda function to calculate the square of a given number."
   ]
  },
  {
   "cell_type": "code",
   "execution_count": 37,
   "id": "443ef014-2208-4387-a771-6dd505f4a58d",
   "metadata": {},
   "outputs": [
    {
     "name": "stdin",
     "output_type": "stream",
     "text": [
      "enter the number 45\n"
     ]
    },
    {
     "name": "stdout",
     "output_type": "stream",
     "text": [
      "2025\n"
     ]
    }
   ],
   "source": [
    "num1=int(input(\"enter the number\"))\n",
    "square=(lambda x : x**2)\n",
    "result=square(num1)\n",
    "print(result)"
   ]
  },
  {
   "cell_type": "markdown",
   "id": "598b51ea-9fd5-4583-90a6-1bc032167cca",
   "metadata": {},
   "source": [
    "### QUE;-24 write a code that uses a labmda function to check whether a number is even or odd?"
   ]
  },
  {
   "cell_type": "code",
   "execution_count": 56,
   "id": "b3bffdd8-1ade-4280-902e-dd8c6844c956",
   "metadata": {},
   "outputs": [
    {
     "name": "stdin",
     "output_type": "stream",
     "text": [
      "enter the number 12\n"
     ]
    },
    {
     "name": "stdout",
     "output_type": "stream",
     "text": [
      "12 is even\n"
     ]
    }
   ],
   "source": [
    "num=int(input(\"enter the number\"))\n",
    "result=(lambda x : \"even\" if x % 2 == 0 else \"odd\")(num)\n",
    "print(num , \"is\" , result)"
   ]
  },
  {
   "cell_type": "markdown",
   "id": "c6fd069f-478f-47f4-a521-dde9e1d94bc7",
   "metadata": {},
   "source": [
    "### QUE:-25 write a code that uses a labmda function to concatenate two strings?"
   ]
  },
  {
   "cell_type": "code",
   "execution_count": 51,
   "id": "ba2f9c4c-3041-426f-8283-ceddcd4ab7a2",
   "metadata": {},
   "outputs": [
    {
     "name": "stdin",
     "output_type": "stream",
     "text": [
      "enter the first string helllo\n",
      "enter the second string pwww\n"
     ]
    },
    {
     "name": "stdout",
     "output_type": "stream",
     "text": [
      "helllopwww\n"
     ]
    }
   ],
   "source": [
    "str1=input(\"enter the first string\")\n",
    "str2=input(\"enter the second string\")\n",
    "result=(lambda x , y : x + y)\n",
    "two_string=result(str1,str2)\n",
    "print(two_string)"
   ]
  },
  {
   "cell_type": "markdown",
   "id": "311361e0-51dd-4b5c-b064-7a4769c76b4c",
   "metadata": {},
   "source": [
    "### QUE:-26 write a code that uses a labmda function to find the maximum of three given numbers."
   ]
  },
  {
   "cell_type": "code",
   "execution_count": 2,
   "id": "8bf66fb8-472d-4c78-a633-74b49aa06f94",
   "metadata": {},
   "outputs": [
    {
     "name": "stdin",
     "output_type": "stream",
     "text": [
      "enter the first number 12\n",
      "enter the second number 25\n",
      "enter the third number 96\n"
     ]
    },
    {
     "name": "stdout",
     "output_type": "stream",
     "text": [
      "max of 12,25 and 96 is 96\n"
     ]
    }
   ],
   "source": [
    "num1=int(float(input(\"enter the first number\")))\n",
    "num2=int(float(input(\"enter the second number\")))\n",
    "num3=int(float(input(\"enter the third number\")))\n",
    "max_num=(lambda x,y,z:  max(x,y,z))\n",
    "result=max_num(num1,num2,num3)\n",
    "print(f\"max of {num1},{num2} and {num3} is {result}\")"
   ]
  },
  {
   "cell_type": "markdown",
   "id": "1b79fe10-2f71-4cef-9328-018890002683",
   "metadata": {},
   "source": [
    "-------------------------------------------------------------------------------------------------------------"
   ]
  },
  {
   "cell_type": "markdown",
   "id": "db7dc0d1-bb55-4332-ad13-041a4b6b8c64",
   "metadata": {},
   "source": [
    "### QUE;-27 what is encapsulation in oops?"
   ]
  },
  {
   "cell_type": "markdown",
   "id": "630dbc9c-7403-45b2-a644-54be0ebf7565",
   "metadata": {},
   "source": [
    "#### ---> binding code and data together into a single unit are known as encapsulation. for example , a capsule , it is wrapped with different medicines"
   ]
  },
  {
   "cell_type": "markdown",
   "id": "0f087d91-059f-4729-96b2-d4e99ce5b652",
   "metadata": {},
   "source": [
    "#### ---> the main advantage of encapsulaton is that data is hidden and protected from randomly access by outside non member methods of a class"
   ]
  },
  {
   "cell_type": "markdown",
   "id": "2781d376-3d78-4d34-b9c4-499d36c778dd",
   "metadata": {},
   "source": [
    "#### ---> encapsulation is the process of binding data and methods in a single unit.\n",
    "#### ---> in encapsulatio , data(variable) are declared as private and methods are declared as public"
   ]
  },
  {
   "cell_type": "markdown",
   "id": "11c446b9-a315-4e70-a74a-54633b49179f",
   "metadata": {},
   "source": [
    "--------------------------------------------------------------------------------------------------------------"
   ]
  },
  {
   "cell_type": "markdown",
   "id": "37e5e4b4-dcf0-494e-8d63-2ef74a751d58",
   "metadata": {},
   "source": [
    "### QUE:-28 explain the uses of access modifier in python classes?"
   ]
  },
  {
   "cell_type": "markdown",
   "id": "8e64dd69-d3b9-4ade-ba28-4d2f3f272b88",
   "metadata": {},
   "source": [
    "#### ---> it allows us to rstrict the scope or visibility of a package , class, constructor, methods , variables , or other data members\n",
    "\n",
    "#### ---> there are three types of most common access specifiers which are following:-\n",
    "\n",
    "#### ---> private modifiers:-\n",
    "#### ---> public modifiers:-\n",
    "#### ---> protected modifiers:-"
   ]
  },
  {
   "cell_type": "markdown",
   "id": "62fe567d-fd90-419a-9c93-ccc12d9a4f89",
   "metadata": {},
   "source": [
    "### 1. private modifiers:-\n",
    "\n",
    "#### ---> private modifiers means that class , variable or method is not accessible from within or outside the class , within or outside the package , etc.\n",
    "#### ---> private field or method cant be inherited to sub class.\n",
    "#### ---> this provides lowest level of accessibility."
   ]
  },
  {
   "cell_type": "markdown",
   "id": "8f6c5330-98b6-466b-9210-693d37331be3",
   "metadata": {},
   "source": [
    "### 2. public modifiers:-\n",
    "\n",
    "#### ---> public modifiers means that class , variable , or method is accessible throught from within or outside the class , within or outside the package etc.\n",
    "#### ---> it provides the highest level of accessibility."
   ]
  },
  {
   "cell_type": "markdown",
   "id": "c16cee5f-32d1-409b-a4d4-1d00b7a35ca1",
   "metadata": {},
   "source": [
    "### 3. protected modifiers:-\n",
    "\n",
    "#### ---> protected modifiers means that class , variable or method is accessible from classes in the same package, subclasses in the same package , subclasses in other package but not accessible from classes in other package."
   ]
  },
  {
   "cell_type": "markdown",
   "id": "ba5717c1-fc01-45d5-a47f-436fa33fc651",
   "metadata": {},
   "source": [
    "--------------------------------------------------------------------------------------------------------------"
   ]
  },
  {
   "cell_type": "markdown",
   "id": "897b774f-fdf8-4896-9b45-d4670a3eae2a",
   "metadata": {},
   "source": [
    "### QUE:-29 what is inharitance in oops?"
   ]
  },
  {
   "cell_type": "markdown",
   "id": "366c30f3-db81-4664-a6cf-3ec2886cfc39",
   "metadata": {},
   "source": [
    "#### ---> inheritance is the procedure in which one class inherits the attributes and meethod of another class.\n",
    "#### ---> the base class , also known as parent class.\n",
    "#### ---> the derived class also known as child class.\n",
    "\n",
    "### there are five types of inheritance in oops:-\n",
    "#### ---> 1. single level inheritance\n",
    "#### ---> 2. multilevel inheritance\n",
    "#### ---> 3. multiple inheritance\n",
    "#### ---> 4. hierarchical inheritance\n",
    "#### ---> 5. hybrid inheritance"
   ]
  },
  {
   "cell_type": "markdown",
   "id": "48a80e55-d137-45ac-8a9c-0a30dea1713c",
   "metadata": {},
   "source": [
    "-----------------------------------------------------------------------------------------------------------------"
   ]
  },
  {
   "cell_type": "markdown",
   "id": "72c4324a-58c6-43f1-9b19-2e466d7a6b9e",
   "metadata": {},
   "source": [
    "### QUE:-30 define polymorphism in oops."
   ]
  },
  {
   "cell_type": "markdown",
   "id": "109c8e0b-2449-4e1f-ba7d-5419504459fb",
   "metadata": {},
   "source": [
    "#### ---> if one task is performed in different ways , it is known as polymorphism.\n",
    "#### ---> polymorphism is an ability  of an ablject to take many forms.\n",
    "#### ---> a real time example of polymorphism , a man at the same time is a father , a husband , an employee."
   ]
  },
  {
   "cell_type": "markdown",
   "id": "e8dee7bc-9c67-4163-ad49-97f043dd8261",
   "metadata": {},
   "source": [
    "### polymorphism is mailny divided into two types:-\n",
    "\n",
    "### ---> 1. compile time polymorphism:-\n",
    "#### ---> it is also called static polymorphism or early binding.\n",
    "\n",
    "### ---> 2. run time polymorphism:-\n",
    "#### ---> it is alled dynamic polymorphism or late binding.\n"
   ]
  },
  {
   "cell_type": "markdown",
   "id": "2104672b-0f1b-4d00-acb5-c7e8e1645884",
   "metadata": {},
   "source": [
    "------------------------------------------------------------------------------------------------------------"
   ]
  },
  {
   "cell_type": "markdown",
   "id": "1f275ce6-85da-447b-b762-18bde221ef54",
   "metadata": {},
   "source": [
    "### QUE;-31 explain method overriding in python."
   ]
  },
  {
   "cell_type": "markdown",
   "id": "8778324c-f640-4fe5-a8ad-7d3129a58603",
   "metadata": {},
   "source": [
    "#### ---> method overriding is a feature that allows a subclass to provide the implementation of a method that overrides in the main class . it will override the implementation in the superclass by providing the same method name , same parrameter and same return type"
   ]
  },
  {
   "cell_type": "markdown",
   "id": "4c8f2805-6bd5-4bb7-b38c-b08817871afe",
   "metadata": {},
   "source": [
    "--------------------------------------------------------------------------------------------------------------"
   ]
  },
  {
   "cell_type": "markdown",
   "id": "22204bf1-87bd-45c8-89b4-dc2a0bb672a5",
   "metadata": {},
   "source": [
    "### QUE:-32 define a parant class animal with a method make_sound that prints \"generic animal sound\"  create a child class dog inheriting from animal with a method make_sound that print \"woof\"."
   ]
  },
  {
   "cell_type": "code",
   "execution_count": 3,
   "id": "60b8f226-2639-41a2-8cd6-f986bd5fb320",
   "metadata": {},
   "outputs": [
    {
     "name": "stdout",
     "output_type": "stream",
     "text": [
      "woof\n"
     ]
    }
   ],
   "source": [
    "class Animal:\n",
    "    def make_sound(self):\n",
    "        print(\"generic animal sound\")\n",
    "class Dog(Animal):\n",
    "    def make_sound(self):\n",
    "        print(\"woof\")\n",
    "        \n",
    "dog=Dog()\n",
    "dog.make_sound()"
   ]
  },
  {
   "cell_type": "markdown",
   "id": "d802996f-73c1-4891-8ea9-662b9a02c111",
   "metadata": {},
   "source": [
    "----------------------------------------------------------------------------------------------------------"
   ]
  },
  {
   "cell_type": "markdown",
   "id": "7047fcff-9b0d-4680-8725-4d01217ffc1f",
   "metadata": {},
   "source": [
    "### QUE:-33 define a method move in the animal class that prints \"animal moves\" , override the move method in the dog class to print \"dog runs\"."
   ]
  },
  {
   "cell_type": "code",
   "execution_count": 4,
   "id": "5a84916d-9fe5-4af3-b356-0282d09a68ea",
   "metadata": {},
   "outputs": [
    {
     "name": "stdout",
     "output_type": "stream",
     "text": [
      "dog runs\n"
     ]
    }
   ],
   "source": [
    "class Animal:\n",
    "    def move(self):\n",
    "        print(\"animal moves\")\n",
    "class Dog(Animal):\n",
    "    def move(self):\n",
    "        print(\"dog runs\")\n",
    "        \n",
    "dog=Dog()\n",
    "dog.move()"
   ]
  },
  {
   "cell_type": "markdown",
   "id": "e4e3ee04-ce2b-483d-b875-b16ee258ec78",
   "metadata": {},
   "source": [
    "### QUE:-34 create a class mammal with a method reproduces that prints \"giving birth to live young\" . create a calss dogmammal inheriting from both dog and mammal?"
   ]
  },
  {
   "cell_type": "code",
   "execution_count": 10,
   "id": "7cd4d1ea-f076-4de4-8510-2999706e5333",
   "metadata": {},
   "outputs": [
    {
     "name": "stdout",
     "output_type": "stream",
     "text": [
      "giving birth to live young\n",
      "buddy says woof\n"
     ]
    }
   ],
   "source": [
    "class Mammal:\n",
    "    def reproduce(self):\n",
    "        print(\"giving birth to live young\")\n",
    "class Dog:\n",
    "    def __init__(self,name):\n",
    "        self.name=name\n",
    "    def bark(self):\n",
    "        print(f\"{self.name} says woof\")\n",
    "class DogMammal(Mammal,Dog):\n",
    "    def __init__(self,name):\n",
    "        super().__init__(name)\n",
    "        \n",
    "DM=DogMammal(\"buddy\")\n",
    "DM.reproduce()\n",
    "DM.bark()"
   ]
  },
  {
   "cell_type": "markdown",
   "id": "2ebdbe71-4d53-4aa2-8daa-96efb7acf7a0",
   "metadata": {},
   "source": [
    "---------------------------------------------------------------------------------------------------------------"
   ]
  },
  {
   "cell_type": "markdown",
   "id": "479883cf-1225-4723-818f-f3fc98e29cc8",
   "metadata": {},
   "source": [
    "### QUE:-35 create a class germanshiphered inheriting from dog and override the make_sound method to print bark"
   ]
  },
  {
   "cell_type": "code",
   "execution_count": 13,
   "id": "8634fa43-7be0-48e8-91ea-3cae7b74e9e1",
   "metadata": {},
   "outputs": [
    {
     "name": "stdout",
     "output_type": "stream",
     "text": [
      "bark\n"
     ]
    }
   ],
   "source": [
    "class Dog:\n",
    "    def __init__(self,name):\n",
    "        self.name=name\n",
    "    def make_sound(self):\n",
    "        print(\"wooff\")\n",
    "class Germanshiphered(Dog):\n",
    "    def make_sound(self):\n",
    "        print(\"bark\") \n",
    "ger_ship=Germanshiphered(\"max\")\n",
    "ger_ship.make_sound()"
   ]
  },
  {
   "cell_type": "markdown",
   "id": "b2655600-7c30-45c8-8869-b4166cb7ad33",
   "metadata": {},
   "source": [
    "------------------------------------------------------------------------------------------------------------------"
   ]
  },
  {
   "cell_type": "markdown",
   "id": "accc3c76-16d4-4496-aeef-5b8110e37384",
   "metadata": {},
   "source": [
    "### QUE:-36 define constructor in both the animal and dog classes with different initialization parameter?"
   ]
  },
  {
   "cell_type": "code",
   "execution_count": 31,
   "id": "d824fe17-6e41-4481-a85a-6322f6b9a6d4",
   "metadata": {},
   "outputs": [
    {
     "name": "stdout",
     "output_type": "stream",
     "text": [
      "max\n",
      "buddy\n",
      "max\n",
      "golu\n"
     ]
    }
   ],
   "source": [
    "class Animal:\n",
    "    def __init__(self,species):\n",
    "        self.species=species\n",
    "\n",
    "class Dog(Animal):\n",
    "    def __init__(self,species,name):\n",
    "        super().__init__(species)\n",
    "        self.name=name\n",
    "    def make_sound(self):\n",
    "        print(\"woof\")\n",
    "        \n",
    "dog1=Dog(\"max\",\"buddy\")\n",
    "dog2=Dog(\"max\",\"golu\")\n",
    "\n",
    "print(dog1.species)\n",
    "print(dog1.name)     \n",
    "\n",
    "print(dog2.species) \n",
    "print(dog2.name)    \n"
   ]
  },
  {
   "cell_type": "markdown",
   "id": "6bf4fba2-47d3-4871-a55a-b8eebdc3a375",
   "metadata": {},
   "source": [
    "------------------------------------------------------------------------------------------------------------------"
   ]
  },
  {
   "cell_type": "markdown",
   "id": "b2055e32-bfc0-4f12-97a2-eec43e1a1ac2",
   "metadata": {},
   "source": [
    "### QUE:-37 what is abstarction in python? and how is it implimented?"
   ]
  },
  {
   "cell_type": "markdown",
   "id": "a29af940-e7bb-416a-abde-6436cd691849",
   "metadata": {},
   "source": [
    "#### ---> hiding internal details and showing functionality is known as abstraction.\n",
    "#### ---> for example:- phone call --- we dont know the internal process .\n",
    "#### ---> the code implimetation is hidden from the user and only the neccessory functionality is shown or provided to the user."
   ]
  },
  {
   "cell_type": "markdown",
   "id": "6b0345aa-c9ee-45db-a11a-7c94bf0d176c",
   "metadata": {},
   "source": [
    "--------------------------------------------------------------------------------------------------------------"
   ]
  },
  {
   "cell_type": "markdown",
   "id": "d9ee908d-3fa2-46e3-ace5-7b57bcda85d5",
   "metadata": {},
   "source": [
    "### QUE:-38 explain the importance of abstraction in object oriented programming?"
   ]
  },
  {
   "cell_type": "markdown",
   "id": "83492937-4b32-49cd-b3cc-4be0a3ae71a8",
   "metadata": {},
   "source": [
    "### Abstraction in object-oriented programming is important because it:\n",
    "\n",
    "#### 1. Manages complexity by hiding unnecessary details.\n",
    "#### 2. Encourages encapsulation for data security and integrity.\n",
    "#### 3. Promotes code reusability through inheritance.\n",
    "#### 4. Enhances modularity for easier maintenance.\n",
    "#### 5. Provides flexibility and extensibility to the codebase.\n",
    "#### 6. Simplifies code, making it easier to understand and maintain.\n",
    "\n",
    "\n",
    "\n",
    "\n",
    "\n"
   ]
  },
  {
   "cell_type": "markdown",
   "id": "092d0ad2-557d-4daa-8804-b32d391a6246",
   "metadata": {},
   "source": [
    "-----------------------------------------------------------------------------------------------------------------"
   ]
  },
  {
   "cell_type": "markdown",
   "id": "451e8d4b-0e3c-4881-81a9-783d7b38ec4d",
   "metadata": {},
   "source": [
    "### QUE:-39 how are abstract method is different from normal method in python?"
   ]
  },
  {
   "cell_type": "markdown",
   "id": "687a6aff-f05c-48bb-ae8f-5c1d27116f70",
   "metadata": {},
   "source": [
    "### ---> abstract method is different from normal method primarily in their purpose and their implementation?"
   ]
  },
  {
   "cell_type": "markdown",
   "id": "373779b0-d105-4057-84ea-81f380d74439",
   "metadata": {},
   "source": [
    "### 1. purpose:-\n",
    "\n",
    "#### ---> abstract method are define in abstract classes or interfaces to specify a method that must be implemented by any concrete subclass . they serve as placeholder or functionality that subclasses are  expected to provide .\n",
    "\n",
    "#### ---> nomal method , on the other hand are the implemented directly within a class to perform specific task or operations."
   ]
  },
  {
   "cell_type": "markdown",
   "id": "187c0ce2-2623-422b-8f8e-69828524c5e0",
   "metadata": {},
   "source": [
    "### 2. implementation-\n",
    "\n",
    "#### ---> abstract method are defined using the @abstractclass decorator from the abc module in python . they are defined in the abstract classes or inerfaces without providing an implimentaiton.\n",
    "\n",
    "#### ---> normal method are defined without any special decorator and contain block of code to perform a specific task or computation."
   ]
  },
  {
   "cell_type": "markdown",
   "id": "6dde9f14-90e8-4efd-9042-0de9b1edf65d",
   "metadata": {},
   "source": [
    "---------------------------------------------------------------------------------------------------------------"
   ]
  },
  {
   "cell_type": "markdown",
   "id": "c299c181-80f1-42d0-b718-53eb803db8ce",
   "metadata": {},
   "source": [
    "### QUE:-40 how can you achieve abstraction using interfaces in python?"
   ]
  },
  {
   "cell_type": "markdown",
   "id": "01d45dae-3cbf-420b-9f33-4fec5e7143d1",
   "metadata": {},
   "source": [
    "#### ---> in python abstracion using interfaces can be achieved using abstraction based classes from the abc module an interface in python essencially an abstract class that defines  a set of methods without providing their implementaion and subclasses of such interfaces are required to impliment all the methods define in the interface."
   ]
  },
  {
   "cell_type": "code",
   "execution_count": 3,
   "id": "8fd24445-3ce9-47c1-8daf-7a66080c8e6f",
   "metadata": {},
   "outputs": [
    {
     "name": "stdout",
     "output_type": "stream",
     "text": [
      "Circle area: 78.5\n",
      "Circle perimeter: 31.400000000000002\n",
      "Rectangle area: 24\n",
      "Rectangle perimeter: 20\n"
     ]
    }
   ],
   "source": [
    "## example\n",
    "from abc import ABC , abstractmethod\n",
    "class Shape:\n",
    "    \n",
    "    @abstractmethod\n",
    "    def area(self):\n",
    "        pass\n",
    "    \n",
    "    @abstractmethod\n",
    "    def perimeter(self):\n",
    "        pass\n",
    "    \n",
    "class Circle(Shape):\n",
    "    \n",
    "    def __init__(self,redius):\n",
    "        self.redius=redius\n",
    "        \n",
    "    def area(self):\n",
    "        return 3.14 * self.redius ** 2\n",
    "    \n",
    "    def perimeter(self):\n",
    "        return 2* 3.14 *self.redius \n",
    "    \n",
    "class Rectangle(Shape):\n",
    "    \n",
    "    def __init__(self,width,height):\n",
    "        self.width=width\n",
    "        self.height=height\n",
    "        \n",
    "    def area(self):\n",
    "        return self.width*self.height\n",
    "    \n",
    "    def perimeter(self):\n",
    "        return 2*(self.width+self.height)\n",
    "    \n",
    "\n",
    "circle = Circle(5)\n",
    "print(\"Circle area:\", circle.area())\n",
    "print(\"Circle perimeter:\", circle.perimeter())\n",
    "\n",
    "rectangle = Rectangle(4, 6)\n",
    "print(\"Rectangle area:\", rectangle.area())\n",
    "print(\"Rectangle perimeter:\", rectangle.perimeter())"
   ]
  },
  {
   "cell_type": "markdown",
   "id": "ff2cf206-f89b-4994-9d8e-8e54ff5be33e",
   "metadata": {},
   "source": [
    "-------------------------------------------------------------------------------------------------------------"
   ]
  },
  {
   "cell_type": "markdown",
   "id": "ff00045a-dbca-41a6-b0fa-4765e85eecba",
   "metadata": {},
   "source": [
    "### QUE;-41 can you provide an example of how abstraction can be utillized to create a common interface for a group of related classes in python?` "
   ]
  },
  {
   "cell_type": "code",
   "execution_count": 7,
   "id": "237c4eef-cd22-4e76-a4c4-0dbefbee67c3",
   "metadata": {},
   "outputs": [
    {
     "name": "stdout",
     "output_type": "stream",
     "text": [
      "puppy says woof\n",
      "liaa says meow\n",
      "devi says bheeee\n"
     ]
    }
   ],
   "source": [
    "from abc import ABC , abstractmethod\n",
    "\n",
    "class Animal(ABC):\n",
    "    def __init__(self,name):\n",
    "        self.name=name\n",
    "        \n",
    "    @abstractmethod\n",
    "    def speak(self):\n",
    "        pass\n",
    "\n",
    "class Dog(Animal):\n",
    "    def speak(self):\n",
    "        return f\"{self.name} says woof\"\n",
    "    \n",
    "class Cat(Animal):\n",
    "    def speak(self):\n",
    "        return f\"{self.name} says meow\"\n",
    "    \n",
    "class Cow(Animal):\n",
    "    def speak(self):\n",
    "        return f\"{self.name} says bheeee\"\n",
    "    \n",
    "dog=Dog(\"puppy\")\n",
    "print(dog.speak())\n",
    "\n",
    "cat=Cat(\"liaa\")\n",
    "print(cat.speak())\n",
    "\n",
    "cow=Cow(\"devi\")\n",
    "print(cow.speak())"
   ]
  },
  {
   "cell_type": "markdown",
   "id": "22557327-22f2-4332-b2bf-4f79dc28a58a",
   "metadata": {},
   "source": [
    "--------------------------------------------------------------------------------------------------------------"
   ]
  },
  {
   "cell_type": "markdown",
   "id": "4fcb6786-dea4-40c6-9dca-3a3fd0899ece",
   "metadata": {},
   "source": [
    "### QUE;-42 HOW DOES PYTHON ACHIEVE POLYMORPHISM THROUGH METHOD OVERRIDING?"
   ]
  },
  {
   "cell_type": "markdown",
   "id": "8a0c9a92-6579-49be-bc60-bcdfb2aacd90",
   "metadata": {},
   "source": [
    "### Python achieves polymorphism through method overriding, which is a key feature of object-oriented programming. Method overriding allows a subclass to provide a specific implementation of a method that is already defined in its superclass. When a method is called on an object, Python dynamically determines which implementation of the method to invoke based on the type of the object at runtime. This enables polymorphism, where objects of different classes can be treated uniformly if they share a common interface."
   ]
  },
  {
   "cell_type": "markdown",
   "id": "dd07467f-fd0e-4ad0-9c37-e8b290898f7e",
   "metadata": {},
   "source": [
    "#### there are some ways to achieve polymorphism:-\n",
    "\n",
    "1. inheritance\n",
    "2. method overriding\n",
    "3. dynamic dispatch\n",
    "4. polymorphism"
   ]
  },
  {
   "cell_type": "markdown",
   "id": "8fb7b26e-aa0a-4841-ad41-b82e1a3fbb6b",
   "metadata": {},
   "source": [
    "--------------------------------------------------------------------------------------------------------"
   ]
  },
  {
   "cell_type": "markdown",
   "id": "8a3120ed-af66-4c76-8804-6cdbffb8aa38",
   "metadata": {},
   "source": [
    "### QUE;-43 DEFINE A BASE CLASS WITH A METHOD AND A SUBCLASS THAT OVERRIDES THE METHOD?"
   ]
  },
  {
   "cell_type": "code",
   "execution_count": 13,
   "id": "78069195-b9c1-400d-b53b-f06f017c3f33",
   "metadata": {},
   "outputs": [
    {
     "name": "stdout",
     "output_type": "stream",
     "text": [
      "this is a shape\n",
      "this is a Circle\n"
     ]
    }
   ],
   "source": [
    "class Shape:\n",
    "    def display_info(self):\n",
    "        return \"this is a shape\"\n",
    "    \n",
    "class Circle(Shape):\n",
    "    def display_info(self):\n",
    "        return \"this is a Circle\"\n",
    "shape=Shape()\n",
    "print(shape.display_info())\n",
    "\n",
    "circle=Circle()\n",
    "print(circle.display_info())"
   ]
  },
  {
   "cell_type": "markdown",
   "id": "5dd453fb-710c-4f3c-a1df-66b4f3ebe4a2",
   "metadata": {},
   "source": [
    "----------------------------------------------------------------------------------------------------------"
   ]
  },
  {
   "cell_type": "markdown",
   "id": "a34ad222-735c-4ade-ad0f-ad55c26d6792",
   "metadata": {},
   "source": [
    "### QUE:-44 DEFINE A BASE CLASS AND MULTIPLE SUBCLASSES WITH OVERRIDDEN METHODS?"
   ]
  },
  {
   "cell_type": "code",
   "execution_count": 1,
   "id": "f31f95dc-0579-44d8-8ec4-82eeca504d5c",
   "metadata": {},
   "outputs": [
    {
     "name": "stdout",
     "output_type": "stream",
     "text": [
      "Generic animal sound\n",
      "Woof!\n",
      "Meow!\n",
      "Moo!\n"
     ]
    }
   ],
   "source": [
    "class Animal:\n",
    "    def speak(self):\n",
    "        return \"Generic animal sound\"\n",
    "\n",
    "class Dog(Animal):\n",
    "    def speak(self):\n",
    "        return \"Woof!\"\n",
    "\n",
    "class Cat(Animal):\n",
    "    def speak(self):\n",
    "        return \"Meow!\"\n",
    "\n",
    "class Cow(Animal):\n",
    "    def speak(self):\n",
    "        return \"Moo!\"\n",
    "\n",
    "\n",
    "animal = Animal()\n",
    "print(animal.speak()) \n",
    "\n",
    "dog = Dog()\n",
    "print(dog.speak())    \n",
    "\n",
    "cat = Cat()\n",
    "print(cat.speak())     \n",
    "\n",
    "cow = Cow()\n",
    "print(cow.speak())    "
   ]
  },
  {
   "cell_type": "markdown",
   "id": "e6013b52-6eee-4584-9616-21ff5248fe98",
   "metadata": {},
   "source": [
    "--------------------------------------------------------------------------------------------------------------"
   ]
  },
  {
   "cell_type": "markdown",
   "id": "3c094986-6548-415a-9ef6-560bf22f649a",
   "metadata": {},
   "source": [
    "### QUE:-45 HOW DOES POLYMORPHISM IMPROVE CODE READABILITY AND REUSABILITY?"
   ]
  },
  {
   "cell_type": "markdown",
   "id": "19cbcf6f-b42c-44bc-8c7e-75b3573a1a30",
   "metadata": {},
   "source": [
    "#### ---> Polymorphism improves code readability and reusability by promoting a more modular and flexible design."
   ]
  },
  {
   "cell_type": "markdown",
   "id": "134c8014-5a05-4640-9451-c45b358e674c",
   "metadata": {},
   "source": [
    "#### 1. Polymorphism: Treating objects of different classes through a common interface, enhancing code flexibility and readability.\n",
    "\n",
    "#### 2. Readability: Clear and understandable code structure, aided by polymorphism, making it easier to follow and comprehend.\n",
    "\n",
    "#### 3.Reusability: Using polymorphism to create reusable components, minimizing code duplication and promoting modular design.\n",
    "\n",
    "#### 4.Flexibility: Easily accommodating changes and additions to the codebase without altering existing code, thanks to polymorphism."
   ]
  },
  {
   "cell_type": "markdown",
   "id": "2f14c95f-8379-4401-88d2-63268359d75d",
   "metadata": {},
   "source": [
    "------------------------------------------------------------------------------------------------------------"
   ]
  },
  {
   "cell_type": "markdown",
   "id": "304b1078-1922-4575-890b-72c3525acca8",
   "metadata": {},
   "source": [
    "### QUE;-46 descibe how python support polymopphism with duck typing"
   ]
  },
  {
   "cell_type": "markdown",
   "id": "fdf7115f-ac9d-4cba-bc08-24fc2dc32dd8",
   "metadata": {},
   "source": [
    "### Python supports polymorphism with duck typing by allowing objects to be treated based on their behavior rather than their type or class."
   ]
  },
  {
   "cell_type": "markdown",
   "id": "b774ae31-038e-4d8d-843d-47abad88dd25",
   "metadata": {},
   "source": [
    "#### Dynamic Typing: Python determines object types at runtime, allowing different types to be used interchangeably.\n",
    "No Explicit \n",
    "\n",
    "#### Interfaces: Python focuses on object behavior rather than explicit interfaces or inheritance.\n",
    "\n",
    "#### Attribute Checking: Duck typing checks for specific attributes or methods on objects, enabling flexible usage based on behavior.\n",
    "\n",
    "#### Polymorphism: Objects of different types can respond to the same method calls interchangeably, promoting code flexibility and reusability.\n",
    "\n",
    "\n",
    "\n",
    "\n",
    "\n"
   ]
  },
  {
   "cell_type": "markdown",
   "id": "66572094-97e3-480f-9c20-3c5a7b5ae9b7",
   "metadata": {},
   "source": [
    "--------------------------------------------------------------------------------------------------------------"
   ]
  },
  {
   "cell_type": "markdown",
   "id": "ab6c6f23-5c38-4165-b5b5-cd56bb3a9c0e",
   "metadata": {},
   "source": [
    "### QUE;-47 how do you achieve encapsulation in python?"
   ]
  },
  {
   "cell_type": "markdown",
   "id": "730f128d-70cd-4312-a48e-64d5f558c255",
   "metadata": {},
   "source": [
    "#### Classes: Use classes to group data and methods together, forming a unit of encapsulation.\n",
    "\n",
    "#### Access Modifiers: Simulate access control with naming conventions:\n",
    "            Public attributes/methods: No prefix (default).\n",
    "            Protected attributes/methods: Prefix with a single underscore _.\n",
    "            Private attributes/methods: Prefix with a double underscore __.\n",
    "\n",
    "#### Getter and Setter Methods: Use methods to access and modify attributes, promoting encapsulation by controlling access to internal state."
   ]
  },
  {
   "cell_type": "code",
   "execution_count": 3,
   "id": "0454d107-4bf3-4930-bc75-13b9e572cc90",
   "metadata": {},
   "outputs": [
    {
     "name": "stdout",
     "output_type": "stream",
     "text": [
      "Toyota\n",
      "Camry\n",
      "Toyota\n",
      "Camry\n"
     ]
    }
   ],
   "source": [
    "#exammple:-\n",
    "class Car:\n",
    "    def __init__(self, make, model):\n",
    "        self._make = make           # Protected attribute\n",
    "        self.__model = model        # Private attribute\n",
    "\n",
    "    def get_make(self):\n",
    "        return self._make\n",
    "\n",
    "    def set_model(self, model):\n",
    "        self.__model = model\n",
    "\n",
    "    def get_model(self):\n",
    "        return self.__model\n",
    "\n",
    "my_car = Car(\"Toyota\", \"Camry\")\n",
    "print(my_car.get_make())        \n",
    "print(my_car.get_model())    \n",
    "\n",
    "print(my_car._make)             \n",
    "\n",
    "print(my_car._Car__model)       \n",
    "\n"
   ]
  },
  {
   "cell_type": "markdown",
   "id": "7498cb67-cffe-4215-b0a5-e695fffe56a1",
   "metadata": {},
   "source": [
    "------------------------------------------------------------------------------------------------------------"
   ]
  },
  {
   "cell_type": "markdown",
   "id": "bb9e6b88-e777-4fd8-adf1-2a5a1e84f82a",
   "metadata": {},
   "source": [
    "### QUE;-48 can encapsulation be bypassed in python ? if so how?"
   ]
  },
  {
   "cell_type": "markdown",
   "id": "b9c6fa09-0820-4dbb-af37-734b7b29acb3",
   "metadata": {},
   "source": [
    "#### Accessing Protected Attributes/Methods: Protected attributes or methods (prefixed with a single underscore _) can be accessed directly from outside the class, although it's discouraged.\n",
    "\n",
    "#### Accessing Private Attributes/Methods: Private attributes or methods (prefixed with a double underscore __) can be accessed indirectly by name mangling or using getattr() and setattr() functions, but it's discouraged as it violates encapsulation.\n",
    "\n",
    "#### Using getattr() and setattr(): These built-in functions can access or modify attributes dynamically, bypassing encapsulation checks, but their usage should be carefully considered to maintain code integrity."
   ]
  },
  {
   "cell_type": "markdown",
   "id": "74025823-f2d8-44f4-ad57-aacd7972ee49",
   "metadata": {},
   "source": [
    "-------------------------------------------------------------------------------------------------------------"
   ]
  },
  {
   "cell_type": "markdown",
   "id": "692e287c-e255-4ca1-84b3-750f7635d420",
   "metadata": {},
   "source": [
    "### QUE;-49 impliment a class bankaccount with a private balance attributes . include method to deposite , withdraw and check the balance ."
   ]
  },
  {
   "cell_type": "code",
   "execution_count": 12,
   "id": "e1510909-28e5-45c6-aab3-6c466934b3f4",
   "metadata": {},
   "outputs": [
    {
     "name": "stdout",
     "output_type": "stream",
     "text": [
      "current balance=$1000\n",
      "depositd ammount $500\n",
      "current balance=$1500\n",
      "invalid ammount \n",
      "withdraw successfull $200\n",
      "current balance=$1300\n"
     ]
    }
   ],
   "source": [
    "class BankAccount:\n",
    "    def __init__(self,initial_balance=1000):\n",
    "        self.__balance=initial_balance\n",
    "        \n",
    "    def deposite(self,amount):\n",
    "        if amount > 0:\n",
    "            self.__balance+=amount\n",
    "            print(f\"depositd ammount ${amount}\")\n",
    "        else:\n",
    "            print(\"invalid ammount\")\n",
    "            \n",
    "    def withdraw(self,amount):\n",
    "        if 0<amount<=self.__balance:\n",
    "            self.__balance-=amount\n",
    "            print(f\"withdraw successfull ${amount}\")\n",
    "        else:\n",
    "            print(\"invalid ammount \")\n",
    "            \n",
    "    def check_balance(self):\n",
    "        print(f\"current balance=${self.__balance}\")\n",
    "        \n",
    "account=BankAccount()\n",
    "account.check_balance()\n",
    "account.deposite(500)\n",
    "account.check_balance()\n",
    "account.withdraw(2000)\n",
    "account.withdraw(200)\n",
    "account.check_balance()"
   ]
  },
  {
   "cell_type": "markdown",
   "id": "43adb7db-92da-46e4-ae3a-b0c96d112deb",
   "metadata": {},
   "source": [
    "---------------------------------------------------------------------------------------------------------------"
   ]
  },
  {
   "cell_type": "markdown",
   "id": "be01455d-da4e-42a2-aa09-8940bdfde8a2",
   "metadata": {},
   "source": [
    "### QUE;-50 develop a person class with a private attribute name and email, and methods to set and get email."
   ]
  },
  {
   "cell_type": "code",
   "execution_count": 23,
   "id": "62c60926-8195-453b-b824-61404f5acd1c",
   "metadata": {},
   "outputs": [
    {
     "name": "stdout",
     "output_type": "stream",
     "text": [
      "mahaveer\n",
      "veer@123\n",
      "veer@123\n"
     ]
    },
    {
     "data": {
      "text/plain": [
       "'maha@123'"
      ]
     },
     "execution_count": 23,
     "metadata": {},
     "output_type": "execute_result"
    }
   ],
   "source": [
    "class Person:\n",
    "    \n",
    "    def __init__(self,name,email):\n",
    "        self.__name=name\n",
    "        self.__email=email\n",
    "    \n",
    "    def set_email(self,email):\n",
    "        self.__email=email\n",
    "        \n",
    "    def get_email(self):\n",
    "        return self.__email\n",
    "    \n",
    "person=Person(\"mahaveer\",\"veer@123\")\n",
    "print(person._Person__name)\n",
    "print(person._Person__email)\n",
    "print(person.get_email())\n",
    "\n",
    "person.set_email(\"maha@123\")\n",
    "person.get_email()"
   ]
  },
  {
   "cell_type": "markdown",
   "id": "a3ef0737-ab27-4d95-84e4-0f58a286eeb9",
   "metadata": {},
   "source": [
    "-------------------------------------------------------------------------------------------------------------"
   ]
  },
  {
   "cell_type": "markdown",
   "id": "4c0b59b2-76a9-455e-86f9-e7eb9312c9c0",
   "metadata": {},
   "source": [
    "### QUE;-51 why is encapsulation consider a piller of object oriented programming?"
   ]
  },
  {
   "cell_type": "markdown",
   "id": "2f7488ec-a0a0-46c9-9c2f-4ba4ead8bd4c",
   "metadata": {},
   "source": [
    "#### Abstraction: Encapsulation hides internal details, presenting only essential information through well-defined interfaces.\n",
    "\n",
    "#### Modularity: It promotes breaking down systems into manageable components (classes), facilitating code reuse and maintenance.\n",
    "\n",
    "#### Information Hiding: Encapsulation restricts direct access to an object's internal state, ensuring data integrity and reducing unintended side effects.\n",
    "\n",
    "#### Encapsulation and Inheritance: It seamlessly integrates with inheritance, allowing subclasses to inherit behavior while encapsulating their own data, promoting code reusability and extensibility."
   ]
  },
  {
   "cell_type": "markdown",
   "id": "2a7e0513-8bc8-4e2c-b95f-0df5c66bad5b",
   "metadata": {},
   "source": [
    "--------------------------------------------------------------------------------------------------------------"
   ]
  },
  {
   "cell_type": "markdown",
   "id": "fc6d817d-45ce-4e19-aabc-2325572452e1",
   "metadata": {},
   "source": [
    "### QUE:-52 create a decorator in python that adds functionality to simple fucntion by printing a messege before and after the fucntion execution?"
   ]
  },
  {
   "cell_type": "code",
   "execution_count": 1,
   "id": "c820decd-1f4a-4081-9826-79cf0f502ef3",
   "metadata": {},
   "outputs": [
    {
     "name": "stdout",
     "output_type": "stream",
     "text": [
      "Before function execution\n",
      "Inside simple function\n",
      "After function execution\n"
     ]
    }
   ],
   "source": [
    "def decorator(func):\n",
    "    def wrapper():\n",
    "        print(\"Before function execution\")\n",
    "        func()\n",
    "        print(\"After function execution\")\n",
    "    return wrapper\n",
    "\n",
    "@decorator\n",
    "def simple_function():\n",
    "    print(\"Inside simple function\")\n",
    "\n",
    "simple_function()\n"
   ]
  },
  {
   "cell_type": "markdown",
   "id": "4bc9e826-0217-427f-9de5-9cc3c2151deb",
   "metadata": {},
   "source": [
    "----------------------------------------------------------------------------------------------------------"
   ]
  },
  {
   "cell_type": "markdown",
   "id": "6a6b35eb-dd57-47c4-8cff-9843267f8324",
   "metadata": {},
   "source": [
    "### QUE:-53 modify the decorator to accept arguments and print the function name along with the message?"
   ]
  },
  {
   "cell_type": "code",
   "execution_count": 8,
   "id": "7681ea91-4a5c-47e1-8a81-1685ad79ae9f",
   "metadata": {},
   "outputs": [
    {
     "name": "stdout",
     "output_type": "stream",
     "text": [
      "Calling example_function - Executing...\n",
      "Inside the example function\n",
      "Calling example_function - Executing...\n"
     ]
    }
   ],
   "source": [
    "def custom_decorator(message):\n",
    "    def decorator(func):\n",
    "        def wrapper():\n",
    "            print(f\"Calling {func.__name__} - {message}\")\n",
    "            func()\n",
    "            print(f\"Calling {func.__name__} - {message}\")\n",
    "        return wrapper\n",
    "    return decorator\n",
    "\n",
    "@custom_decorator(\"Executing...\")\n",
    "def example_function():\n",
    "    print(\"Inside the example function\")\n",
    "\n",
    "example_function()\n"
   ]
  },
  {
   "cell_type": "markdown",
   "id": "44822fe8-4ef0-4822-8772-81fcf8fae69e",
   "metadata": {},
   "source": [
    "---------------------------------------------------------------------------------------------------------"
   ]
  },
  {
   "cell_type": "markdown",
   "id": "50fdbac4-8575-4932-a058-2eee26b3c3d1",
   "metadata": {},
   "source": [
    "### QUE;-54 create two decorators and apply them to a single function ensure that they execute in the order they are applied."
   ]
  },
  {
   "cell_type": "code",
   "execution_count": 3,
   "id": "a49a9573-f99b-4417-9f4f-60bbb4b45d23",
   "metadata": {},
   "outputs": [
    {
     "name": "stdout",
     "output_type": "stream",
     "text": [
      "first decorator execute\n",
      "secondt decorator execute\n",
      "inside the example function\n"
     ]
    }
   ],
   "source": [
    "def first_decorator(func):\n",
    "    def wrapper():\n",
    "        print(\"first decorator execute\")\n",
    "        func()\n",
    "    return wrapper\n",
    "    \n",
    "def second_decorator(func):\n",
    "    def wrapper():\n",
    "        print(\"secondt decorator execute\")\n",
    "        func()\n",
    "    return wrapper\n",
    "\n",
    "@first_decorator\n",
    "@second_decorator\n",
    "def example_function():\n",
    "    print(\"inside the example function\")\n",
    "\n",
    "example_function()"
   ]
  },
  {
   "cell_type": "markdown",
   "id": "13d9a566-70c8-47ef-aa27-be6d065c73dc",
   "metadata": {},
   "source": [
    "----------------------------------------------------------------------------------------------------------------"
   ]
  },
  {
   "cell_type": "markdown",
   "id": "efc38a0a-5f9f-421f-915c-5d3b6ec160eb",
   "metadata": {},
   "source": [
    "### QUE;-55 modify the decorator to accept and pass functon arguments to the wrapped function."
   ]
  },
  {
   "cell_type": "code",
   "execution_count": 9,
   "id": "26cddeb6-bbbd-47fa-9a38-01c4745f139d",
   "metadata": {},
   "outputs": [
    {
     "name": "stdout",
     "output_type": "stream",
     "text": [
      "first decorator execute\n",
      "secondt decorator execute\n",
      "inside the example function\n",
      "arguments= hello world\n"
     ]
    }
   ],
   "source": [
    "def first_decorator(func):\n",
    "    def wrapper(x,y):\n",
    "        print(\"first decorator execute\")\n",
    "        func(x,y)\n",
    "    return wrapper\n",
    "    \n",
    "def second_decorator(func):\n",
    "    def wrapper(x,y):\n",
    "        print(\"secondt decorator execute\")\n",
    "        func(x,y)\n",
    "    return wrapper\n",
    "\n",
    "@first_decorator\n",
    "@second_decorator\n",
    "def example_function(x,y):\n",
    "    print(\"inside the example function\")\n",
    "    print(\"arguments=\",x,y)\n",
    "\n",
    "example_function(\"hello\",\"world\")"
   ]
  },
  {
   "cell_type": "markdown",
   "id": "2fe347b3-0aa5-49df-8fdf-8b9a30b22f7f",
   "metadata": {},
   "source": [
    "------------------------------------------------------------------------------------------------------------"
   ]
  },
  {
   "cell_type": "markdown",
   "id": "c2b77354-6a7a-4e25-ae8a-1f8a2b567aa1",
   "metadata": {},
   "source": [
    "### QUE;-56 create a decorator that preserves the metadata of the original function"
   ]
  },
  {
   "cell_type": "code",
   "execution_count": 3,
   "id": "6c883a0f-67f1-4802-984b-33d401632dc5",
   "metadata": {},
   "outputs": [
    {
     "name": "stdout",
     "output_type": "stream",
     "text": [
      "function name = example_function\n",
      "docstring =  this is an example function \n"
     ]
    }
   ],
   "source": [
    "from functools import wraps\n",
    "def metadata(func):\n",
    "    def wrapper(x,y):\n",
    "        print(\"preserving matadata\")\n",
    "        func(x,y)\n",
    "    wrapper=wraps(func)(wrapper)\n",
    "    return wrapper\n",
    "@metadata\n",
    "def example_function():\n",
    "    \"\"\" this is an example function \"\"\"\n",
    "    print(\"inside the example function\")\n",
    "    \n",
    "print(\"function name =\",example_function.__name__)\n",
    "print(\"docstring =\",example_function.__doc__)"
   ]
  },
  {
   "cell_type": "markdown",
   "id": "4169f2af-1ba1-489e-a5d3-1305e6521180",
   "metadata": {},
   "source": [
    "---------------------------------------------------------------------------------------------------------------"
   ]
  },
  {
   "cell_type": "markdown",
   "id": "f6c66874-7652-491e-84ef-6d0e7672f6d3",
   "metadata": {},
   "source": [
    "### QUE:-57 create a python class 'calculator' with a static method 'add' that takes in two numbers and returns their sum"
   ]
  },
  {
   "cell_type": "code",
   "execution_count": 6,
   "id": "f48ef61d-2862-47c1-886d-77824006fe96",
   "metadata": {},
   "outputs": [
    {
     "data": {
      "text/plain": [
       "12"
      ]
     },
     "execution_count": 6,
     "metadata": {},
     "output_type": "execute_result"
    }
   ],
   "source": [
    "class Calculator:\n",
    "    \n",
    "    @staticmethod\n",
    "    def add(x,y):\n",
    "        return x+y\n",
    "Calculator.add(9,3)"
   ]
  },
  {
   "cell_type": "markdown",
   "id": "bba15f15-cbc2-4e35-b2da-ecd56065d409",
   "metadata": {},
   "source": [
    "-------------------------------------------------------------------------------------------------------"
   ]
  },
  {
   "cell_type": "markdown",
   "id": "4d993405-48e0-4e66-93cb-0511d28cbdc7",
   "metadata": {},
   "source": [
    "### QUE;-58 create a python class employe with a classmethod get_employee_counts that returns the total number of employee created"
   ]
  },
  {
   "cell_type": "code",
   "execution_count": 9,
   "id": "b6f8aa9c-c30c-4c65-9944-ab177342951f",
   "metadata": {},
   "outputs": [
    {
     "data": {
      "text/plain": [
       "4"
      ]
     },
     "execution_count": 9,
     "metadata": {},
     "output_type": "execute_result"
    }
   ],
   "source": [
    "class Employe:\n",
    "    \n",
    "    total_employe=0\n",
    "    \n",
    "    def __init__(self,name):\n",
    "        self.name=name\n",
    "        Employe.total_employe+=1\n",
    "     \n",
    "    @classmethod\n",
    "    def get_employe_count(cls):\n",
    "        return cls.total_employe\n",
    "    \n",
    "emp1=Employe(\"mahaveer\")\n",
    "emp2=Employe(\"ajay\")\n",
    "emp3=Employe(\"bhavesh\")\n",
    "emp4=Employe(\"kevin\")\n",
    "\n",
    "Employe.get_employe_count()"
   ]
  },
  {
   "cell_type": "markdown",
   "id": "1f8e7d60-6f98-4233-8f7c-c319b59a9239",
   "metadata": {},
   "source": [
    "----------------------------------------------------------------------------------------------------------"
   ]
  },
  {
   "cell_type": "markdown",
   "id": "71ed7da0-6d2d-4896-8e69-f16e2f749912",
   "metadata": {},
   "source": [
    "### QUE:-59 create a python class 'stringformatter' with a static method 'reverse_string' that takes a string as input and returns its reverse  "
   ]
  },
  {
   "cell_type": "code",
   "execution_count": 10,
   "id": "8dbcb9f1-bad4-4fbb-ba8e-90e5c15c56e4",
   "metadata": {},
   "outputs": [
    {
     "data": {
      "text/plain": [
       "'sllikswpolleh'"
      ]
     },
     "execution_count": 10,
     "metadata": {},
     "output_type": "execute_result"
    }
   ],
   "source": [
    "class Stringformatter:\n",
    "    \n",
    "    @staticmethod\n",
    "    def reverse_string(input_string):\n",
    "        return input_string[::-1]\n",
    "\n",
    "Stringformatter.reverse_string(\"hellopwskills\")\n"
   ]
  },
  {
   "cell_type": "markdown",
   "id": "0965364a-b1b4-4c0a-bb80-be0ca395da6a",
   "metadata": {},
   "source": [
    "--------------------------------------------------------------------------------------------------------"
   ]
  },
  {
   "cell_type": "markdown",
   "id": "2ed89894-de5a-495f-ac6d-e37fed80d300",
   "metadata": {},
   "source": [
    "### QUE:-60 create a python class circle with a class method 'calculate_area' that calculates a area of circle given its radious "
   ]
  },
  {
   "cell_type": "code",
   "execution_count": 11,
   "id": "a6cd803b-e9d2-4a43-a58c-687fad3a18d4",
   "metadata": {},
   "outputs": [
    {
     "data": {
      "text/plain": [
       "78.5"
      ]
     },
     "execution_count": 11,
     "metadata": {},
     "output_type": "execute_result"
    }
   ],
   "source": [
    "class Circle:\n",
    "    \n",
    "    @classmethod\n",
    "    def calculate_area(cls,redius):\n",
    "        return 3.14 * redius**2\n",
    "\n",
    "Circle.calculate_area(5)"
   ]
  },
  {
   "cell_type": "markdown",
   "id": "fbe5da57-e171-4695-8de2-87df0cf0a55d",
   "metadata": {},
   "source": [
    "-----------------------------------------------------------------------------------------------------------"
   ]
  },
  {
   "cell_type": "markdown",
   "id": "65f5c1db-546a-49a3-9b17-62f929d613ff",
   "metadata": {},
   "source": [
    "### QUE;-61 create a python class 'Tempratureconvertor' with a static method 'ceksius_to_fahrenheit' that convert celsius to fahrenheit."
   ]
  },
  {
   "cell_type": "code",
   "execution_count": 12,
   "id": "44928454-0842-4a90-866c-76d4bd6581ba",
   "metadata": {},
   "outputs": [
    {
     "data": {
      "text/plain": [
       "50.0"
      ]
     },
     "execution_count": 12,
     "metadata": {},
     "output_type": "execute_result"
    }
   ],
   "source": [
    "class Tempratureconvertor:\n",
    "    \n",
    "    @staticmethod\n",
    "    def celsius_to_fahrenheit(celsius):\n",
    "        return (celsius * 9/5) + 32\n",
    "\n",
    "Tempratureconvertor.celsius_to_fahrenheit(10)"
   ]
  },
  {
   "cell_type": "markdown",
   "id": "0fc09890-1b0f-4aad-ade2-0d7159dd5c62",
   "metadata": {},
   "source": [
    "--------------------------------------------------------------------------------------------------------------"
   ]
  },
  {
   "cell_type": "markdown",
   "id": "e18e6e58-da9e-47c1-b4ee-e7223a13ee30",
   "metadata": {},
   "source": [
    "### QUE:-62 what is the purpose of the __str__() method in python classes. providing an example."
   ]
  },
  {
   "cell_type": "markdown",
   "id": "6c11e6ff-e519-470c-9fe9-c4a90b155473",
   "metadata": {},
   "source": [
    "#### ---> This method is called when the str() function is used on an instance of the class. It should return a string representation of the object.+"
   ]
  },
  {
   "cell_type": "markdown",
   "id": "f06fc9b0-1fb9-4158-a61a-dcb56f395e1b",
   "metadata": {},
   "source": [
    "#### ---> The str() method in Python classes is used to define how an object should be represented as a string when it's converted using the str() function or when it's printed using print()."
   ]
  },
  {
   "cell_type": "code",
   "execution_count": 13,
   "id": "446a13bf-4ef1-44c2-af9d-7286aaa04da5",
   "metadata": {},
   "outputs": [
    {
     "name": "stdout",
     "output_type": "stream",
     "text": [
      "2020 Toyota Camry\n",
      "2020 Toyota Camry\n"
     ]
    }
   ],
   "source": [
    "class Car:\n",
    "    def __init__(self, make, model, year):\n",
    "        self.make = make\n",
    "        self.model = model\n",
    "        self.year = year\n",
    "    \n",
    "    def __str__(self):\n",
    "        return f\"{self.year} {self.make} {self.model}\"\n",
    "\n",
    "my_car = Car(\"Toyota\", \"Camry\", 2020)\n",
    "\n",
    "print(my_car) \n",
    "print(str(my_car)) "
   ]
  },
  {
   "cell_type": "markdown",
   "id": "0abc1c3e-312f-43a0-9f54-4372a2c2405d",
   "metadata": {},
   "source": [
    "--------------------------------------------------------------------------------------------------------"
   ]
  },
  {
   "cell_type": "markdown",
   "id": "68c55627-7cc2-4c46-bacd-566f06e750ae",
   "metadata": {},
   "source": [
    "### QUE:-63 how does the len() method work in python provide an example."
   ]
  },
  {
   "cell_type": "markdown",
   "id": "d2ee4de7-ff2f-462d-b7d3-59aee0b5d37e",
   "metadata": {},
   "source": [
    "#### ---> The __len__() method in Python is a special method that allows objects to customize the behavior of the len() function when called on them. By defining __len__(), you can specify how the length of an object should be calculated."
   ]
  },
  {
   "cell_type": "code",
   "execution_count": 15,
   "id": "05b65d69-6333-4597-b354-67c4f58db4e1",
   "metadata": {},
   "outputs": [
    {
     "name": "stdout",
     "output_type": "stream",
     "text": [
      "Length of my_list: 5\n"
     ]
    }
   ],
   "source": [
    "class MyList:\n",
    "    def __init__(self, data):\n",
    "        self.data = data\n",
    "    \n",
    "    def __len__(self):\n",
    "        return len(self.data)\n",
    "    \n",
    "my_list = MyList([1, 2, 3, 4, 5])\n",
    "\n",
    "print(\"Length of my_list:\", len(my_list))  \n"
   ]
  },
  {
   "cell_type": "markdown",
   "id": "3dc1236a-252f-4feb-897e-6a45d4c5736b",
   "metadata": {},
   "source": [
    "----------------------------------------------------------------------------------------------------------"
   ]
  },
  {
   "cell_type": "markdown",
   "id": "a6858da0-d73b-4b93-acbd-433467fd3742",
   "metadata": {},
   "source": [
    "### QUE:-64 explain the uses of the add() method in python classes. provide an example."
   ]
  },
  {
   "cell_type": "markdown",
   "id": "c6a613ce-60f1-4240-8081-2962d016fed1",
   "metadata": {},
   "source": [
    "#### ---> The __add__() method in Python is a special method that allows objects to define how the addition operation (+) should be performed on them. It enables you to customize the behavior of the addition operation for instances of your class."
   ]
  },
  {
   "cell_type": "code",
   "execution_count": 18,
   "id": "732d5efe-c7a4-43bc-b996-541faa877f68",
   "metadata": {},
   "outputs": [
    {
     "name": "stdout",
     "output_type": "stream",
     "text": [
      "4 6\n"
     ]
    }
   ],
   "source": [
    "class Add:\n",
    "    \n",
    "    def __init__(self,x,y):\n",
    "        self.x=x\n",
    "        self.y=y\n",
    "    \n",
    "    def __add__(self,other):\n",
    "        return Add(self.x+other.x , self.y+other.y)\n",
    "    \n",
    "a1=Add(1,2)\n",
    "a2=Add(3,4)\n",
    "a3=a1+a2\n",
    "print(a3.x,a3.y)"
   ]
  },
  {
   "cell_type": "markdown",
   "id": "99f26fcc-231d-473e-987b-25be18c822f4",
   "metadata": {},
   "source": [
    "----------------------------------------------------------------------------------------------------------"
   ]
  },
  {
   "cell_type": "markdown",
   "id": "d60fb3dc-9a03-42cb-a3a1-8517b9476966",
   "metadata": {},
   "source": [
    "### QUE:-65 what is the purpose of __getitem__() method in python. provider an example."
   ]
  },
  {
   "cell_type": "markdown",
   "id": "e459d8c0-5217-4128-9622-894898135c8c",
   "metadata": {},
   "source": [
    "#### ---> The primary purpose of __getitem__() is to provide a way to access elements or slices of data stored in an object in a customized manner."
   ]
  },
  {
   "cell_type": "code",
   "execution_count": 19,
   "id": "8e5d451b-fc19-4606-9131-0209d38923d5",
   "metadata": {},
   "outputs": [
    {
     "name": "stdout",
     "output_type": "stream",
     "text": [
      "Element at index 0: 1\n",
      "Element at index 3: 4\n",
      "Slice from index 1 to 3: [2, 3, 4]\n"
     ]
    }
   ],
   "source": [
    "class MyList:\n",
    "    def __init__(self, data):\n",
    "        self.data = data\n",
    "    \n",
    "    def __getitem__(self, index):\n",
    "        return self.data[index]\n",
    "\n",
    "my_list = MyList([1, 2, 3, 4, 5])\n",
    "\n",
    "print(\"Element at index 0:\", my_list[0])  \n",
    "print(\"Element at index 3:\", my_list[3])  \n",
    "print(\"Slice from index 1 to 3:\", my_list[1:4]) "
   ]
  },
  {
   "cell_type": "markdown",
   "id": "e099c9f5-fe19-46d8-82a3-09077b388cec",
   "metadata": {},
   "source": [
    "-----------------------------------------------------------------------------------------------------------------"
   ]
  },
  {
   "cell_type": "markdown",
   "id": "567f6a9f-f4e1-436a-8c07-eea7cfe2b654",
   "metadata": {},
   "source": [
    "### QUE;- 66 explain the uses of the __iter__() and __next__() methods in python . provide an example using the iterator."
   ]
  },
  {
   "cell_type": "markdown",
   "id": "2fdbd47e-9fc9-4b9e-88c3-b561178ceb1b",
   "metadata": {},
   "source": [
    "#### ---> iter() method: It returns an iterator object from an iterable. When you pass an iterable (such as a list, tuple, or string) to the iter() method, it returns an iterator object that allows you to iterate over the elements of the iterable."
   ]
  },
  {
   "cell_type": "markdown",
   "id": "f3c5d2bb-f205-4e7b-9a60-fd38550e8824",
   "metadata": {},
   "source": [
    "#### ---> next() method: It retrieves the next item from an iterator. When you call next() on an iterator object, it returns the next item in the sequence. If there are no more items left, it raises a StopIteration exception."
   ]
  },
  {
   "cell_type": "code",
   "execution_count": 22,
   "id": "907ba179-2303-4959-bc5c-5d030714ab5d",
   "metadata": {},
   "outputs": [
    {
     "name": "stdout",
     "output_type": "stream",
     "text": [
      "1\n",
      "2\n",
      "3\n",
      "4\n",
      "5\n"
     ]
    }
   ],
   "source": [
    "class MyIterator:\n",
    "    def __init__(self, data):\n",
    "        self.data = data\n",
    "        self.index = 0\n",
    "    \n",
    "    def __iter__(self):\n",
    "        return self\n",
    "    \n",
    "    def __next__(self):\n",
    "        if self.index < len(self.data):\n",
    "            value = self.data[self.index]\n",
    "            self.index += 1\n",
    "            return value\n",
    "        else:\n",
    "            raise StopIteration\n",
    "\n",
    "my_iterator = MyIterator([1, 2, 3, 4, 5])\n",
    "\n",
    "iterator_obj = iter(my_iterator)\n",
    "\n",
    "print(next(iterator_obj))\n",
    "print(next(iterator_obj))  \n",
    "print(next(iterator_obj)) \n",
    "print(next(iterator_obj)) \n",
    "print(next(iterator_obj))  \n"
   ]
  },
  {
   "cell_type": "markdown",
   "id": "05ae4f39-f8cf-4b79-bc03-90a113a15ce2",
   "metadata": {},
   "source": [
    "-----------------------------------------------------------------------------------------------------------"
   ]
  },
  {
   "cell_type": "markdown",
   "id": "4359aee2-96fd-4d0b-908f-4a5f0dbf57d7",
   "metadata": {},
   "source": [
    "### QUE;-67 what is the purpose of getter method in python . provide an example demonstrating the use of getter method using property decorator. "
   ]
  },
  {
   "cell_type": "markdown",
   "id": "7170a9b1-e507-4ec0-9a1f-557259ae1fe5",
   "metadata": {},
   "source": [
    "#### ---> In Python, a getter method, also known as a getter function, is a method used to retrieve the value of an attribute of an object. It allows you to encapsulate access to object attributes, providing a controlled way to access them. Getter methods are often used to enforce data encapsulation and maintain the integrity of object attributes."
   ]
  },
  {
   "cell_type": "code",
   "execution_count": 9,
   "id": "78e9ce89-5f4a-4924-829a-5a7dc4474083",
   "metadata": {},
   "outputs": [
    {
     "name": "stdout",
     "output_type": "stream",
     "text": [
      "Radius of the circle: 5\n"
     ]
    }
   ],
   "source": [
    "class Circle:\n",
    "    def __init__(self, radius):\n",
    "        self._radius = radius \n",
    "    \n",
    "    @property\n",
    "    def radius(self):\n",
    "        return self._radius\n",
    "\n",
    "\n",
    "my_circle = Circle(5)\n",
    "\n",
    "print(\"Radius of the circle:\", my_circle.radius)\n"
   ]
  },
  {
   "cell_type": "markdown",
   "id": "2468d441-d8e3-49ad-bf94-5266ace9f2bd",
   "metadata": {},
   "source": [
    "-----------------------------------------------------------------------------------------------"
   ]
  },
  {
   "cell_type": "markdown",
   "id": "1bcf0fa5-7507-4841-b335-8bf5f504119f",
   "metadata": {},
   "source": [
    "### QUE:-68 explain the role of setter method in python . demostrate how to use setter method to modify a class attribute using property decoders"
   ]
  },
  {
   "cell_type": "markdown",
   "id": "723d67f6-1706-4597-955b-6bfe37fb8268",
   "metadata": {},
   "source": [
    "#### --->  a setter method is used to modify the value of a class attribute in a controlled manner. It allows you to encapsulate the logic for setting the value of an attribute, enabling validation, error checking, or any other custom behavior before assigning a new value."
   ]
  },
  {
   "cell_type": "code",
   "execution_count": null,
   "id": "d8e779e9-8b44-4906-adc9-b0e0f0b65095",
   "metadata": {},
   "outputs": [],
   "source": [
    "class Circle:\n",
    "    def __init__(self, radius):\n",
    "        self._radius = radius  \n",
    "    \n",
    "    @property\n",
    "    def radius(self):\n",
    "        return self._radius\n",
    "    \n",
    "    @radius.setter\n",
    "    def radius_set(self, radius_new):\n",
    "        self._radius = radius_new\n",
    "\n",
    "my_circle = Circle(5)\n",
    "\n",
    "print(my_circle.radius)\n",
    "\n",
    "my_circle.radius_set=10\n",
    "\n",
    "my_circle.radius\n"
   ]
  },
  {
   "cell_type": "markdown",
   "id": "398989f8-37b0-44c7-8f18-752382f7a80f",
   "metadata": {},
   "source": [
    "---------------------------------------------------------------------------------------------------"
   ]
  },
  {
   "cell_type": "markdown",
   "id": "620928dc-4af8-4710-931f-6ae68815044e",
   "metadata": {},
   "source": [
    "### QUE:-69 what is the purpose of the property decoder in python . providing an example illustrating its usage "
   ]
  },
  {
   "cell_type": "markdown",
   "id": "3bf0eb14-d288-4e40-a2d9-50a4be764f25",
   "metadata": {},
   "source": [
    "#### --->  the property decorator is used to create properties, which are special attributes that have getter, setter, and deleter methods associated with them."
   ]
  },
  {
   "cell_type": "code",
   "execution_count": 10,
   "id": "11ab254f-d815-421d-b98a-3e55e0121ed5",
   "metadata": {},
   "outputs": [
    {
     "name": "stdout",
     "output_type": "stream",
     "text": [
      "5\n"
     ]
    },
    {
     "data": {
      "text/plain": [
       "10"
      ]
     },
     "execution_count": 10,
     "metadata": {},
     "output_type": "execute_result"
    }
   ],
   "source": [
    "class Circle:\n",
    "    def __init__(self, radius):\n",
    "        self._radius = radius  \n",
    "    \n",
    "    @property\n",
    "    def radius(self):\n",
    "        return self._radius\n",
    "    \n",
    "    @radius.setter\n",
    "    def radius_set(self, radius_new):\n",
    "        self._radius = radius_new\n",
    "\n",
    "my_circle = Circle(5)\n",
    "\n",
    "print(my_circle.radius)\n",
    "\n",
    "my_circle.radius_set=10\n",
    "\n",
    "my_circle.radius\n"
   ]
  },
  {
   "cell_type": "markdown",
   "id": "6e5de4b1-c6b3-4cd7-99a5-a45526d30222",
   "metadata": {},
   "source": [
    "--------------------------------------------------------------------------------------------------"
   ]
  },
  {
   "cell_type": "markdown",
   "id": "2b646a2e-e0f1-4632-96a9-78a028fdc639",
   "metadata": {},
   "source": [
    "### QUE;-70 explain the use of @deleter decoraator in python property decorator . provide an code example demostrating its application. "
   ]
  },
  {
   "cell_type": "markdown",
   "id": "93bcf75e-6e92-4d65-b8ac-c025c2ba6c82",
   "metadata": {},
   "source": [
    "#### ---> The @property.deleter decorator is used to define a deleter method for a property. This method is called when the property is deleted using the del statement. It allows you to perform any necessary cleanup or additional actions before deleting the property."
   ]
  },
  {
   "cell_type": "code",
   "execution_count": null,
   "id": "0487b81a-f258-478e-9315-09113a781310",
   "metadata": {},
   "outputs": [],
   "source": [
    "class Circle:\n",
    "    def __init__(self, radius):\n",
    "        self._radius = radius  \n",
    "    \n",
    "    @property\n",
    "    def radius(self):\n",
    "        return self._radius\n",
    "    \n",
    "    @radius.setter\n",
    "    def radius_set(self, radius_new):\n",
    "        self._radius = radius_new\n",
    "        \n",
    "    @radius.deleter\n",
    "    def radius_del(self):\n",
    "        print(\"Deleting the radius property\")\n",
    "        del self._radius\n",
    "\n",
    "my_circle = Circle(5)\n",
    "\n",
    "print(\"initial radius\",my_circle.radius)\n",
    "\n",
    "my_circle.radius_set=10\n",
    "\n",
    "print(\"updated radius\",my_circle.radius)\n",
    "\n",
    "del my_circle.radius_del\n",
    "\n",
    "print(\"initial radius\",my_circle.radius)"
   ]
  },
  {
   "cell_type": "markdown",
   "id": "eb200344-973b-4f9f-bc8b-3371f1f463a2",
   "metadata": {},
   "source": [
    "----------------------------------------------------------------------------------------------------------------"
   ]
  },
  {
   "cell_type": "markdown",
   "id": "0ab46eb7-3264-419f-b81e-8e346b43d82f",
   "metadata": {},
   "source": [
    "### QUE;- 71 how does encapsulation relate to property decorators in python ? provide an example showcasing encapsulation using property decorators?"
   ]
  },
  {
   "cell_type": "code",
   "execution_count": 3,
   "id": "69eb4c9e-5cc0-493a-a7cf-3f0295acbc24",
   "metadata": {},
   "outputs": [
    {
     "name": "stdout",
     "output_type": "stream",
     "text": [
      "initial radius 5\n",
      "updated radius 10\n"
     ]
    }
   ],
   "source": [
    "class Circle:\n",
    "    def __init__(self, radius):\n",
    "        self._radius = radius  \n",
    "    \n",
    "    @property\n",
    "    def radius(self):\n",
    "        return self._radius\n",
    "    \n",
    "    @radius.setter\n",
    "    def radius_set(self, radius_new):\n",
    "        self._radius = radius_new\n",
    "        \n",
    "    @radius.deleter\n",
    "    def radius_del(self):\n",
    "        print(\"Deleting the radius property\")\n",
    "        del self._radius\n",
    "\n",
    "my_circle = Circle(5)\n",
    "\n",
    "print(\"initial radius\",my_circle.radius)\n",
    "\n",
    "my_circle.radius_set=10\n",
    "\n",
    "print(\"updated radius\",my_circle.radius)"
   ]
  },
  {
   "cell_type": "code",
   "execution_count": null,
   "id": "c7ee2047-3a17-4560-86db-c674dfdc625b",
   "metadata": {},
   "outputs": [],
   "source": []
  }
 ],
 "metadata": {
  "kernelspec": {
   "display_name": "Python 3 (ipykernel)",
   "language": "python",
   "name": "python3"
  },
  "language_info": {
   "codemirror_mode": {
    "name": "ipython",
    "version": 3
   },
   "file_extension": ".py",
   "mimetype": "text/x-python",
   "name": "python",
   "nbconvert_exporter": "python",
   "pygments_lexer": "ipython3",
   "version": "3.10.8"
  }
 },
 "nbformat": 4,
 "nbformat_minor": 5
}
