{
 "cells": [
  {
   "cell_type": "markdown",
   "id": "aec94d99-620f-4dae-a404-60906060168f",
   "metadata": {},
   "source": [
    "### QUE:-1 Write a program to print numbers from 1 to 10, but stop if the number is 5."
   ]
  },
  {
   "cell_type": "code",
   "execution_count": 1,
   "id": "e471c0ab-d7f8-45b6-8e9c-43d967510486",
   "metadata": {},
   "outputs": [
    {
     "name": "stdout",
     "output_type": "stream",
     "text": [
      "0\n",
      "1\n",
      "2\n",
      "3\n",
      "4\n"
     ]
    }
   ],
   "source": [
    "for i in range(11):\n",
    "    if i==5:\n",
    "        break\n",
    "    print(i)"
   ]
  },
  {
   "cell_type": "markdown",
   "id": "c2d6f1f2-0183-49ad-be9c-a418b79b4c5c",
   "metadata": {},
   "source": [
    "### QUE:-2 Write a program to iterate through a list and stop when encountering a specific element"
   ]
  },
  {
   "cell_type": "code",
   "execution_count": 2,
   "id": "f982fbcc-a0bf-48a2-a8dc-9a806eed145a",
   "metadata": {},
   "outputs": [
    {
     "name": "stdout",
     "output_type": "stream",
     "text": [
      "1\n",
      "2\n",
      "3\n",
      "4\n"
     ]
    }
   ],
   "source": [
    "lst=[1,2,3,4,5,6,7,8,9]\n",
    "specific_element=5\n",
    "for i in lst:\n",
    "    if i==specific_element:\n",
    "        break\n",
    "    print(i)"
   ]
  },
  {
   "cell_type": "markdown",
   "id": "b7eeae3d-bf97-4227-87bc-0ec0a268ec97",
   "metadata": {},
   "source": [
    "### QUE:-3  Write a program to skip printing even numbers from 1 to 10."
   ]
  },
  {
   "cell_type": "code",
   "execution_count": 3,
   "id": "a7b9da93-1af7-495e-99f3-a392d2c29dd3",
   "metadata": {},
   "outputs": [
    {
     "name": "stdout",
     "output_type": "stream",
     "text": [
      "1\n",
      "3\n",
      "5\n",
      "7\n",
      "9\n"
     ]
    }
   ],
   "source": [
    "for i in range(11):\n",
    "    if i%2==0:\n",
    "        continue\n",
    "    print(i)"
   ]
  },
  {
   "cell_type": "markdown",
   "id": "dfcc8e98-e962-44cf-8bb9-d916e4abefaf",
   "metadata": {},
   "source": [
    "### QUE:-4  Write a program to print numbers from 0 to 9 using range()"
   ]
  },
  {
   "cell_type": "code",
   "execution_count": 4,
   "id": "d617eded-ffca-4ee8-bff5-18c5e569d884",
   "metadata": {},
   "outputs": [
    {
     "name": "stdout",
     "output_type": "stream",
     "text": [
      "0\n",
      "1\n",
      "2\n",
      "3\n",
      "4\n",
      "5\n",
      "6\n",
      "7\n",
      "8\n",
      "9\n"
     ]
    }
   ],
   "source": [
    "for i in range(10):\n",
    "    print(i)"
   ]
  },
  {
   "cell_type": "markdown",
   "id": "2c1fa535-e0d5-4ceb-b710-475d3d69c38d",
   "metadata": {},
   "source": [
    "### QUE:-5 Write a program to print multiplication tables from 1 to 5, but stop after the first table is printed for each number."
   ]
  },
  {
   "cell_type": "code",
   "execution_count": null,
   "id": "ad002012-8faf-45a5-8062-f3645b847deb",
   "metadata": {},
   "outputs": [],
   "source": [
    "for i in range(1, 6):\n",
    "    print(f\"Multiplication table for {i}:\")\n",
    "    for j in range(1, 11):\n",
    "        print(f\"{i} * {j} = {i * j}\")\n",
    "    print(\"-\" * 20)\n",
    "    if i < 5:\n",
    "        input(\"Press Enter to continue to the next table...\")"
   ]
  },
  {
   "cell_type": "markdown",
   "id": "85c63596-04d6-44fb-bef7-9844fe4f9cd4",
   "metadata": {},
   "source": [
    "### QUE:-6  Write a program to skip printing even numbers using a while loop."
   ]
  },
  {
   "cell_type": "code",
   "execution_count": 3,
   "id": "693814cc-beed-4456-9a55-a14a636111b4",
   "metadata": {},
   "outputs": [
    {
     "name": "stdout",
     "output_type": "stream",
     "text": [
      "1\n",
      "3\n",
      "5\n",
      "7\n",
      "9\n"
     ]
    }
   ],
   "source": [
    "n=1\n",
    "while n < 11:\n",
    "    if n%2==0:\n",
    "        n+=1\n",
    "        continue\n",
    "    print(n)\n",
    "    n+=1\n",
    "        "
   ]
  },
  {
   "cell_type": "code",
   "execution_count": null,
   "id": "b2b89c89-052a-4674-b919-dfa56f05851c",
   "metadata": {},
   "outputs": [],
   "source": [
    "n=1\n",
    "while n<11:\n",
    "    if n%2!=0"
   ]
  },
  {
   "cell_type": "code",
   "execution_count": null,
   "id": "2ec02aa6-e380-4d96-bf99-af23023c46fa",
   "metadata": {},
   "outputs": [],
   "source": []
  }
 ],
 "metadata": {
  "kernelspec": {
   "display_name": "Python 3 (ipykernel)",
   "language": "python",
   "name": "python3"
  },
  "language_info": {
   "codemirror_mode": {
    "name": "ipython",
    "version": 3
   },
   "file_extension": ".py",
   "mimetype": "text/x-python",
   "name": "python",
   "nbconvert_exporter": "python",
   "pygments_lexer": "ipython3",
   "version": "3.10.8"
  }
 },
 "nbformat": 4,
 "nbformat_minor": 5
}
