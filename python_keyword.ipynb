{
 "cells": [
  {
   "cell_type": "markdown",
   "id": "b5be827f-97b7-4b8c-a091-5888eff0cfe0",
   "metadata": {},
   "source": [
    "## QUE:- 1 explain the significance of python keyword and provide examples of five keywords."
   ]
  },
  {
   "cell_type": "markdown",
   "id": "245413a0-c7de-4183-8a87-e6fc6c867e8c",
   "metadata": {},
   "source": [
    "#### keywords are the reserved words have predefine meaning and purpose within the python language"
   ]
  },
  {
   "cell_type": "code",
   "execution_count": 1,
   "id": "2e6c6e71-dda4-4dec-818b-530a94c5ac5f",
   "metadata": {},
   "outputs": [
    {
     "data": {
      "text/plain": [
       "['False',\n",
       " 'None',\n",
       " 'True',\n",
       " 'and',\n",
       " 'as',\n",
       " 'assert',\n",
       " 'async',\n",
       " 'await',\n",
       " 'break',\n",
       " 'class',\n",
       " 'continue',\n",
       " 'def',\n",
       " 'del',\n",
       " 'elif',\n",
       " 'else',\n",
       " 'except',\n",
       " 'finally',\n",
       " 'for',\n",
       " 'from',\n",
       " 'global',\n",
       " 'if',\n",
       " 'import',\n",
       " 'in',\n",
       " 'is',\n",
       " 'lambda',\n",
       " 'nonlocal',\n",
       " 'not',\n",
       " 'or',\n",
       " 'pass',\n",
       " 'raise',\n",
       " 'return',\n",
       " 'try',\n",
       " 'while',\n",
       " 'with',\n",
       " 'yield']"
      ]
     },
     "execution_count": 1,
     "metadata": {},
     "output_type": "execute_result"
    }
   ],
   "source": [
    "import keyword\n",
    "keyword.kwlist"
   ]
  },
  {
   "cell_type": "code",
   "execution_count": 2,
   "id": "d14e7c8b-4c73-40a2-94c5-939f4785670b",
   "metadata": {},
   "outputs": [
    {
     "name": "stdout",
     "output_type": "stream",
     "text": [
      "x is greater than 10\n"
     ]
    }
   ],
   "source": [
    "#1.IF KEYWORD\n",
    "x=25\n",
    "if x > 10 :\n",
    "    print(\"x is greater than 10\")\n",
    "else:\n",
    "    print(\"x is less than 10\")"
   ]
  },
  {
   "cell_type": "code",
   "execution_count": 3,
   "id": "d1986a64-be79-43e6-9709-1d4363fc01b3",
   "metadata": {},
   "outputs": [
    {
     "name": "stdout",
     "output_type": "stream",
     "text": [
      "apple\n",
      "banana\n",
      "cherry\n"
     ]
    }
   ],
   "source": [
    "#2.FOR KEYWORD\n",
    "fruits = [\"apple\", \"banana\", \"cherry\"]\n",
    "for fruit in fruits:\n",
    "    print(fruit)\n"
   ]
  },
  {
   "cell_type": "code",
   "execution_count": 4,
   "id": "e9fcf752-3282-480f-a553-cf6bdebb4103",
   "metadata": {},
   "outputs": [
    {
     "name": "stdout",
     "output_type": "stream",
     "text": [
      "1\n",
      "2\n",
      "3\n",
      "4\n",
      "5\n",
      "6\n",
      "7\n",
      "8\n",
      "9\n"
     ]
    }
   ],
   "source": [
    "#3.WHILE KEYWPRD\n",
    "n=1\n",
    "while n < 10:\n",
    "    print(n)\n",
    "    n+=1"
   ]
  },
  {
   "cell_type": "code",
   "execution_count": 7,
   "id": "a0a7ebb1-57d2-4abc-9694-8b2602846273",
   "metadata": {},
   "outputs": [
    {
     "name": "stdout",
     "output_type": "stream",
     "text": [
      "8\n"
     ]
    }
   ],
   "source": [
    "#4.RETURNKEYWORD\n",
    "def add(x, y):\n",
    "    return x + y\n",
    "\n",
    "result = add(3, 5)\n",
    "print(result) \n"
   ]
  },
  {
   "cell_type": "code",
   "execution_count": 6,
   "id": "febb14f6-0b90-4825-8c1e-22c9ee5cbe5b",
   "metadata": {},
   "outputs": [
    {
     "name": "stdout",
     "output_type": "stream",
     "text": [
      "Hello, MAHAVEER!\n"
     ]
    }
   ],
   "source": [
    "#5.DEF KEYWORD\n",
    "def greet(name):\n",
    "    print(\"Hello, \" + name + \"!\")\n",
    "\n",
    "greet(\"MAHAVEER\")\n"
   ]
  },
  {
   "cell_type": "markdown",
   "id": "4ca31d56-dd04-4386-8da1-d5bb1fe4b18d",
   "metadata": {},
   "source": [
    "## QUE:-2 discribe the rules for defining identifiers in python and provide an examples."
   ]
  },
  {
   "cell_type": "markdown",
   "id": "fa0e5e84-838a-4901-9c33-7411833f8914",
   "metadata": {},
   "source": [
    "#### --> identifier is the name given to intites like variable , function , calsses etc.   there are specific rules defining the identifiers."
   ]
  },
  {
   "cell_type": "markdown",
   "id": "63b2db52-93ed-4c8e-8a43-476619ecfc50",
   "metadata": {},
   "source": [
    "### -->1. VALID CHARACTOR\n",
    "#### identifiers can contains latters , digits , and underscors but they cannot start with numbers."
   ]
  },
  {
   "cell_type": "markdown",
   "id": "2422539f-7069-4123-a460-4b4b436d976a",
   "metadata": {},
   "source": [
    "### -->2. Case Sensitivity\n",
    "#### : Python is case-sensitive, so uppercase and lowercase letters are considered different. For example, variable, Variable, and VARIABLE are three distinct identifiers"
   ]
  },
  {
   "cell_type": "markdown",
   "id": "370bc2d6-a4a9-416c-84d0-da509331345a",
   "metadata": {},
   "source": [
    "### --> 3.Reserved Keywords`m\n",
    "#### identifiers cannot be same as keywords or reserved words. "
   ]
  },
  {
   "cell_type": "markdown",
   "id": "a8fad5df-bbd0-4077-b3a4-0757f8a1f6f4",
   "metadata": {},
   "source": [
    "### -->4. No Special Characters: \n",
    "#### Identifiers cannot contain special characters like !, @, #, $, %, etc., except for the underscore (_)."
   ]
  },
  {
   "cell_type": "markdown",
   "id": "0cd7066c-077f-43e1-9903-af1cf43efda6",
   "metadata": {},
   "source": [
    "###  EXAMPLES OF VALID OR INVALID VARIABLE\n",
    "#### VALID KEYWORDS\n",
    "1.variable\n",
    "2.Variable\n",
    "3._variable\n",
    "4.my_variable\n",
    "5.variable2\n",
    "\n",
    "\n",
    "#### INVALID VARIABLE\n",
    "1.1variable\n",
    "2.Var@iable\n",
    "3.12_variable\n",
    "4.while\n",
    "5.for"
   ]
  },
  {
   "cell_type": "markdown",
   "id": "40a92266-462a-4420-b151-f007c24d0945",
   "metadata": {},
   "source": [
    "### QUE:-3 what are comments in python , and why are they useful provide an example."
   ]
  },
  {
   "cell_type": "markdown",
   "id": "b22274fe-0f12-463a-9044-02bbb76d0da7",
   "metadata": {},
   "source": [
    "#### --> comments are python in text which are ignored by the python interpreter during runtime .tehy are used to documenting code and providing explanations and making easest to understand fucntionality of code"
   ]
  },
  {
   "cell_type": "markdown",
   "id": "1feeca7c-a675-445c-a70c-ad92aad4357d",
   "metadata": {},
   "source": [
    "#### --> Comments in Python can be written in two ways:\n",
    "\n",
    "Single-line comments: These comments begin with the # symbol and extend until the end of the line. They are typically used for short explanations or comments on a single line.\n",
    "Multi-line comments: Although Python does not have a built-in syntax for multi-line comments, you can use triple quotes (''' or \"\"\") to create multi-line strings, which are often used as multi-line comments."
   ]
  },
  {
   "cell_type": "markdown",
   "id": "d985b6f6-6195-4d54-ab88-6139ea0a2525",
   "metadata": {},
   "source": [
    "#### --> Here's why comments are useful:\n",
    "\n",
    "Documentation: Comments help document the purpose, functionality, and logic of the code. They make it easier for other developers (or even your future self) to understand and maintain the codebase.\n",
    "Clarification: Comments can clarify complex or obscure parts of the code, providing insights into why certain decisions were made or how specific algorithms work.\n",
    "Debugging: Comments can be used to temporarily disable parts of the code for debugging purposes, allowing developers to isolate and troubleshoot issues without permanently removing code.\n",
    "Collaboration: Comments facilitate collaboration among team members by providing context and explanations for different sections of the code."
   ]
  },
  {
   "cell_type": "code",
   "execution_count": 11,
   "id": "1bffe3b2-678d-40ec-b9db-a2d58cf99202",
   "metadata": {},
   "outputs": [
    {
     "name": "stdout",
     "output_type": "stream",
     "text": [
      "Hello, mahaveer!\n"
     ]
    }
   ],
   "source": [
    "#### example of comments\n",
    "# This is a single-line comment\n",
    "# It provides a brief explanation of the code below\n",
    "\n",
    "# Define a variable\n",
    "x = 10  # Assign 10 to the variable x\n",
    "\n",
    "# Define a function\n",
    "def greet(name):\n",
    "    \"\"\"\n",
    "    This is a multi-line comment.\n",
    "    It provides a detailed explanation of the greet function.\n",
    "    \"\"\"\n",
    "    print(\"Hello, \" + name + \"!\")\n",
    "\n",
    "# Call the function\n",
    "greet(\"mahaveer\")  # Call the greet function with the argument \"Alice\"\n"
   ]
  },
  {
   "cell_type": "markdown",
   "id": "739854ab-847f-428c-b602-edb0fd71bbbc",
   "metadata": {},
   "source": [
    "### QUE:-4 why is proper indentation important in python>"
   ]
  },
  {
   "cell_type": "markdown",
   "id": "931564e1-c902-4653-852c-1b4448f8a262",
   "metadata": {},
   "source": [
    "#### Proper indentation in Python is important because:\n",
    "\n",
    "1.It enhances readability and understanding of code structure.\n",
    "\n",
    "\n",
    "2.It's required by Python's syntax.\n",
    "\n",
    "\n",
    "3.It clarifies code blocks like loops and conditionals.\n",
    "\n",
    "\n",
    "4.It follows Python's conventional style, making code consistent and familiar.\n",
    "\n",
    "\n",
    "\n",
    "\n",
    "\n"
   ]
  },
  {
   "cell_type": "markdown",
   "id": "d7d38bf6-8d5a-4999-80a1-a140784a5e09",
   "metadata": {},
   "source": [
    "-----------------------------------------------------------------------------------------"
   ]
  },
  {
   "cell_type": "markdown",
   "id": "2094b99b-a57e-4fd1-838b-1e822efa5d0c",
   "metadata": {},
   "source": [
    "### QUE:-5 what happen if indentation is incorrect in python"
   ]
  },
  {
   "cell_type": "markdown",
   "id": "187df373-9a46-4435-9697-880f4085cc3d",
   "metadata": {},
   "source": [
    "#### If indentation is incorrect in Python, it can lead to syntax errors or unexpected behavior in the code. Python relies on indentation to define the structure and logic of the code. Incorrect indentation can cause the interpreter to misinterpret the code's intended structure, resulting in one of the following consequences:\n",
    "\n",
    "##### Syntax Errors: \n",
    "Python's syntax requires proper indentation to delineate blocks of code such as loops, conditional statements, function definitions, and class definitions. If the indentation is incorrect, the Python interpreter will raise a syntax error, indicating that the code does not adhere to Python's syntax rules.\n",
    "\n",
    "##### Logical Errors: \n",
    "In some cases, incorrect indentation may not result in a syntax error but can lead to logical errors in the code. Statements that are intended to be part of a specific block may be executed outside of that block or in unintended contexts, altering the program's logic and producing unexpected results.\n",
    "\n",
    "##### Unintended Code Blocks: \n",
    "Incorrect indentation may create unintended code blocks or cause existing blocks to be nested improperly. This can change the flow of control in the program, leading to unintended execution paths and behavior.\n",
    "\n",
    "##### Readability Issues: \n",
    "Improper indentation reduces the readability of the code, making it more challenging for developers to understand and maintain. Code that lacks clear and consistent indentation can be confusing to follow, especially in larger or more complex projects."
   ]
  },
  {
   "cell_type": "markdown",
   "id": "81b489ca-501d-4855-b01d-671254a12335",
   "metadata": {},
   "source": [
    "-----------------------------------------------------------------------------"
   ]
  },
  {
   "cell_type": "markdown",
   "id": "7e4955ab-345e-458e-acc8-b297246341d7",
   "metadata": {},
   "source": [
    "### QUE:-6 difference between expression and statement in python with example."
   ]
  },
  {
   "cell_type": "markdown",
   "id": "8885eff0-efed-42d5-824f-c8e47ce0219c",
   "metadata": {},
   "source": [
    "### Expression:\n",
    "\n",
    "-->An expression evaluates to a value.\n",
    "-->It can be a single value, variable, or a combination of values and operators.\n",
    "Examples:\n",
    "3 + 5 (evaluates to 8)\n",
    "x * y (evaluates to the product of x and y)\n",
    "len(\"hello\") (evaluates to the length of the string \"hello\")\n",
    "\n",
    "\n",
    "### Statement:\n",
    "-->A statement performs an action but does not return a value.\n",
    "-->It can include expressions, but it doesn't have to.\n",
    "Examples:\n",
    "Assignment statement: x = 10\n",
    "Conditional statement (if-else): if x > 5:\n",
    "Loop statement (for, while): for i in range(5):\n",
    "Function definition statement: def greet(name):"
   ]
  },
  {
   "cell_type": "code",
   "execution_count": 12,
   "id": "7b6c90f9-f56c-4c84-99c2-63ed0571154b",
   "metadata": {},
   "outputs": [
    {
     "name": "stdout",
     "output_type": "stream",
     "text": [
      "x is greater\n",
      "0\n",
      "1\n",
      "2\n"
     ]
    }
   ],
   "source": [
    "x = 10              # Assignment expression\n",
    "y = x + 5           # Arithmetic expression\n",
    "z = len([1, 2, 3])  # Function call expression\n",
    "\n",
    "\n",
    "x = 10                        # Assignment statement\n",
    "if x > 5:                     # Conditional statement\n",
    "    print(\"x is greater\")     # Statement inside the if block\n",
    "for i in range(3):            # Loop statement\n",
    "    print(i)                 # Statement inside the loop\n",
    "def greet(name):              # Function definition statement\n",
    "    print(\"Hello, \" + name)  # Statement inside the function\n"
   ]
  },
  {
   "cell_type": "code",
   "execution_count": null,
   "id": "3c4728a3-4e62-4b50-9602-bf4badbf5989",
   "metadata": {},
   "outputs": [],
   "source": []
  }
 ],
 "metadata": {
  "kernelspec": {
   "display_name": "Python 3 (ipykernel)",
   "language": "python",
   "name": "python3"
  },
  "language_info": {
   "codemirror_mode": {
    "name": "ipython",
    "version": 3
   },
   "file_extension": ".py",
   "mimetype": "text/x-python",
   "name": "python",
   "nbconvert_exporter": "python",
   "pygments_lexer": "ipython3",
   "version": "3.10.8"
  }
 },
 "nbformat": 4,
 "nbformat_minor": 5
}
