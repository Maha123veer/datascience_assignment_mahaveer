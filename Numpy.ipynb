{
 "cells": [
  {
   "cell_type": "markdown",
   "id": "81487832-05a8-410d-bd68-43a4d343afff",
   "metadata": {},
   "source": [
    "### QUE:-1 . Create a NumPy array 'arr' of integers from 0 to 5 and print its data type."
   ]
  },
  {
   "cell_type": "code",
   "execution_count": 41,
   "id": "f351df0c-4bbc-426c-b1ba-5001763ef125",
   "metadata": {},
   "outputs": [
    {
     "name": "stdout",
     "output_type": "stream",
     "text": [
      "[0 1 2 3 4 5]\n",
      "int64\n"
     ]
    }
   ],
   "source": [
    "import numpy as np\n",
    "\n",
    "arr=np.array([0,1,2,3,4,5])\n",
    "print(arr)\n",
    "print(arr.dtype)"
   ]
  },
  {
   "cell_type": "markdown",
   "id": "aab1c373-8f8f-4be1-ab11-331a4493c931",
   "metadata": {},
   "source": [
    "-------------------------------------------------------------------------------------------------------------------------------------"
   ]
  },
  {
   "cell_type": "markdown",
   "id": "9885dfe5-8913-4b84-831b-e78639f401b0",
   "metadata": {},
   "source": [
    "### QUE:-2. Given a NumPy array 'arr', check if its data type is float64.\n",
    "arr = np.array([1.5, 2.6, 3.7])"
   ]
  },
  {
   "cell_type": "code",
   "execution_count": 42,
   "id": "b64ce082-407d-4b2f-841d-4b93f7acb91a",
   "metadata": {},
   "outputs": [
    {
     "name": "stdout",
     "output_type": "stream",
     "text": [
      "float64\n"
     ]
    }
   ],
   "source": [
    "arr = np.array([1.5, 2.6, 3.7])\n",
    "print(arr.dtype)"
   ]
  },
  {
   "cell_type": "markdown",
   "id": "b0b088e3-27ed-4787-9f08-4e1e76bb1e94",
   "metadata": {},
   "source": [
    "-----------------------------------------------------------------------------------------------------------------------------------"
   ]
  },
  {
   "cell_type": "markdown",
   "id": "9a04d8be-02b1-447f-86e2-2674348daf89",
   "metadata": {},
   "source": [
    "### QUE:-3. Create a NumPy array 'arr' with a data type of complex128 containing three complex numbers.\n",
    "\n"
   ]
  },
  {
   "cell_type": "code",
   "execution_count": 43,
   "id": "cfaa9165-5f2f-434f-bb2e-44e25ec1f976",
   "metadata": {},
   "outputs": [
    {
     "name": "stdout",
     "output_type": "stream",
     "text": [
      "[3.+5.j 5.+2.j 9.+2.j]\n"
     ]
    }
   ],
   "source": [
    "arr=np.array([3+5j,5+2j,9+2j], dtype=np.complex128)\n",
    "print(arr)"
   ]
  },
  {
   "cell_type": "markdown",
   "id": "09f0c24c-b9ef-4630-aae9-b3988ea4a333",
   "metadata": {},
   "source": [
    "------------------------------------------------------------------------------------------------------------------------------------"
   ]
  },
  {
   "cell_type": "markdown",
   "id": "b456daa0-e3ad-4ed6-bf2f-151d0401eab9",
   "metadata": {},
   "source": [
    "\n",
    "\n",
    "\n",
    "### QUE:-4. Convert an existing NumPy array 'arr' of integers to float32 data type."
   ]
  },
  {
   "cell_type": "code",
   "execution_count": 44,
   "id": "8284cc58-aa20-43a1-b338-bd07be363433",
   "metadata": {},
   "outputs": [
    {
     "name": "stdout",
     "output_type": "stream",
     "text": [
      "[0. 1. 2. 3. 4. 5.]\n"
     ]
    }
   ],
   "source": [
    "arr=np.array([0,1,2,3,4,5])\n",
    "arr_float=arr.astype(np.float64)\n",
    "print(arr_float)\n"
   ]
  },
  {
   "cell_type": "markdown",
   "id": "e2c861dd-3ce1-4c3a-b608-f578bb40caeb",
   "metadata": {},
   "source": [
    "-------------------------------------------------------------------------------------------------------------------------------"
   ]
  },
  {
   "cell_type": "markdown",
   "id": "3bdb516a-b8bd-4549-b600-5b90a45f7943",
   "metadata": {},
   "source": [
    "### QUE:-5.  Given a NumPy array 'arr' with float64 data type, convert it to float32 to reduce decimal precision"
   ]
  },
  {
   "cell_type": "code",
   "execution_count": 45,
   "id": "39fc836f-29ea-47b3-98d2-40a27e59de6b",
   "metadata": {},
   "outputs": [
    {
     "name": "stdout",
     "output_type": "stream",
     "text": [
      "[0. 1. 2. 3. 4. 5.]\n",
      "float32\n"
     ]
    }
   ],
   "source": [
    "arr=np.array([0,1,2,3,4,5], dtype=np.float64)\n",
    "arr_float_32=arr.astype(np.float32)\n",
    "print(arr_float_32)\n",
    "print(arr_float_32.dtype)"
   ]
  },
  {
   "cell_type": "markdown",
   "id": "d9812ef9-f909-486d-8a61-f802b017a179",
   "metadata": {},
   "source": [
    "----------------------------------------------------------------------------------------------------------------------------------"
   ]
  },
  {
   "cell_type": "markdown",
   "id": "3de6ecc3-eea5-4c2c-a277-391294cf7af3",
   "metadata": {},
   "source": [
    "### QUE:-6. Write a function array_attributes that takes a NumPy array as input and returns its shape, size, and data type."
   ]
  },
  {
   "cell_type": "code",
   "execution_count": 46,
   "id": "20db365d-499b-43f2-8c6b-ef2437396ac4",
   "metadata": {},
   "outputs": [
    {
     "name": "stdout",
     "output_type": "stream",
     "text": [
      "Shape: (2, 3)\n",
      "Size: 6\n",
      "Data type: int64\n"
     ]
    }
   ],
   "source": [
    "def array_attributes(arr):\n",
    "    shape=arr.shape\n",
    "    size=arr.size\n",
    "    dtype=arr.dtype\n",
    "    return shape,size,dtype\n",
    "\n",
    "arr=np.array([[1,2,3],[4,5,6]])\n",
    "shape,size,dtype=array_attributes(arr)\n",
    "print(\"Shape:\", shape)\n",
    "print(\"Size:\", size)\n",
    "print(\"Data type:\", dtype)"
   ]
  },
  {
   "cell_type": "markdown",
   "id": "2bcae6ce-d985-4571-abac-9e39e0240bd2",
   "metadata": {},
   "source": [
    "----------------------------------------------------------------------------------------------------------------"
   ]
  },
  {
   "cell_type": "markdown",
   "id": "23548d0a-2bf8-4c68-9007-3a2eb962df6b",
   "metadata": {},
   "source": [
    "### QUE:-7. Create a function array_dimension that takes a NumPy array as input and returns its dimensionality.\n"
   ]
  },
  {
   "cell_type": "code",
   "execution_count": 47,
   "id": "63ea74cc-21b8-4286-a868-4ddd4b1b5fb3",
   "metadata": {},
   "outputs": [
    {
     "name": "stdout",
     "output_type": "stream",
     "text": [
      "2\n"
     ]
    }
   ],
   "source": [
    "def array_dimension(arr):\n",
    "    dimensions=arr.ndim\n",
    "    return dimensions\n",
    "arr=np.array([[1,2,3],[4,5,6]])\n",
    "dimensions=array_dimension(arr)\n",
    "print(dimensions)"
   ]
  },
  {
   "cell_type": "markdown",
   "id": "d7ec2776-6476-43a0-9774-3168bb24c726",
   "metadata": {},
   "source": [
    "-----------------------------------------------------------------------------------------------------------------"
   ]
  },
  {
   "cell_type": "markdown",
   "id": "9c8e9530-28b3-4777-be2b-aa2aca50a3ed",
   "metadata": {},
   "source": [
    "### QUE:-8 Design a function item_size_info that takes a NumPy array as input and returns the item size and the totalsize in bytes."
   ]
  },
  {
   "cell_type": "code",
   "execution_count": 48,
   "id": "51b46344-9397-4795-8d4e-8a42277d0635",
   "metadata": {},
   "outputs": [
    {
     "name": "stdout",
     "output_type": "stream",
     "text": [
      "8\n",
      "48\n"
     ]
    }
   ],
   "source": [
    "def item_size_info(arr):\n",
    "    item_size=arr.itemsize\n",
    "    total_size=arr.nbytes\n",
    "    \n",
    "    return item_size,total_size\n",
    "arr=np.array([[1,2,3],[4,5,6]])\n",
    "item_size,total_size=item_size_info(arr)\n",
    "print(item_size)\n",
    "print(total_size)"
   ]
  },
  {
   "cell_type": "markdown",
   "id": "cc23483e-df21-457e-9b66-54a37d725658",
   "metadata": {},
   "source": [
    "-------------------------------------------------------------------------------------------------------------"
   ]
  },
  {
   "cell_type": "markdown",
   "id": "bdb2c3a5-2d42-4223-9359-de72bd628245",
   "metadata": {},
   "source": [
    "### QUE:-9  Create a function array_strides that takes a NumPy array as input and returns the strides of the array"
   ]
  },
  {
   "cell_type": "code",
   "execution_count": 49,
   "id": "8e768940-8ac5-4b75-86fb-1ff9907e2d38",
   "metadata": {},
   "outputs": [
    {
     "name": "stdout",
     "output_type": "stream",
     "text": [
      "(24, 8)\n"
     ]
    }
   ],
   "source": [
    "def array_strides(arr):\n",
    "    strides=arr.strides\n",
    "    return strides\n",
    "arr=np.array([[1,2,3],[4,5,6]])\n",
    "strides=array_strides(arr)\n",
    "print(strides)"
   ]
  },
  {
   "cell_type": "markdown",
   "id": "1bbd07e6-2ee1-4063-ae76-849227055c41",
   "metadata": {},
   "source": [
    "----------------------------------------------------------------------------------------------------------"
   ]
  },
  {
   "cell_type": "markdown",
   "id": "d9d2a0d0-c650-4d8e-877c-577699fb574c",
   "metadata": {},
   "source": [
    "### QUE:-10 Design a function shape_stride_relationship that takes a NumPy array as input and returns the shape and strides of the array."
   ]
  },
  {
   "cell_type": "code",
   "execution_count": 50,
   "id": "7e7fcada-824c-49ec-a765-f190cfdc4c49",
   "metadata": {},
   "outputs": [
    {
     "name": "stdout",
     "output_type": "stream",
     "text": [
      "(2, 3)\n",
      "(24, 8)\n"
     ]
    }
   ],
   "source": [
    "def shape_stride_relationship(arr):\n",
    "    shape=arr.shape\n",
    "    stride=arr.strides\n",
    "    return shape,strides\n",
    "\n",
    "arr=np.array([[1,2,3],[4,5,6]])\n",
    "shape,strides=shape_stride_relationship(arr)\n",
    "print(shape)\n",
    "print(strides)\n",
    "                            "
   ]
  },
  {
   "cell_type": "markdown",
   "id": "e89a560e-3332-4674-b582-ac4bee6b3696",
   "metadata": {},
   "source": [
    "-------------------------------------------------------------------------------------------------------------"
   ]
  },
  {
   "cell_type": "markdown",
   "id": "8f2a23f7-458d-4622-bac3-2fbe07a22eaa",
   "metadata": {},
   "source": [
    "### QUE:-11 Create a function `create_zeros_array` that takes an integer `n` as input and returns a NumPy array of zeros with `n` elements."
   ]
  },
  {
   "cell_type": "code",
   "execution_count": 51,
   "id": "1f6122a0-0e8f-47e6-a0b2-cfa09bd7de7a",
   "metadata": {},
   "outputs": [
    {
     "name": "stdout",
     "output_type": "stream",
     "text": [
      "[0. 0. 0. 0. 0. 0.]\n"
     ]
    }
   ],
   "source": [
    "def create_zeros_array(n):\n",
    "    return np.zeros(n)\n",
    "n=6\n",
    "zeros_array=create_zeros_array(n)\n",
    "print(zeros_array)"
   ]
  },
  {
   "cell_type": "markdown",
   "id": "2bac810f-e2ec-49b6-ad4b-26a803525835",
   "metadata": {},
   "source": [
    "\n",
    "\n",
    "--------------------------------------------------------------------------------------------------"
   ]
  },
  {
   "cell_type": "markdown",
   "id": "dc38887f-25a4-4428-9dbd-d678482215cf",
   "metadata": {},
   "source": [
    "\n",
    "\n",
    "### QUE:-12 Write a function `create_ones_matrix` that takes integers `rows` and `cols` as inputs and generates a 2D NumPy array filled with ones of size `rows x cols`."
   ]
  },
  {
   "cell_type": "code",
   "execution_count": 52,
   "id": "9f46bb66-7089-4228-8a39-3803e962a25a",
   "metadata": {},
   "outputs": [
    {
     "name": "stdout",
     "output_type": "stream",
     "text": [
      "[[1. 1. 1. 1.]\n",
      " [1. 1. 1. 1.]\n",
      " [1. 1. 1. 1.]]\n"
     ]
    }
   ],
   "source": [
    "def create_ones_matrix(rows,cols):\n",
    "    return np.ones((rows,cols))\n",
    "rows=3\n",
    "cols=4\n",
    "ones_array=create_ones_matrix(rows,cols)\n",
    "print(ones_array)"
   ]
  },
  {
   "cell_type": "markdown",
   "id": "6b5a7f9b-046e-4b03-80f0-39d6f35584c2",
   "metadata": {},
   "source": [
    "--------------------------------------------------------------------------------------------------------------"
   ]
  },
  {
   "cell_type": "markdown",
   "id": "ba61eb94-741e-4075-966c-707859117bde",
   "metadata": {},
   "source": [
    "### QUE:-13 Write a function `generate_range_array` that takes three integers start, stop, and step as arguments andcreates a NumPy array with a range starting from `start`, ending at stop (exclusive), and with the specified`step`."
   ]
  },
  {
   "cell_type": "code",
   "execution_count": 53,
   "id": "1ac1394f-237c-43d0-8724-a6a07b19d2a4",
   "metadata": {},
   "outputs": [
    {
     "name": "stdout",
     "output_type": "stream",
     "text": [
      "[1, 3, 5, 7, 9, 11, 13, 15, 17, 19]\n"
     ]
    }
   ],
   "source": [
    "def generate_range_array(start,stop,step):\n",
    "    array= np.arange(start,stop,step)\n",
    "    array_list=array.tolist()\n",
    "    return array_list\n",
    "start=1\n",
    "stop=20\n",
    "step=2\n",
    "array_list=generate_range_array(start,stop,step)\n",
    "print(array_list)"
   ]
  },
  {
   "cell_type": "markdown",
   "id": "21a20a15-ff4d-40d6-9dcd-f19ca930d45c",
   "metadata": {},
   "source": [
    "--------------------------------------------------------------------------------------------------------------\n"
   ]
  },
  {
   "cell_type": "markdown",
   "id": "7a280ae3-31e2-4fbd-b742-66c2ce6505af",
   "metadata": {},
   "source": [
    "### QUE:-14  Design a function `generate_linear_space` that takes two floats `start`, `stop`, and an integer `num` asarguments and generates a NumPy array with num equally spaced values between `start` and `stop`(inclusive)."
   ]
  },
  {
   "cell_type": "code",
   "execution_count": 54,
   "id": "ed6fd087-2fdc-4651-bf96-7218486e6989",
   "metadata": {},
   "outputs": [
    {
     "name": "stdout",
     "output_type": "stream",
     "text": [
      "[1.0, 6.0, 11.0, 16.0, 21.0]\n"
     ]
    }
   ],
   "source": [
    "def generate_linear_space(start,stop,num):\n",
    "    array= np.linespace(start,stop,num)\n",
    "    array_list=array.tolist()\n",
    "    return array_list\n",
    "start=1.0\n",
    "stop=25.0\n",
    "num=5\n",
    "array_list=generate_range_array(start,stop,num)\n",
    "print(array_list)"
   ]
  },
  {
   "cell_type": "markdown",
   "id": "7af74d2d-8b61-4625-9d41-f76222491f73",
   "metadata": {},
   "source": [
    "--------------------------------------------------------------------------------------------------------------\n"
   ]
  },
  {
   "cell_type": "markdown",
   "id": "ac8e6056-b1ef-49ba-ab21-06718e326bf5",
   "metadata": {},
   "source": [
    "### QUE:-15. Create a function `create_identity_matrix` that takes an integer `n` as input and generates a square identity matrix of size `n x n` using `numpy.eye`."
   ]
  },
  {
   "cell_type": "code",
   "execution_count": 55,
   "id": "e38e3f92-a1ff-42ca-961d-e6dac1c162af",
   "metadata": {},
   "outputs": [
    {
     "name": "stdout",
     "output_type": "stream",
     "text": [
      "[[1. 0. 0.]\n",
      " [0. 1. 0.]\n",
      " [0. 0. 1.]]\n"
     ]
    }
   ],
   "source": [
    "def create_identity_matrix(n):\n",
    "    return np.eye(n)\n",
    "n=3\n",
    "eye_matrix=create_identity_matrix(n)\n",
    "print(eye_matrix)"
   ]
  },
  {
   "cell_type": "markdown",
   "id": "da8a8ce5-e758-4636-880a-c0cd6090b1d2",
   "metadata": {},
   "source": [
    "--------------------------------------------------------------------------------------------------------------"
   ]
  },
  {
   "cell_type": "markdown",
   "id": "5d628033-d623-4a63-8c29-bc2ad92ff577",
   "metadata": {},
   "source": [
    "### QUE:-16 Write a function that takes a Python list and converts it into a NumPy array."
   ]
  },
  {
   "cell_type": "code",
   "execution_count": 56,
   "id": "a03596b1-01d5-42d1-894a-301edfabe5b9",
   "metadata": {},
   "outputs": [
    {
     "name": "stdout",
     "output_type": "stream",
     "text": [
      "[1 2 3 4 5 6]\n"
     ]
    }
   ],
   "source": [
    "\n",
    "def list_numpy(lst):\n",
    "    return np.array(lst)\n",
    "\n",
    "lst=[1,2,3,4,5,6]\n",
    "convert=list_numpy(lst)\n",
    "print(convert)\n",
    "\n",
    "    "
   ]
  },
  {
   "cell_type": "markdown",
   "id": "443077b9-ec88-4caf-aff0-45f6f512d79e",
   "metadata": {},
   "source": [
    "--------------------------------------------------------------------------------------------------------------"
   ]
  },
  {
   "cell_type": "markdown",
   "id": "4a56272c-332c-4c17-bd0c-e1873319e322",
   "metadata": {},
   "source": [
    "### QUE:-17  Create a NumPy array and demonstrate the use of `numpy.view` to create a new array object with the same data."
   ]
  },
  {
   "cell_type": "code",
   "execution_count": 57,
   "id": "6f40d6dc-33d7-482d-983d-ee88e8d84cc2",
   "metadata": {},
   "outputs": [
    {
     "name": "stdout",
     "output_type": "stream",
     "text": [
      "[[100   2   3]\n",
      " [  4   5   6]]\n",
      "\n",
      "[[100   2   3]\n",
      " [  4   5   6]]\n"
     ]
    }
   ],
   "source": [
    "array=np.array([[1,2,3],[4,5,6]])\n",
    "view=array.view()\n",
    "view[0,0]=100\n",
    "print(array)\n",
    "print()\n",
    "print(view)"
   ]
  },
  {
   "cell_type": "markdown",
   "id": "a5cd2189-9ebf-4319-8bc7-eae2777b9b78",
   "metadata": {},
   "source": [
    "--------------------------------------------------------------------------------------------------------------"
   ]
  },
  {
   "cell_type": "markdown",
   "id": "ad2835ee-e39d-4585-9edb-bc35f76c6521",
   "metadata": {},
   "source": [
    "### QUE:-18. Write a function that takes two NumPy arrays and concatenates them along a specified axis."
   ]
  },
  {
   "cell_type": "code",
   "execution_count": 58,
   "id": "6af83b81-f4ae-4586-9ad4-9edaa41eb71a",
   "metadata": {},
   "outputs": [
    {
     "name": "stdout",
     "output_type": "stream",
     "text": [
      "[[1 2 3]\n",
      " [4 5 6]\n",
      " [2 4 6]\n",
      " [1 3 5]]\n"
     ]
    }
   ],
   "source": [
    "import numpy as np\n",
    "def concatenates_array(arr1,arr2,axis):\n",
    "    return np.concatenate((arr1,arr2),axis=axis)\n",
    "arr1=np.array([[1,2,3],[4,5,6]])\n",
    "arr2=np.array([[2,4,6],[1,3,5]])\n",
    "result=concatenates_array(arr1,arr2,axis=0)\n",
    "print(result)"
   ]
  },
  {
   "cell_type": "markdown",
   "id": "ee37420e-e932-4156-85a9-923d1ced8c72",
   "metadata": {},
   "source": [
    "------------------------------------------------------------------------------------------------------------"
   ]
  },
  {
   "cell_type": "markdown",
   "id": "1d181303-8f52-4de8-9a80-9be4cddbeacd",
   "metadata": {},
   "source": [
    "### QUE:-19 Create two NumPy arrays with different shapes and concatenate them horizontally using `numpy. concatenate`."
   ]
  },
  {
   "cell_type": "code",
   "execution_count": 59,
   "id": "a9f0f80f-36c7-4814-a54c-d6e841af6d32",
   "metadata": {},
   "outputs": [
    {
     "name": "stdout",
     "output_type": "stream",
     "text": [
      "Array 1:\n",
      "[[1 2 3]\n",
      " [4 5 6]]\n",
      "\n",
      "Array 2:\n",
      "[[ 7  8]\n",
      " [ 9 10]\n",
      " [11 12]]\n",
      "\n",
      "Concatenated horizontally:\n",
      "[[ 1  2  3  7  9 11]\n",
      " [ 4  5  6  8 10 12]]\n"
     ]
    }
   ],
   "source": [
    "import numpy as np\n",
    "\n",
    "# Create two arrays with different shapes\n",
    "arr1 = np.array([[1, 2, 3],\n",
    "                 [4, 5, 6]])\n",
    "\n",
    "arr2 = np.array([[7, 8],\n",
    "                 [9, 10],\n",
    "                 [11, 12]])\n",
    "\n",
    "arr2_t=np.transpose(arr2)\n",
    "\n",
    "# Concatenate them horizontally\n",
    "result = np.concatenate((arr1, arr2_t), axis=1)\n",
    "\n",
    "print(\"Array 1:\")\n",
    "print(arr1)\n",
    "print(\"\\nArray 2:\")\n",
    "print(arr2)\n",
    "print(\"\\nConcatenated horizontally:\")\n",
    "print(result)\n"
   ]
  },
  {
   "cell_type": "markdown",
   "id": "5dcd3391-97e8-41b6-a052-1c83f47eaf2f",
   "metadata": {},
   "source": [
    "-------------------------------------------------------------------------------------------------------------------------------------"
   ]
  },
  {
   "cell_type": "markdown",
   "id": "14524b29-ece6-48f8-9ea4-3e254f90be2d",
   "metadata": {},
   "source": [
    "### QUE:-20  Write a function that vertically stacks multiple NumPy arrays given as a list.\n"
   ]
  },
  {
   "cell_type": "code",
   "execution_count": 60,
   "id": "e7495542-602c-4ce2-8511-effd1435aeeb",
   "metadata": {},
   "outputs": [
    {
     "name": "stdout",
     "output_type": "stream",
     "text": [
      "[[ 1  2  3]\n",
      " [ 4  5  6]\n",
      " [ 7  8  9]\n",
      " [10 11 12]\n",
      " [13 14 15]\n",
      " [16 17 18]]\n"
     ]
    }
   ],
   "source": [
    "def vertically_array(arrays):\n",
    "    return np.vstack(arrays)\n",
    "arr1 = np.array([[1, 2, 3],\n",
    "                 [4, 5, 6]])\n",
    "\n",
    "arr2 = np.array([[7, 8, 9],\n",
    "                 [10, 11, 12]])\n",
    "\n",
    "arr3 = np.array([[13, 14, 15],\n",
    "                 [16, 17, 18]])\n",
    "\n",
    "stacked_array = vertically_array([arr1, arr2, arr3])\n",
    "print(stacked_array)\n"
   ]
  },
  {
   "cell_type": "markdown",
   "id": "e6daf9a0-7a4f-4a5a-a977-b5c6ec9cdaaa",
   "metadata": {},
   "source": [
    "-------------------------------------------------------------------------------------------------------------------------------------"
   ]
  },
  {
   "cell_type": "markdown",
   "id": "786baf0c-0674-4038-80d5-90b4824ef4a3",
   "metadata": {},
   "source": [
    "### QUE:-21 Write a Python function using NumPy to create an array of integers within a specified range (inclusive)with a given step size."
   ]
  },
  {
   "cell_type": "code",
   "execution_count": 61,
   "id": "48fb8236-4da5-4835-a889-2dc5e52b5183",
   "metadata": {},
   "outputs": [
    {
     "name": "stdout",
     "output_type": "stream",
     "text": [
      "[ 1  3  5  7  9 11 13 15 17 19]\n"
     ]
    }
   ],
   "source": [
    "def interger_array(start,stop,step):\n",
    "    return np.arange(start,stop,step)\n",
    "start=1\n",
    "stop=20\n",
    "step=2\n",
    "int_arr=interger_array(start,stop,step)\n",
    "print(int_arr)"
   ]
  },
  {
   "cell_type": "markdown",
   "id": "d1b599ae-2e98-4d55-9d58-a57fff1fcfb8",
   "metadata": {},
   "source": [
    "-------------------------------------------------------------------------------------------------------------------------------------"
   ]
  },
  {
   "cell_type": "markdown",
   "id": "c9dcd46d-ed55-4e20-a126-74aab1a2dae9",
   "metadata": {},
   "source": [
    "### QUE:-22 Write a Python function using NumPy to generate an array of 10 equally spaced values between 0 and 1(inclusive).\n"
   ]
  },
  {
   "cell_type": "code",
   "execution_count": 62,
   "id": "c5bac798-0de9-4fd5-89ad-2b774e2a11ec",
   "metadata": {},
   "outputs": [
    {
     "name": "stdout",
     "output_type": "stream",
     "text": [
      "[0.         0.11111111 0.22222222 0.33333333 0.44444444 0.55555556\n",
      " 0.66666667 0.77777778 0.88888889 1.        ]\n"
     ]
    }
   ],
   "source": [
    "def equal_space():\n",
    "    return np.linspace(0,1,10)\n",
    "\n",
    "linear=equal_space()\n",
    "print(linear)"
   ]
  },
  {
   "cell_type": "markdown",
   "id": "aa858d78-516f-4fa2-900f-5a95fa3d6129",
   "metadata": {},
   "source": [
    "-------------------------------------------------------------------------------------------------------------------------------------"
   ]
  },
  {
   "cell_type": "markdown",
   "id": "b75d1d66-14be-4b03-bb8d-bc110e3c91d0",
   "metadata": {},
   "source": [
    "### QUE:-23  Write a Python function using NumPy to create an array of 5 logarithmically spaced values between 1 and1000 (inclusive)."
   ]
  },
  {
   "cell_type": "code",
   "execution_count": 63,
   "id": "3e62bec5-f177-4aef-8e7b-a9777b35556e",
   "metadata": {},
   "outputs": [
    {
     "name": "stdout",
     "output_type": "stream",
     "text": [
      "[   1.            5.62341325   31.6227766   177.827941   1000.        ]\n"
     ]
    }
   ],
   "source": [
    "import numpy as np\n",
    "\n",
    "def generate_logarithmically_spaced_values():\n",
    "    return np.logspace(start=0, stop=3, num=5)\n",
    "\n",
    "result = generate_logarithmically_spaced_values()\n",
    "print(result)\n"
   ]
  },
  {
   "cell_type": "markdown",
   "id": "91456847-f1d8-4e28-8bab-271e149f1c85",
   "metadata": {},
   "source": [
    "-------------------------------------------------------------------------------------------------------------------------------------"
   ]
  },
  {
   "cell_type": "markdown",
   "id": "4059348f-624a-42ab-a9b9-b07ab209f525",
   "metadata": {},
   "source": [
    "### QUE:-24. Create a Pandas DataFrame using a NumPy array that contains 5 rows and 3 columns, where the valuesare random integers between 1 and 100."
   ]
  },
  {
   "cell_type": "code",
   "execution_count": 24,
   "id": "bac26e59-f98d-4416-9d5f-9a1fb46badbf",
   "metadata": {},
   "outputs": [
    {
     "name": "stdout",
     "output_type": "stream",
     "text": [
      "   column11  column2  column3\n",
      "0        67       99       38\n",
      "1        96       80       80\n",
      "2        72       76       90\n",
      "3        77        3       71\n",
      "4        83       74       80\n"
     ]
    }
   ],
   "source": [
    "import numpy as np\n",
    "import pandas as pd\n",
    "data_array=np.random.randint(1,100,size=(5,3))\n",
    "df=pd.DataFrame(data_array,columns=['column11','column2','column3'])\n",
    "print(df)"
   ]
  },
  {
   "cell_type": "markdown",
   "id": "2278da56-3bb7-4886-abab-78ec6630e3b0",
   "metadata": {},
   "source": [
    "-------------------------------------------------------------------------------------------------------------------------------------"
   ]
  },
  {
   "cell_type": "markdown",
   "id": "b22150ee-d4ca-4789-ab7b-f392305d7a1e",
   "metadata": {},
   "source": [
    "### QUE:-25. Write a function that takes a Pandas DataFrame and replaces all negative values in a specific columnwith zeros. Use NumPy operations within the Pandas DataFrame."
   ]
  },
  {
   "cell_type": "code",
   "execution_count": 25,
   "id": "b56b612a-b5f6-405e-8144-3038b27093ce",
   "metadata": {},
   "outputs": [
    {
     "name": "stdout",
     "output_type": "stream",
     "text": [
      "original\n",
      "   A   B   C\n",
      "0 -1   6  11\n",
      "1  2  -7  12\n",
      "2 -3   8  13\n",
      "3  4  -9  14\n",
      "4  5  10  15\n",
      "modified\n",
      "   A   B   C\n",
      "0  0   6  11\n",
      "1  2   0  12\n",
      "2  0   8  13\n",
      "3  4   0  14\n",
      "4  5  10  15\n"
     ]
    }
   ],
   "source": [
    "def negeive_remove(df):\n",
    "    return df.applymap(lambda x : 0 if x < 0 else x)\n",
    "data = {'A': [-1, 2, -3, 4, 5],\n",
    "        'B': [6, -7, 8, -9, 10],\n",
    "        'C': [11, 12, 13, 14, 15]}\n",
    "df=pd.DataFrame(data)\n",
    "print('original')\n",
    "print(df)\n",
    "df_modi=negeive_remove(df)\n",
    "print(\"modified\")\n",
    "print(df_modi)"
   ]
  },
  {
   "cell_type": "markdown",
   "id": "013d11de-a908-4f87-8e2e-51678314a5d2",
   "metadata": {},
   "source": [
    "-------------------------------------------------------------------------------------------------------------------------------------"
   ]
  },
  {
   "cell_type": "markdown",
   "id": "bb3a5854-1bb7-46ed-9a68-ffa0548bff4d",
   "metadata": {},
   "source": [
    "### QUE:_26 26. Access the 3rd element from the given NumPy array.\n",
    "arr = np.array([10, 20, 30, 40, 50])"
   ]
  },
  {
   "cell_type": "code",
   "execution_count": 26,
   "id": "634ea819-77f7-4b21-b5d7-e7593e2290d1",
   "metadata": {},
   "outputs": [
    {
     "name": "stdout",
     "output_type": "stream",
     "text": [
      "third element= 30\n"
     ]
    }
   ],
   "source": [
    "import numpy as np\n",
    "arr = np.array([10, 20, 30, 40, 50])\n",
    "third_element=arr[2]\n",
    "print('third element=',third_element)"
   ]
  },
  {
   "cell_type": "markdown",
   "id": "462627fe-c32a-450c-87cf-67b32befda9d",
   "metadata": {},
   "source": [
    "-------------------------------------------------------------------------------------------------------------------------------------"
   ]
  },
  {
   "cell_type": "markdown",
   "id": "75a46d4a-8580-4dfa-964a-0cf3e24b3b68",
   "metadata": {},
   "source": [
    "### QUE:-27. Retrieve the element at index (1, 2) from the 2D NumPy array.\n",
    "arr_2d = np.array([[1, 2, 3],\n",
    "                   [4, 5, 6],\n",
    "                   [7, 8, 9]])"
   ]
  },
  {
   "cell_type": "code",
   "execution_count": 27,
   "id": "c8e72563-72a4-4c22-a036-2378a45d9370",
   "metadata": {},
   "outputs": [
    {
     "name": "stdout",
     "output_type": "stream",
     "text": [
      "6\n"
     ]
    }
   ],
   "source": [
    "import numpy as np\n",
    "\n",
    "arr_2d=np.array([[1,2,3],\n",
    "                 [4,5,6],\n",
    "                 [7,8,9]])\n",
    "element_=arr_2d[1,2]\n",
    "print(element_)"
   ]
  },
  {
   "cell_type": "markdown",
   "id": "8862b4d6-8cb5-47f1-821b-2bd1a74188f4",
   "metadata": {},
   "source": [
    "-------------------------------------------------------------------------------------------------------------------------------------"
   ]
  },
  {
   "cell_type": "markdown",
   "id": "edb229c6-56cd-4e79-8b36-c30982d8b0fa",
   "metadata": {},
   "source": [
    "### QUE:-28. Using boolean indexing, extract elements greater than 5 from the given NumPy array.\n",
    "arr = np.array([3, 8, 2, 10, 5, 7])"
   ]
  },
  {
   "cell_type": "code",
   "execution_count": 28,
   "id": "ed1aa6d1-6164-45f9-a71c-a21cb5b3f72a",
   "metadata": {},
   "outputs": [
    {
     "name": "stdout",
     "output_type": "stream",
     "text": [
      "[ 8 10  7]\n"
     ]
    }
   ],
   "source": [
    "import numpy as np\n",
    "arr=arr = np.array([3, 8, 2, 10, 5, 7])\n",
    "greater_than_5=arr[arr>5]\n",
    "print(greater_than_5)"
   ]
  },
  {
   "cell_type": "markdown",
   "id": "83014255-478d-410f-b25e-d23c162a21e5",
   "metadata": {},
   "source": [
    "-------------------------------------------------------------------------------------------------------------------------------------"
   ]
  },
  {
   "cell_type": "markdown",
   "id": "ef962392-4760-4484-b491-f312f0e655a8",
   "metadata": {},
   "source": [
    "### QUE:-29. Perform basic slicing to extract elements from index 2 to 5 (inclusive) from the given NumPy array.\n",
    "arr = np.array([1, 2, 3, 4, 5, 6, 7, 8, 9])"
   ]
  },
  {
   "cell_type": "code",
   "execution_count": 29,
   "id": "a58564d6-047c-4e4f-9bd2-67a0463cf909",
   "metadata": {},
   "outputs": [
    {
     "name": "stdout",
     "output_type": "stream",
     "text": [
      "[3 4 5 6]\n"
     ]
    }
   ],
   "source": [
    "arr=np.array([1,2,3,4,5,6,7,8,9])\n",
    "sliced=arr[2:6]\n",
    "print(sliced)"
   ]
  },
  {
   "cell_type": "markdown",
   "id": "ba28ab99-619c-453a-b6b9-7e9c024f7314",
   "metadata": {},
   "source": [
    "-------------------------------------------------------------------------------------------------------------------------------------"
   ]
  },
  {
   "cell_type": "markdown",
   "id": "23acc024-0857-4cff-abff-740970fa6ccb",
   "metadata": {},
   "source": [
    "### QUE:-30 Slice the 2D NumPy array to extract the sub-array `[[2, 3], [5, 6]]` from the given array.\n",
    "arr_2d = np.array([[1, 2, 3], ",
    "\n",
    "                   [4, 5, 6], ",
    "\n",
    "                   [7, 8, 9]])\n"
   ]
  },
  {
   "cell_type": "code",
   "execution_count": 30,
   "id": "7ebc6b56-286f-4ec2-bff6-011e7d831374",
   "metadata": {},
   "outputs": [
    {
     "name": "stdout",
     "output_type": "stream",
     "text": [
      "[[2 3]\n",
      " [5 6]]\n"
     ]
    }
   ],
   "source": [
    "arr_2d = np.array([[1, 2, 3],\n",
    "                   [4, 5, 6],\n",
    "                   [7, 8, 9]])\n",
    "sliced=arr_2d[0:2,1:3]\n",
    "print(sliced)"
   ]
  },
  {
   "cell_type": "markdown",
   "id": "c70adb16-8bfe-4f02-a9f8-5053b87f319e",
   "metadata": {},
   "source": [
    "-------------------------------------------------------------------------------------------------------------------------------------"
   ]
  },
  {
   "cell_type": "markdown",
   "id": "ebae526a-9216-4cb8-850e-4a0adbc36158",
   "metadata": {},
   "source": [
    "### QUE:-31 31.Write a NumPy function to extract elements in specific order from a given 2D array based on indices provided in another array."
   ]
  },
  {
   "cell_type": "code",
   "execution_count": 31,
   "id": "497b333c-7b11-416e-866a-61d97aaa0d19",
   "metadata": {},
   "outputs": [
    {
     "name": "stdout",
     "output_type": "stream",
     "text": [
      "[[7 8 9]\n",
      " [1 2 3]\n",
      " [4 5 6]]\n"
     ]
    }
   ],
   "source": [
    "import numpy as np\n",
    "def extract_element(arr_2d,indices):\n",
    "    return arr_2d[indices]\n",
    "\n",
    "arr_2d=np.array([[1,2,3],\n",
    "                 [4,5,6],\n",
    "                 [7,8,9]])\n",
    "indices=np.array([2,0,1])\n",
    "extracted_elements = extract_element(arr_2d, indices)\n",
    "\n",
    "print(extracted_elements)"
   ]
  },
  {
   "cell_type": "markdown",
   "id": "a27d4247-cdac-4517-bc25-8a46b7af7812",
   "metadata": {},
   "source": [
    "-------------------------------------------------------------------------------------------------------------------------------------"
   ]
  },
  {
   "cell_type": "markdown",
   "id": "9757545c-9a28-4e5c-8b81-b76d85527537",
   "metadata": {},
   "source": [
    "### QUE:-32. Create a NumPy function that filters elements greater than a threshold from a given 1D array usingboolean indexing"
   ]
  },
  {
   "cell_type": "code",
   "execution_count": 32,
   "id": "0c23b59a-cbf2-421a-8219-d5487994c994",
   "metadata": {},
   "outputs": [
    {
     "name": "stdout",
     "output_type": "stream",
     "text": [
      "[5 6 7 8 9]\n"
     ]
    }
   ],
   "source": [
    "def filter_greater_than(arr,threshold):\n",
    "    return arr[arr>threshold]\n",
    "arr=np.array([1,2,3,4,5,6,7,8,9])\n",
    "threshold=4\n",
    "result=filter_greater_than(arr,threshold)\n",
    "print(result)\n",
    "    "
   ]
  },
  {
   "cell_type": "markdown",
   "id": "26ace415-1ea3-44da-ba32-a25b9d8546c5",
   "metadata": {},
   "source": [
    "-------------------------------------------------------------------------------------------------------------------------------------"
   ]
  },
  {
   "cell_type": "markdown",
   "id": "d6a4151e-2822-4647-8a1a-372922c2ce2d",
   "metadata": {},
   "source": [
    "### QUE:-33. Develop a NumPy function that extracts specific elements from a 3D array using indices provided in three separate arrays for each dimension."
   ]
  },
  {
   "cell_type": "code",
   "execution_count": 33,
   "id": "518cb16e-61cb-449f-b4d0-a03a3ff05536",
   "metadata": {},
   "outputs": [
    {
     "name": "stdout",
     "output_type": "stream",
     "text": [
      "[ 6 10 20]\n"
     ]
    }
   ],
   "source": [
    "def extract_array(arr_3d,indices1,indices2,indices3):\n",
    "    return arr_3d[indices1,indices2,indices3]\n",
    "arr_3d= np.array([[[1, 2, 3],\n",
    "                    [4, 5, 6],\n",
    "                    [7, 8, 9]],\n",
    "                   [[10, 11, 12],\n",
    "                    [13, 14, 15],\n",
    "                    [16, 17, 18]],\n",
    "                   [[19, 20, 21],\n",
    "                    [22, 23, 24],\n",
    "                    [25, 26, 27]]])\n",
    "\n",
    "indices1 = np.array([0, 1, 2])\n",
    "indices2 = np.array([1,0,0])\n",
    "indices3 = np.array([2,0,1])\n",
    "\n",
    "extracted_element=extract_array(arr_3d,indices1,indices2,indices3)\n",
    "print(extracted_element)"
   ]
  },
  {
   "cell_type": "markdown",
   "id": "831d0706-6a55-4212-82ec-a87ebb9af6a7",
   "metadata": {},
   "source": [
    "-------------------------------------------------------------------------------------------------------------------------------------"
   ]
  },
  {
   "cell_type": "markdown",
   "id": "1ae9f7cf-515a-4f5e-b096-7f62324b567c",
   "metadata": {},
   "source": [
    "### QUE:-34. Write a NumPy function that returns elements from an array where both two conditions are satisfiedusing boolean indexing."
   ]
  },
  {
   "cell_type": "code",
   "execution_count": 34,
   "id": "16a5e61f-7ef3-473b-9306-76bf5f760c26",
   "metadata": {},
   "outputs": [
    {
     "name": "stdout",
     "output_type": "stream",
     "text": [
      "[ 6  8 12 14]\n"
     ]
    }
   ],
   "source": [
    "def filter_element(arr,cond1,cond2):\n",
    "    return arr[(cond1)&(cond2)]\n",
    "arr=np.array([1,2,3,4,5,6,7,8,9,12,13,14,15])\n",
    "cond1=arr>4\n",
    "cond2=arr%2==0\n",
    "result=filter_element(arr,cond1,cond2)\n",
    "print(result)"
   ]
  },
  {
   "cell_type": "markdown",
   "id": "a368f329-fac7-45fa-a13c-bccd1c1d75c7",
   "metadata": {},
   "source": [
    "-------------------------------------------------------------------------------------------------------------------------------------"
   ]
  },
  {
   "cell_type": "markdown",
   "id": "6ae797cc-697a-487d-8f53-83ffdd99b8ed",
   "metadata": {},
   "source": [
    "### QUE:-35. Create a NumPy function that extracts elements from a 2D array using row and column indices providedin separate arrays."
   ]
  },
  {
   "cell_type": "code",
   "execution_count": 35,
   "id": "70a3fc70-0f13-4b6c-8338-b966c8c6de95",
   "metadata": {},
   "outputs": [
    {
     "name": "stdout",
     "output_type": "stream",
     "text": [
      "[2 4 9]\n"
     ]
    }
   ],
   "source": [
    "import numpy as np\n",
    "def extract_array(arr,row,column):\n",
    "    return arr[row,column]\n",
    "arr=np.array([[1, 2, 3],\n",
    "             [4, 5, 6],\n",
    "             [7, 8, 9]])\n",
    "row=np.array([0,1,2])\n",
    "column=np.array([1,0,2])\n",
    "extracted_array=extract_array(arr,row,column)\n",
    "print(extracted_array)"
   ]
  },
  {
   "cell_type": "markdown",
   "id": "b9fdad7b-67c8-46eb-b117-bedaa558ed65",
   "metadata": {},
   "source": [
    "-------------------------------------------------------------------------------------------------------------------------------------"
   ]
  },
  {
   "cell_type": "markdown",
   "id": "68489b13-fce1-4a61-87e9-7e80dac68f1b",
   "metadata": {},
   "source": [
    "### QUE:-36. Given an array arr of shape (3, 3), add a scalar value of 5 to each element using NumPy broadcasting."
   ]
  },
  {
   "cell_type": "code",
   "execution_count": 36,
   "id": "245a415f-6a43-4aa2-ab16-2416fd0dd786",
   "metadata": {},
   "outputs": [
    {
     "name": "stdout",
     "output_type": "stream",
     "text": [
      "original_array\n",
      "[[1 2 3]\n",
      " [4 5 6]\n",
      " [7 8 9]]\n",
      "scalar_value\n",
      "[[ 6  7  8]\n",
      " [ 9 10 11]\n",
      " [12 13 14]]\n"
     ]
    }
   ],
   "source": [
    "arr = np.array([[1, 2, 3],\n",
    "                [4, 5, 6],\n",
    "                [7, 8, 9]])\n",
    "result=arr+5\n",
    "print(\"original_array\")\n",
    "print(arr)\n",
    "print(\"scalar_value\")\n",
    "print(result)"
   ]
  },
  {
   "cell_type": "markdown",
   "id": "67c86099-2c98-40f7-8921-540c98d2d049",
   "metadata": {},
   "source": [
    "-------------------------------------------------------------------------------------------------------------------------------------"
   ]
  },
  {
   "cell_type": "markdown",
   "id": "b6941588-8c28-4bee-b33a-af3a7ba33aa0",
   "metadata": {},
   "source": [
    "### QUE:-37. Consider two arrays arr1 of shape (1, 3) and arr2 of shape (3, 4). Multiply each row of arr2 by the corresponding element in arr1 using NumPy broadcasting."
   ]
  },
  {
   "cell_type": "code",
   "execution_count": 37,
   "id": "ec3a211b-cb74-457d-afad-3fe01a53d970",
   "metadata": {},
   "outputs": [
    {
     "name": "stdout",
     "output_type": "stream",
     "text": [
      "Array arr1:\n",
      "[[2 3 4]]\n",
      "\n",
      "Array arr2:\n",
      "[[ 1  2  3  4]\n",
      " [ 5  6  7  8]\n",
      " [ 9 10 11 12]]\n",
      "\n",
      "Result after multiplication:\n",
      "[[ 2  4  6  8]\n",
      " [15 18 21 24]\n",
      " [36 40 44 48]]\n"
     ]
    }
   ],
   "source": [
    "arr1 = np.array([[2, 3, 4]])  \n",
    "arr2 = np.array([[1, 2, 3, 4],  \n",
    "                 [5, 6, 7, 8],\n",
    "                 [9, 10, 11, 12]])\n",
    "arr1_reshape=np.transpose(arr1)\n",
    "\n",
    "result = arr1_reshape * arr2\n",
    "\n",
    "print(\"Array arr1:\")\n",
    "print(arr1)\n",
    "print(\"\\nArray arr2:\")\n",
    "print(arr2)\n",
    "print(\"\\nResult after multiplication:\")\n",
    "print(result)\n"
   ]
  },
  {
   "cell_type": "markdown",
   "id": "2a588b67-7491-4742-a111-c893c20c13da",
   "metadata": {},
   "source": [
    "-------------------------------------------------------------------------------------------------------------------------------------"
   ]
  },
  {
   "cell_type": "markdown",
   "id": "1e6418af-2f48-443d-b102-37e68631e962",
   "metadata": {},
   "source": [
    "### QUE:-38 Given a 1D array arr1 of shape (1, 4) and a 2D array arr2 of shape (4, 3), add arr1 to each row of arr2 using NumPy broadcasting."
   ]
  },
  {
   "cell_type": "code",
   "execution_count": 38,
   "id": "44860507-af0f-480e-b06a-6da4eefebad3",
   "metadata": {},
   "outputs": [
    {
     "name": "stdout",
     "output_type": "stream",
     "text": [
      "Array arr1:\n",
      "[[2 3 4 5]]\n",
      "Array arr2:\n",
      "[[ 1  2  3]\n",
      " [ 4  5  6]\n",
      " [ 7  8  9]\n",
      " [10 11 12]]\n",
      "Result after addition:\n",
      "[[ 3  4  5]\n",
      " [ 7  8  9]\n",
      " [11 12 13]\n",
      " [15 16 17]]\n"
     ]
    }
   ],
   "source": [
    "import numpy as np\n",
    "\n",
    "\n",
    "arr1 = np.array([[2, 3, 4, 5]])  #\n",
    "arr2 = np.array([[1, 2, 3],       \n",
    "                  [4, 5, 6],\n",
    "                  [7, 8, 9],\n",
    "                  [10, 11, 12]])\n",
    "\n",
    "arr1_reshape=np.transpose(arr1)\n",
    "result = arr1_reshape + arr2\n",
    "\n",
    "print(\"Array arr1:\")\n",
    "print(arr1)\n",
    "print(\"Array arr2:\")\n",
    "print(arr2)\n",
    "print(\"Result after addition:\")\n",
    "print(result)\n"
   ]
  },
  {
   "cell_type": "markdown",
   "id": "a3347636-5096-4cf0-a638-bf6ab39b5d44",
   "metadata": {},
   "source": [
    "-------------------------------------------------------------------------------------------------------------------------------------"
   ]
  },
  {
   "cell_type": "markdown",
   "id": "ba15ea17-45d8-480c-9846-031edacd2331",
   "metadata": {},
   "source": [
    "### QUE:-39. Consider two arrays arr1 of shape (3, 1) and arr2 of shape (1, 3). Add these arrays using NumPy broadcasting."
   ]
  },
  {
   "cell_type": "code",
   "execution_count": 39,
   "id": "a5909aaa-ca3d-4a71-a397-9d3408be9588",
   "metadata": {},
   "outputs": [
    {
     "name": "stdout",
     "output_type": "stream",
     "text": [
      "Array arr1:\n",
      "[[2]\n",
      " [3]\n",
      " [4]]\n",
      "Array arr2:\n",
      "[[5 6 7]]\n",
      "Result after addition:\n",
      "[[ 7  8  9]\n",
      " [ 8  9 10]\n",
      " [ 9 10 11]]\n"
     ]
    }
   ],
   "source": [
    "arr1 = np.array([[2],    \n",
    "                  [3],\n",
    "                  [4]])\n",
    "arr2 = np.array([[5, 6, 7]])\n",
    "result = arr1 + arr2\n",
    "\n",
    "print(\"Array arr1:\")\n",
    "print(arr1)\n",
    "print(\"Array arr2:\")\n",
    "print(arr2)\n",
    "print(\"Result after addition:\")\n",
    "print(result)\n"
   ]
  },
  {
   "cell_type": "markdown",
   "id": "884a4ac8-ca1e-4411-81f0-eafb68ffb366",
   "metadata": {},
   "source": [
    "-------------------------------------------------------------------------------------------------------------------------------------"
   ]
  },
  {
   "cell_type": "markdown",
   "id": "0e3672b7-d476-450d-8f2a-3eb9faa855d7",
   "metadata": {},
   "source": [
    "### QUE:-40. Given arrays arr1 of shape (2, 3) and arr2 of shape (2, 2), perform multiplication using NumPy broadcasting. Handle the shape incompatibility."
   ]
  },
  {
   "cell_type": "code",
   "execution_count": 40,
   "id": "8883855a-aeb8-4fcb-a645-ef5d259a9e0d",
   "metadata": {},
   "outputs": [
    {
     "ename": "SyntaxError",
     "evalue": "invalid syntax (1211687641.py, line 14)",
     "output_type": "error",
     "traceback": [
      "\u001b[0;36m  Cell \u001b[0;32mIn[40], line 14\u001b[0;36m\u001b[0m\n\u001b[0;31m    print(arr1)v\u001b[0m\n\u001b[0m               ^\u001b[0m\n\u001b[0;31mSyntaxError\u001b[0m\u001b[0;31m:\u001b[0m invalid syntax\n"
     ]
    }
   ],
   "source": [
    "import numpy as np\n",
    "\n",
    "# Define the arrays\n",
    "arr1 = np.array([[1, 2, 3],   \n",
    "                  [4, 5, 6]])\n",
    "arr2 = np.array([[2, 3],      \n",
    "                  [4, 5]])\n",
    "\n",
    "\n",
    "arr2_reshaped = np.expand_dims(arr2, axis=2)  \n",
    "result = arr1 * arr2_reshaped\n",
    "\n",
    "print(\"Array arr1:\")\n",
    "print(arr1)v\n",
    "print(\"\\nArray arr2:\")\n",
    "print(arr2)\n",
    "print(\"\\nResult after multiplication:\")\n",
    "print(result)\n"
   ]
  },
  {
   "cell_type": "markdown",
   "id": "5fcd9bce-e8f2-4aa7-b1f9-d155864be5bc",
   "metadata": {},
   "source": [
    "-------------------------------------------------------------------------------------------------------------------------------------"
   ]
  },
  {
   "cell_type": "markdown",
   "id": "287e04e7-8292-4420-a35e-c9d828c5872f",
   "metadata": {},
   "source": [
    "### QUE:-41 Calculate column wise mean for the given array:\n",
    " arr = np.array([[1, 2, 3], [4, 5, 6]])\n",
    "\n",
    "\n",
    "\n",
    "\n",
    "\n",
    "\n",
    "\n",
    "\n",
    "\n",
    "\n",
    "\n",
    " \n",
    "\n"
   ]
  },
  {
   "cell_type": "code",
   "execution_count": null,
   "id": "bd6766cf-8061-4ed6-9c2d-29c12acd6d3b",
   "metadata": {},
   "outputs": [],
   "source": [
    "arr = np.array([[1, 2, 3], [4, 5, 6]])\n",
    "column_mean=np.mean(arr,axis=0)\n",
    "print(\"original array\")\n",
    "print(arr)\n",
    "print(\"column wise mean\")\n",
    "print(column_mean)"
   ]
  },
  {
   "cell_type": "markdown",
   "id": "dc4cd4e2-cf9b-4adf-8d96-d35e2775776a",
   "metadata": {},
   "source": [
    "-------------------------------------------------------------------------------------------------------------------------------------"
   ]
  },
  {
   "cell_type": "markdown",
   "id": "a070a7f0-21a2-48f3-bfbf-438553dadea8",
   "metadata": {},
   "source": [
    "### QUE:-42. Find maximum value in each row of the given array:\n",
    "arr = np.array([[1, 2, 3], [4, 5, 6]])"
   ]
  },
  {
   "cell_type": "code",
   "execution_count": null,
   "id": "ae0875b2-3760-41de-a396-869bbbdb6df3",
   "metadata": {},
   "outputs": [],
   "source": [
    "arr = np.array([[1, 2, 3], [4, 5, 6]])\n",
    "maximum=np.max(arr,axis=1)\n",
    "print(\"original array\")\n",
    "print(arr)\n",
    "print(\"maximum value\")\n",
    "print(maximum)"
   ]
  },
  {
   "cell_type": "markdown",
   "id": "1ec1469a-b998-4d8f-bba2-7f23533eea40",
   "metadata": {},
   "source": [
    "-------------------------------------------------------------------------------------------------------------------------------------"
   ]
  },
  {
   "cell_type": "markdown",
   "id": "94957fa7-a9b1-4946-b636-b9355475c6d3",
   "metadata": {},
   "source": [
    "### QUE:-43. For the given array, find indices of maximum value in each column.\n",
    "arr = np.array([[1, 2, 3], [4, 5, 6]])"
   ]
  },
  {
   "cell_type": "code",
   "execution_count": null,
   "id": "4eb526b5-99bc-4dfe-95d2-fc87317472d4",
   "metadata": {},
   "outputs": [],
   "source": [
    "arr = np.array([[1, 2, 3], [4, 5, 6]])\n",
    "maxi_indices=np.argmax(arr,axis=0)\n",
    "print(\"original array\")\n",
    "print(arr)\n",
    "print(\"maximum indices\")\n",
    "print(maxi_indices)"
   ]
  },
  {
   "cell_type": "markdown",
   "id": "144ade82-2ebe-4f26-abe7-95e674c771f6",
   "metadata": {},
   "source": [
    "-------------------------------------------------------------------------------------------------------------------------------------"
   ]
  },
  {
   "cell_type": "markdown",
   "id": "d047dbd3-c3b2-4c14-8209-96f19e09d1f2",
   "metadata": {},
   "source": [
    "### QUE:-44. For the given array, apply custom function to calculate moving sum along rows.\n",
    "arr = np.array([[1, 2, 3], [4, 5, 6]])"
   ]
  },
  {
   "cell_type": "code",
   "execution_count": null,
   "id": "bf52524c-882a-4124-ab22-b458a411952c",
   "metadata": {},
   "outputs": [],
   "source": [
    "import numpy as np\n",
    "arr = np.array([[1, 2, 3], [4, 5, 6]])\n",
    "def moving_sum(row):\n",
    "    cumsum = np.cumsum(row)  \n",
    "    return cumsum\n",
    "moving_sum_arr = np.apply_along_axis(moving_sum, axis=1, arr=arr)\n",
    "\n",
    "print(\"Array:\")\n",
    "print(arr)\n",
    "print(\"Moving sum along rows:\")\n",
    "print(moving_sum_arr)"
   ]
  },
  {
   "cell_type": "markdown",
   "id": "8cf10f98-ba6b-490a-a42d-5420f122128d",
   "metadata": {},
   "source": [
    "-------------------------------------------------------------------------------------------------------------------------------------"
   ]
  },
  {
   "cell_type": "markdown",
   "id": "6fce582e-cb92-4083-add1-cadcd2e86d83",
   "metadata": {},
   "source": [
    "### QUE:-45. In the given array, check if all elements in each column are even.\n",
    "arr = np.array([[2, 4, 6], [3, 5, 7]])"
   ]
  },
  {
   "cell_type": "code",
   "execution_count": null,
   "id": "8d74b096-79d5-42df-ae83-20f633d9ca55",
   "metadata": {},
   "outputs": [],
   "source": [
    "arr = np.array([[2, 4, 6], [4, 5, 7]])\n",
    "\n",
    "are_all_even = np.all(arr % 2 == 0, axis=0)\n",
    "\n",
    "print(\"Array:\")\n",
    "print(arr)\n",
    "print(\"Are all elements in each column even?\")\n",
    "print(are_all_even)\n"
   ]
  },
  {
   "cell_type": "markdown",
   "id": "35827f9a-487c-414e-845a-afa29922111c",
   "metadata": {},
   "source": [
    "-------------------------------------------------------------------------------------------------------------------------------------"
   ]
  },
  {
   "cell_type": "markdown",
   "id": "c1b06b17-0c3f-44d1-acf6-5e36cccacb98",
   "metadata": {},
   "source": [
    "### QUE;-46. Given a NumPy array arr, reshape it into a matrix of dimensions `m` rows and `n` columns. Return the reshaped matrix.\n",
    "\n"
   ]
  },
  {
   "cell_type": "code",
   "execution_count": null,
   "id": "744b6b5d-224e-4601-b336-e3e961064416",
   "metadata": {},
   "outputs": [],
   "source": [
    "def reshape_matrix(arr,m,n):\n",
    "    return arr.reshape(m,n)\n",
    "\n",
    "arr=np.array([1,2,3,4,5,6])\n",
    "m=2\n",
    "n=3\n",
    "print(\"original array\")\n",
    "print(arr)\n",
    "print(\"\\nafter modified\")\n",
    "result=reshape_matrix(arr,m,n)\n",
    "print(result)"
   ]
  },
  {
   "cell_type": "markdown",
   "id": "1477247a-298b-4bc1-9c13-194ea349518e",
   "metadata": {},
   "source": [
    "-------------------------------------------------------------------------------------------------------------------------------------"
   ]
  },
  {
   "cell_type": "markdown",
   "id": "8d77eea9-97ef-4194-9bdf-c5cd4c655e14",
   "metadata": {},
   "source": [
    "### QUE:-47 Create a function that takes a matrix as input and returns the flattened array.\n",
    "input_matrix = np.array([[1, 2, 3], [4, 5, 6]])"
   ]
  },
  {
   "cell_type": "code",
   "execution_count": null,
   "id": "4c511a34-6701-4052-a3fa-7aff19e955a8",
   "metadata": {},
   "outputs": [],
   "source": [
    "def flatten_matrix(input_matrix):\n",
    "    return input_matrix.flatten()\n",
    "\n",
    "input_matrix = np.array([[1, 2, 3], [4, 5, 6]])\n",
    "result=flatten_matrix(input_matrix)\n",
    "print(\"original array\")\n",
    "print(input_matrix)\n",
    "print(\"\\nafter modified\")\n",
    "print(result)"
   ]
  },
  {
   "cell_type": "markdown",
   "id": "305d78f6-196b-46a0-bdce-bdabb23f81fd",
   "metadata": {},
   "source": [
    "-------------------------------------------------------------------------------------------------------------------------------------"
   ]
  },
  {
   "cell_type": "markdown",
   "id": "f711cb12-7e3a-453e-aa61-2d2ccc2655ba",
   "metadata": {},
   "source": [
    "### QUE:-48. Write a function that concatenates two given arrays along a specified axis\n",
    "array1 = np.array([[1, 2], [3, 4]])\n",
    "array2 = np.array([[5, 6], [7, 8]])"
   ]
  },
  {
   "cell_type": "code",
   "execution_count": null,
   "id": "92585a42-a486-4db4-9f93-a51fbd8404dc",
   "metadata": {},
   "outputs": [],
   "source": [
    "def concatenates_array(array1,array2,axis=0):\n",
    "    return np.concatenate((array1,array2),axis=axis)\n",
    "\n",
    "array1 = np.array([[1, 2], [3, 4]]) \n",
    "array2 = np.array([[5, 6], [7, 8]])\n",
    "\n",
    "result_0=concatenates_array(array1,array2,axis=0)\n",
    "result_1=concatenates_array(array1,array2,axis=1)\n",
    "\n",
    "print(\"Array 1:\")\n",
    "print(array1)\n",
    "print(\"\\nArray 2:\")\n",
    "print(array2)\n",
    "print(\"\\nConcatenated arrays along axis 0:\")\n",
    "print(result_0)\n",
    "print(\"\\nConcatenated arrays along axis 1:\")\n",
    "print(result_1)"
   ]
  },
  {
   "cell_type": "markdown",
   "id": "42c9d600-466c-4cb9-bdb0-530c335fd5c6",
   "metadata": {},
   "source": [
    "-------------------------------------------------------------------------------------------------------------------------------------"
   ]
  },
  {
   "cell_type": "markdown",
   "id": "da05f358-de11-40de-9e18-bdc5f04a0320",
   "metadata": {},
   "source": [
    "### QUE:-49. Create a function that splits an array into multiple sub-arrays along a specified axis.\n",
    "original_array = np.array([[1, 2, 3], [4, 5, 6], [7, 8, 9]])"
   ]
  },
  {
   "cell_type": "code",
   "execution_count": null,
   "id": "27844be0-0471-4097-896b-ac2ee082ad06",
   "metadata": {},
   "outputs": [],
   "source": [
    "def split_array(original_array,num_split,axis=0):\n",
    "    return np.split(original_array,num_split,axis=axis)\n",
    "\n",
    "original_array = np.array([[1, 2, 3], [4, 5, 6], [7, 8, 9]])\n",
    "\n",
    "result_0=split_array(original_array,num_split=3,axis=0)\n",
    "result_1=split_array(original_array,num_split=3,axis=1)\n",
    "\n",
    "print(\"original array\")\n",
    "print(original_array)\n",
    "print(\"\\nsplit_array along axis 0:\")\n",
    "print(result_0)\n",
    "print(\"\\nsplit_array along axis 1:\")\n",
    "print(result_1)"
   ]
  },
  {
   "cell_type": "markdown",
   "id": "18fa6437-2d4c-4c9c-b773-581094cc734e",
   "metadata": {},
   "source": [
    "-------------------------------------------------------------------------------------------------------------------------------------"
   ]
  },
  {
   "cell_type": "markdown",
   "id": "0a25458f-ef0e-407f-b1f6-1dd375ed719b",
   "metadata": {},
   "source": [
    "### QUE:-50. Write a function that inserts and then deletes elements from a given array at specified indices.\n",
    "original_array = np.array([1, 2, 3, 4, 5]) ",
    "\n",
    "indices_to_insert = [2, 4] ",
    "\n",
    "values_to_insert = [10, 11] ",
    "\n",
    "indices_to_delete = [1, 3]"
   ]
  },
  {
   "cell_type": "code",
   "execution_count": null,
   "id": "ee0c6c60-dc9f-4bdd-9748-b5e2fac5cf1a",
   "metadata": {},
   "outputs": [],
   "source": [
    "import numpy as np\n",
    "\n",
    "def insert_delete_elements(original_array, indices_to_insert, values_to_insert, indices_to_delete):\n",
    "\n",
    "    for idx, val in zip(indices_to_insert, values_to_insert):\n",
    "        original_array = np.insert(original_array, idx, val)\n",
    "        print(original_array)\n",
    "    original_array = np.delete(original_array, indices_to_delete)\n",
    "    return original_array\n",
    "\n",
    "original_array = np.array([1, 2, 3, 4, 5])\n",
    "indices_to_insert = [2, 4]\n",
    "values_to_insert = [10, 11]\n",
    "indices_to_delete = [1, 3]\n",
    "\n",
    "result_array = insert_delete_elements(original_array, indices_to_insert, values_to_insert, indices_to_delete)\n",
    "print(result_array)\n"
   ]
  },
  {
   "cell_type": "markdown",
   "id": "76d1e62a-5bd0-4220-90bf-3ac60d6f14b5",
   "metadata": {},
   "source": [
    "-------------------------------------------------------------------------------------------------------------------------------------"
   ]
  },
  {
   "cell_type": "markdown",
   "id": "ad886ea1-2a36-47f1-aa25-8a797b6757b2",
   "metadata": {},
   "source": [
    "### QUE:-51. Create a NumPy array `arr1` with random integers and another array `arr2` with integers from 1 to 10. Perform element-wise addition between `arr1` and `arr2`."
   ]
  },
  {
   "cell_type": "code",
   "execution_count": null,
   "id": "07326e25-ee7b-41a6-89ba-671118f5a1cd",
   "metadata": {},
   "outputs": [],
   "source": [
    "arr1=np.random.randint(1,100,size=(5,5))\n",
    "arr2=np.arange(1,26)\n",
    "arr2_reshaped = arr2.reshape(5,5)\n",
    "result=arr1+arr2_reshaped\n",
    "print(\"first array 1\")\n",
    "print(arr1)\n",
    "print(\"second array 2\")\n",
    "print(arr2_reshaped)\n",
    "print(\"sum of both array\")\n",
    "print(result)"
   ]
  },
  {
   "cell_type": "markdown",
   "id": "b8aeb0a0-87cd-46ec-abfe-ec24ff4d4959",
   "metadata": {},
   "source": [
    "-------------------------------------------------------------------------------------------------------------------------------------"
   ]
  },
  {
   "cell_type": "markdown",
   "id": "b7c80284-d733-4719-b2df-f2b2210d34da",
   "metadata": {},
   "source": [
    "### QUE:-52. Generate a NumPy array `arr1` with sequential integers from 10 to 1 and another array `arr2` with integers from 1 to 10. Subtract `arr2` from `arr1` element-wise."
   ]
  },
  {
   "cell_type": "code",
   "execution_count": null,
   "id": "fc1955a4-92a1-461d-bf21-d0f948a0f72e",
   "metadata": {},
   "outputs": [],
   "source": [
    "arr1=np.arange(10,0,-1)\n",
    "arr2=np.arange(1,11)\n",
    "result=arr2-arr1\n",
    "print(\"arr1:\")\n",
    "print(arr1)\n",
    "print(\"\\narr2:\")\n",
    "print(arr2)\n",
    "print(\"\\nResult of element-wise subtraction:\")\n",
    "print(result)"
   ]
  },
  {
   "cell_type": "markdown",
   "id": "fdb22760-42a5-4d48-acb5-1405bb5ae4b8",
   "metadata": {},
   "source": [
    "-------------------------------------------------------------------------------------------------------------------------------------"
   ]
  },
  {
   "cell_type": "markdown",
   "id": "37fff32a-9f8f-407e-bfb9-d60a5145fe11",
   "metadata": {},
   "source": [
    "### QUE:-53. Create a NumPy array `arr1` with random integers and another array `arr2` with integers from 1 to 5 Perform element-wise multiplication between `arr1` and `arr2`."
   ]
  },
  {
   "cell_type": "code",
   "execution_count": null,
   "id": "18a1704a-8ab8-4c85-bbd4-28d2426c7e97",
   "metadata": {},
   "outputs": [],
   "source": [
    "arr1=np.random.randint(1,100,size=(5,5))\n",
    "arr2=np.arange(1,6)\n",
    "result=arr1*arr2.reshape(-1,1)\n",
    "print(\"arr1:\")\n",
    "print(arr1)\n",
    "print(\"\\narr2:\")\n",
    "print(arr2)\n",
    "print(\"\\nResult of element-wise multiplication:\")\n",
    "print(result)\n"
   ]
  },
  {
   "cell_type": "markdown",
   "id": "15b75a04-e81a-4088-a8ba-ec9fc3c2c6ac",
   "metadata": {},
   "source": [
    "-------------------------------------------------------------------------------------------------------------------------------------"
   ]
  },
  {
   "cell_type": "markdown",
   "id": "8b7b0044-c081-4280-b48d-88bb4a13484b",
   "metadata": {},
   "source": [
    "### QUE:-54. Generate a NumPy array `arr1` with even integers from 2 to 10 and another array `arr2` with integers from 1 to 5. Perform element-wise division of `arr1` by `arr2`."
   ]
  },
  {
   "cell_type": "code",
   "execution_count": null,
   "id": "59ec268d-344d-48cc-8fc3-2b441e9e2b00",
   "metadata": {},
   "outputs": [],
   "source": [
    "arr1=np.arange(2,11,2)\n",
    "arr2=np.arange(1,6)\n",
    "result=arr1/arr2\n",
    "print(\"arr1:\")\n",
    "print(arr1)\n",
    "print(\"\\narr2:\")\n",
    "print(arr2)\n",
    "print(\"\\nResult of element-wise division:\")\n",
    "print(result)"
   ]
  },
  {
   "cell_type": "markdown",
   "id": "ec5cdce2-51ce-44ce-9174-c9b8bae36851",
   "metadata": {},
   "source": [
    "-------------------------------------------------------------------------------------------------------------------------------------"
   ]
  },
  {
   "cell_type": "markdown",
   "id": "8915dc5b-531c-4bc1-ac31-47ebfb8e952a",
   "metadata": {},
   "source": [
    "### QUE:-55. Create a NumPy array `arr1` with integers from 1 to 5 and another array `arr2` with the same numbers reversed. Calculate the exponentiation of `arr1` raised to the power of `arr2` element-wise."
   ]
  },
  {
   "cell_type": "code",
   "execution_count": null,
   "id": "e4e948d1-b395-4858-937d-4a498af42a95",
   "metadata": {},
   "outputs": [],
   "source": [
    "arr1=np.arange(1,6)\n",
    "arr2=np.arange(5,0,-1)\n",
    "result=arr1**arr2\n",
    "print(\"arr1:\")\n",
    "print(arr1)\n",
    "print(\"\\narr2:\")\n",
    "print(arr2)\n",
    "print(\"\\nResult of exponentiation:\")\n",
    "print(result)"
   ]
  },
  {
   "cell_type": "markdown",
   "id": "e43b8e71-26f7-415f-b764-2f37890b0670",
   "metadata": {},
   "source": [
    "-------------------------------------------------------------------------------------------------------------------------------------"
   ]
  },
  {
   "cell_type": "markdown",
   "id": "2145dfa7-fbe2-409e-8da8-9c39644e5a31",
   "metadata": {},
   "source": [
    "### QUE:-56. Write a function that counts the occurrences of a specific substring within a NumPy array of strings.\n",
    "arr = np.array(['hello', 'world', 'hello', 'numpy', 'hello'])"
   ]
  },
  {
   "cell_type": "code",
   "execution_count": null,
   "id": "12f7e6ba-1565-46bb-aa9f-de32a3f5b7b5",
   "metadata": {},
   "outputs": [],
   "source": [
    "def count_substring(arr,substring):\n",
    "    count=0\n",
    "    for string in arr:\n",
    "        count+=string.count(substring)\n",
    "    return count\n",
    "arr = np.array(['hello', 'world', 'hello', 'numpy', 'hello'])\n",
    "substring='world'\n",
    "result=count_substring(arr,substring)\n",
    "print(\"occurance of substring is=\",result)"
   ]
  },
  {
   "cell_type": "markdown",
   "id": "3ec1f6ef-9c1f-40c7-8f9a-7e4893685662",
   "metadata": {},
   "source": [
    "-------------------------------------------------------------------------------------------------------------------------------------"
   ]
  },
  {
   "cell_type": "markdown",
   "id": "34f76184-6497-4254-8959-8164a040aa63",
   "metadata": {},
   "source": [
    "### QUE:-57. Write a function that extracts uppercase characters from a NumPy array of strings.\n",
    "\n",
    "arr = np.array(['Hello', 'World', 'OpenAI', 'GPT'])"
   ]
  },
  {
   "cell_type": "code",
   "execution_count": null,
   "id": "910d6425-857d-4cff-9f05-e5a6a342a754",
   "metadata": {},
   "outputs": [],
   "source": [
    "def uppercase_charactor(arr):\n",
    "    uppercase_char=[]\n",
    "    for string in arr:\n",
    "        for char in string:\n",
    "            if char.isupper(): \n",
    "                \n",
    "                uppercase_char.append(char)\n",
    "    return uppercase_char\n",
    "\n",
    "arr = np.array(['Hello', 'World', 'OpenAI', 'GPT'])\n",
    "all_char=uppercase_charactor(arr)v\n",
    "print(\"uppercase character is =\",all_char)"
   ]
  },
  {
   "cell_type": "markdown",
   "id": "4d31ed32-0079-4ffb-bf0a-022e67f5903a",
   "metadata": {},
   "source": [
    "### QUE:-58. Write a function that replaces occurrences of a substring in a NumPy array of strings with a new string.\n",
    "arr = np.array(['apple', 'banana', 'grape', 'pineapple'])"
   ]
  },
  {
   "cell_type": "code",
   "execution_count": null,
   "id": "e0b3e62b-658f-44dd-9cc8-cd724068cc9a",
   "metadata": {},
   "outputs": [],
   "source": [
    "\n",
    "def replace_substring(arr, old_substring, new_substring):\n",
    "    return np.char.replace(arr, old_substring, new_substring)\n",
    "\n",
    "\n",
    "arr=np.array(['apple','banana','grape','pineapple'])\n",
    "old_substring='apple'\n",
    "new_substring='orange'\n",
    "modified_arr=replace_substring(arr, old_substring, new_substring)\n",
    "print(\"Modified array:\")\n",
    "print(modified_arr)"
   ]
  },
  {
   "cell_type": "markdown",
   "id": "4d08cf27-7e1d-43b0-9bb1-0e27e1bff8cf",
   "metadata": {},
   "source": [
    "-------------------------------------------------------------------------------------------------------------------------------------"
   ]
  },
  {
   "cell_type": "markdown",
   "id": "0071b840-23aa-46a2-b2f9-8611772b7295",
   "metadata": {},
   "source": [
    "### QUE:-59. Write a function that concatenates strings in a NumPy array element-wise\n",
    "arr1 = np.array(['Hello', 'World']) ",
    "\n",
    "arr2 = np.array(['Open', 'AI'])"
   ]
  },
  {
   "cell_type": "code",
   "execution_count": null,
   "id": "47d1e6e0-0e25-473b-b3c1-8c12aacf334b",
   "metadata": {},
   "outputs": [],
   "source": [
    "def concatenates_strings(arr1,arr2):\n",
    "    concatenated_arr=np.char.add(arr1,arr2)\n",
    "    return concatenated_arr\n",
    "arr1 = np.array(['Hello', 'World'])\n",
    "arr2 = np.array(['Open', 'AI'])\n",
    "concatenated_arr=concatenates_strings(arr1,arr2)\n",
    "print(concatenated_arr)"
   ]
  },
  {
   "cell_type": "markdown",
   "id": "fa954009-f10d-495f-b22c-4e0b32f5ee0c",
   "metadata": {},
   "source": [
    "-------------------------------------------------------------------------------------------------------------------------------------"
   ]
  },
  {
   "cell_type": "markdown",
   "id": "51506d90-869c-4507-bebc-9c684b6a12fa",
   "metadata": {},
   "source": [
    "### QUE:-60. Write a function that finds the length of the longest string in a NumPy array.\n",
    "\n",
    "arr = np.array(['apple', 'banana', 'grape', 'pineapple'])"
   ]
  },
  {
   "cell_type": "code",
   "execution_count": null,
   "id": "6871d373-10b3-498d-8f38-b85706ab7cef",
   "metadata": {},
   "outputs": [],
   "source": [
    "def longest_string(arr):\n",
    "    max_lengh=0\n",
    "    for string in arr:\n",
    "        max_lengh=max(max_lengh,len(string))\n",
    "    return max_lengh\n",
    "arr = np.array(['apple', 'banana', 'grape', 'pineapple'])\n",
    "maxx_lengh=longest_string(arr)\n",
    "print(maxx_lengh)"
   ]
  },
  {
   "cell_type": "markdown",
   "id": "f28735f6-d7b4-4172-9ee6-968a7c9c4072",
   "metadata": {},
   "source": [
    "-------------------------------------------------------------------------------------------------------------------------------------"
   ]
  },
  {
   "cell_type": "markdown",
   "id": "714d5c03-8a8f-4a25-aad0-c5e529b366fb",
   "metadata": {},
   "source": [
    "### QUE:-61. Create a dataset of 100 random integers between 1 and 1000. Compute the mean, median, variance, and standard deviation of the dataset using NumPy's functions."
   ]
  },
  {
   "cell_type": "code",
   "execution_count": null,
   "id": "8debc173-6f96-4eba-8e39-8e2ffd6f491f",
   "metadata": {},
   "outputs": [],
   "source": [
    "dataset=np.random.randint(1,1001,size=100)\n",
    "mean=np.mean(dataset)\n",
    "median=np.median(dataset)\n",
    "variance=np.var(dataset)\n",
    "std_deviation=np.std(dataset)\n",
    "print(\"Dataset:\")\n",
    "print(dataset)\n",
    "print(\"\\nMean:\", mean)\n",
    "print(\"\\nMedian:\", median)\n",
    "print(\"\\nVariance:\", variance)\n",
    "print(\"\\nStandard Deviation:\", std_deviation)"
   ]
  },
  {
   "cell_type": "markdown",
   "id": "249fbdf7-ebb1-4c5b-b7ca-67aa5838630b",
   "metadata": {},
   "source": [
    "-------------------------------------------------------------------------------------------------------------------------------------"
   ]
  },
  {
   "cell_type": "markdown",
   "id": "4e7fb9de-7a55-4bde-b535-2e097d7445a0",
   "metadata": {},
   "source": [
    "### QUE:-62. Generate an array of 50 random numbers between 1 and 100. Find the 25th and 75th percentiles of the dataset"
   ]
  },
  {
   "cell_type": "code",
   "execution_count": null,
   "id": "320837ef-62a2-48ed-a0ca-34b387436624",
   "metadata": {},
   "outputs": [],
   "source": [
    "arr=np.random.randint(1,101,size=50)\n",
    "percentile_25=np.percentile(arr,25)\n",
    "percentile_75=np.percentile(arr,75)v\n",
    "print(\"Random numbers array:\")\n",
    "print(arr)\n",
    "print(\"\\n25th percentile:\", percentile_25)\n",
    "print(\"\\n75th percentile:\", percentile_75)"
   ]
  },
  {
   "cell_type": "markdown",
   "id": "a3bddbc5-c4e8-46eb-89a4-7a99943b75cd",
   "metadata": {},
   "source": [
    "### QUE:-63. Create two arrays representing two sets of variables. Compute the correlation coefficient between these arrays using NumPy's `corrcoef` function."
   ]
  },
  {
   "cell_type": "code",
   "execution_count": null,
   "id": "c4d43490-ceb0-4fa4-a8bf-835d302b04f5",
   "metadata": {},
   "outputs": [],
   "source": [
    "array1 = np.array([1, 2, 3, 4, 5])\n",
    "array2 = np.array([2, 4, 6, 8, 10])\n",
    "correlation_coefficient = np.corrcoef(array1, array2)[0,1]\n",
    "print(correlation_coefficient)"
   ]
  },
  {
   "cell_type": "markdown",
   "id": "cf3ad753-df09-46d9-8005-feb96dd2789b",
   "metadata": {},
   "source": [
    "-------------------------------------------------------------------------------------------------------------------------------------"
   ]
  },
  {
   "cell_type": "markdown",
   "id": "5472293f-e9e2-435c-b90e-9c02a1761e8e",
   "metadata": {},
   "source": [
    "### QUE:-64. Create two matrices and perform matrix multiplication using NumPy's `dot` function."
   ]
  },
  {
   "cell_type": "code",
   "execution_count": null,
   "id": "94a942a7-b932-465a-9e71-12c808158e07",
   "metadata": {},
   "outputs": [],
   "source": [
    "matrix1 = np.array([[1, 2], [3, 4]])\n",
    "matrix2 = np.array([[5, 6], [7, 8]])\n",
    "\n",
    "result = np.dot(matrix1, matrix2)\n",
    "\n",
    "print(\"Result of matrix multiplication:\")\n",
    "print(result)"
   ]
  },
  {
   "cell_type": "markdown",
   "id": "d5a9b2dc-c8bb-4913-815e-d988b04e46dc",
   "metadata": {},
   "source": [
    "-------------------------------------------------------------------------------------------------------------------------------------"
   ]
  },
  {
   "cell_type": "markdown",
   "id": "e013ca0c-1204-43c0-83b1-a0d8538c6613",
   "metadata": {},
   "source": [
    "### QUE:-65. Create an array of 50 integers between 10 and 1000. Calculate the 10th, 50th (median), and 90th percentiles along with the first and third quartiles"
   ]
  },
  {
   "cell_type": "code",
   "execution_count": null,
   "id": "163b6361-26b4-416b-b462-8bc43d3c9f8d",
   "metadata": {},
   "outputs": [],
   "source": [
    "array = np.random.randint(10, 1001, size=50)\n",
    "percentiles = np.percentile(array, [10, 50, 90])\n",
    "first_quartile = np.percentile(array, 25)\n",
    "third_quartile = np.percentile(array, 75)\n",
    "\n",
    "print(\"Array of 50 integers:\")\n",
    "print(array)\n",
    "print(\"10th percentile:\", percentiles[0])\n",
    "print(\"Median (50th percentile):\", percentiles[1])\n",
    "print(\"90th percentile:\", percentiles[2])\n",
    "print(\"First quartile:\", first_quartile)\n",
    "print(\"Third quartile:\", third_quartile)"
   ]
  },
  {
   "cell_type": "markdown",
   "id": "6ec313b7-9075-48ae-9da1-5a5e1856e98b",
   "metadata": {},
   "source": [
    "-------------------------------------------------------------------------------------------------------------------------------------"
   ]
  },
  {
   "cell_type": "markdown",
   "id": "96ea5f9d-b29a-496a-b572-eedd0583ac34",
   "metadata": {},
   "source": [
    "### QUE:-66. Create a NumPy array of integers and find the index of a specific element."
   ]
  },
  {
   "cell_type": "code",
   "execution_count": null,
   "id": "93f58dd8-40dd-4bd2-ae74-8fb5905c90bb",
   "metadata": {},
   "outputs": [],
   "source": [
    "array = np.array([1, 2, 3, 4, 5, 6, 7, 8, 9, 10])\n",
    "specific_element = 7\n",
    "index = np.where(array == specific_element)\n",
    "if len(index) > 0:\n",
    "    print(f\"The index of {specific_element} in the array is: {index[0]}\")\n",
    "else:\n",
    "    print(f\"{specific_element} is not present in the array.\")"
   ]
  },
  {
   "cell_type": "markdown",
   "id": "765f4a52-92e5-4484-b89a-dbb10c50a58d",
   "metadata": {},
   "source": [
    "-------------------------------------------------------------------------------------------------------------------------------------"
   ]
  },
  {
   "cell_type": "markdown",
   "id": "3a5a3867-af3a-4aa8-a8b0-52940bb77c09",
   "metadata": {},
   "source": [
    "### QUE:-67. Generate a random NumPy array and sort it in ascending order"
   ]
  },
  {
   "cell_type": "code",
   "execution_count": null,
   "id": "3f481ce0-576e-486c-a579-e6e4b8ebd7d8",
   "metadata": {},
   "outputs": [],
   "source": [
    "random_array = np.random.rand(10)\n",
    "\n",
    "sorted_array = np.sort(random_array)\n",
    "\n",
    "print(\"Random array:\\n\", random_array)\n",
    "print(\"\\nSorted array in ascending order:\\n\", sorted_array)"
   ]
  },
  {
   "cell_type": "markdown",
   "id": "d52a620c-10be-4530-916b-71ffe9195fd2",
   "metadata": {},
   "source": [
    "-------------------------------------------------------------------------------------------------------------------------------------"
   ]
  },
  {
   "cell_type": "markdown",
   "id": "e2896132-7d09-4fa7-8cd1-53f953c7836e",
   "metadata": {},
   "source": [
    "-------------------------------------------------------------------------------------------------------------------------------------"
   ]
  },
  {
   "cell_type": "markdown",
   "id": "0ca87dc0-dfd4-4b14-a9c2-c7373abc8af2",
   "metadata": {},
   "source": [
    "### QUE:-68. Filter elements >20  in the given NumPy array\n",
    "arr = np.array([12, 25, 6, 42, 8, 30])"
   ]
  },
  {
   "cell_type": "code",
   "execution_count": null,
   "id": "daf2f81f-7800-4389-a75c-acef68bf8212",
   "metadata": {},
   "outputs": [],
   "source": [
    "arr = np.array([12, 25, 6, 42, 8, 30])\n",
    "filterd_arr=arr[arr>20]\n",
    "print(filterd_arr)"
   ]
  },
  {
   "cell_type": "markdown",
   "id": "73469a38-7afc-4d33-869b-eddefbeaadde",
   "metadata": {},
   "source": [
    "-------------------------------------------------------------------------------------------------------------------------------------"
   ]
  },
  {
   "cell_type": "markdown",
   "id": "2313edef-98b9-4fdb-ac73-ea00b382ac0a",
   "metadata": {},
   "source": [
    "### QUE:-69. Filter elements which are divisible by 3 from a given NumPy array\n",
    "arr = np.array([1, 5, 8, 12, 15])"
   ]
  },
  {
   "cell_type": "code",
   "execution_count": null,
   "id": "6444ad3a-ad21-40af-a85b-d54df2211670",
   "metadata": {},
   "outputs": [],
   "source": [
    "arr = np.array([1, 5, 8, 12, 15])\n",
    "\n",
    "filtered_arr = arr[arr % 3 == 0]\n",
    "\n",
    "print(\"Elements divisible by 3:\", filtered_arr)"
   ]
  },
  {
   "cell_type": "markdown",
   "id": "bfbd18ea-2d59-463a-a04b-8b82b224fe40",
   "metadata": {},
   "source": [
    "-------------------------------------------------------------------------------------------------------------------------------------"
   ]
  },
  {
   "cell_type": "markdown",
   "id": "4ea04b21-b050-4ab5-b3dc-520eefb233fb",
   "metadata": {},
   "source": [
    "### QUE:-70. Filter elements which are ≥ 20 and ≤ 40 from a given NumPy array\n",
    "arr = np.array([10, 20, 30, 40, 50])"
   ]
  },
  {
   "cell_type": "code",
   "execution_count": null,
   "id": "d57854bb-2c74-4bf3-a07a-99c19a82c2fd",
   "metadata": {},
   "outputs": [],
   "source": [
    "arr = np.array([10, 20, 30, 40, 50])\n",
    "\n",
    "filtered_arr = arr[(arr >= 20) & (arr <= 40)]\n",
    "\n",
    "print(\"Elements between 20 and 40:\", filtered_arr)"
   ]
  },
  {
   "cell_type": "markdown",
   "id": "fbe9ced7-d829-41f4-8d7a-4d4555400e5d",
   "metadata": {},
   "source": [
    "-------------------------------------------------------------------------------------------------------------------------------------"
   ]
  },
  {
   "cell_type": "markdown",
   "id": "1f00d091-7d42-44fc-ac58-b7652c6211fd",
   "metadata": {},
   "source": [
    "### QUE:-71. For the given NumPy array, check its byte order using the `dtype` attribute byteorder\n",
    "arr = np.array([1, 2, 3])"
   ]
  },
  {
   "cell_type": "code",
   "execution_count": null,
   "id": "4c2e9485-18b2-4ce7-85d9-396ca0f51139",
   "metadata": {},
   "outputs": [],
   "source": [
    "arr = np.array([1, 2, 3])\n",
    "byte_order = arr.dtype.byteorder\n",
    "\n",
    "print(\"Byte order of the array:\", byte_order)\n"
   ]
  },
  {
   "cell_type": "markdown",
   "id": "f9c408d9-ac93-4edf-b988-1037488a9d3c",
   "metadata": {},
   "source": [
    "-------------------------------------------------------------------------------------------------------------------------------------"
   ]
  },
  {
   "cell_type": "markdown",
   "id": "795a41ae-c4cc-4b31-ab2c-76015ee81992",
   "metadata": {},
   "source": [
    "### QUE:-72. For the given NumPy array, perform byte swapping in place using `byteswap()`.\n",
    "arr = np.array([1, 2, 3], dtype=np.int32)"
   ]
  },
  {
   "cell_type": "code",
   "execution_count": null,
   "id": "6ad34752-84e5-4af3-9111-99c16f27ba17",
   "metadata": {},
   "outputs": [],
   "source": [
    "arr = np.array([1, 2, 3], dtype=np.int32)\n",
    "arr.byteswap(inplace=True)v\n",
    "print(\"Array after byte swapping:\", arr)"
   ]
  },
  {
   "cell_type": "markdown",
   "id": "fd5cef86-1b60-46c3-bd35-a5daf23e8de1",
   "metadata": {},
   "source": [
    "### QUE:-73. For the given NumPy array, swap its byte order without modifying the original array using `newbyteorder()`.\n",
    "arr = np.array([1, 2, 3], dtype=np.int32)"
   ]
  },
  {
   "cell_type": "code",
   "execution_count": null,
   "id": "b9a9f9dd-e3bd-428d-9f65-46132fb072be",
   "metadata": {},
   "outputs": [],
   "source": [
    "arr = np.array([1, 2, 3], dtype=np.int32)\n",
    "swapped_arr = arr.newbyteorder()\n",
    "\n",
    "print(\"Original array:\", arr)\n",
    "print(\"Swapped array:\", swapped_arr)"
   ]
  },
  {
   "cell_type": "markdown",
   "id": "3d988a22-03a8-4fa3-85d0-53bb9c768660",
   "metadata": {},
   "source": [
    "-------------------------------------------------------------------------------------------------------------------------------------"
   ]
  },
  {
   "cell_type": "markdown",
   "id": "73fd81bb-32f6-41bd-bed7-ac98e3927338",
   "metadata": {},
   "source": [
    "### QUE:-74. For the given NumPy array and swap its byte order conditionally based on system endianness using `newbyteorder()`.\n",
    "arr = np.array([1, 2, 3], dtype=np.int32)"
   ]
  },
  {
   "cell_type": "code",
   "execution_count": null,
   "id": "6baa1f3d-71f1-4415-8f18-1291f7909441",
   "metadata": {},
   "outputs": [],
   "source": [
    "arr = np.array([1, 2, 3], dtype=np.int32)\n",
    "system_endianness = np.dtype(arr.dtype).byteorder\n",
    "\n",
    "swapped_arr = arr.newbyteorder(system_endianness)\n",
    "\n",
    "print(\"Original array:\", arr)\n",
    "print(\"Swapped array based on system endianness:\", swapped_arr)\n"
   ]
  },
  {
   "cell_type": "markdown",
   "id": "c3d885a2-e920-4cc0-b452-d5244df7e81e",
   "metadata": {},
   "source": [
    "-------------------------------------------------------------------------------------------------------------------------------------"
   ]
  },
  {
   "cell_type": "markdown",
   "id": "07296c80-71f2-469a-9a4d-e5dc945849f5",
   "metadata": {},
   "source": [
    "### QUE:-75. For the given NumPy array, check if byte swapping is necessary for the current system using `dtype`  attribute `byteorder`.\n",
    "arr = np.array([1, 2, 3], dtype=np.int32)"
   ]
  },
  {
   "cell_type": "code",
   "execution_count": null,
   "id": "47c780b9-bb61-4b67-8eae-4fba3fc07fe6",
   "metadata": {},
   "outputs": [],
   "source": [
    "arr = np.array([1, 2, 3], dtype=np.int32)\n",
    "\n",
    "byte_order = arr.dtype.byteorder\n",
    "if byte_order != '=':\n",
    "    print(\"Byte swapping is necessary for the current system.\")\n",
    "else:\n",
    "    print(\"Byte swapping is not necessary for the current system.\")"
   ]
  },
  {
   "cell_type": "markdown",
   "id": "3c77beca-e3a8-4a29-858d-eff208a0927e",
   "metadata": {},
   "source": [
    "-------------------------------------------------------------------------------------------------------------------------------------"
   ]
  },
  {
   "cell_type": "markdown",
   "id": "7dc8ddeb-1125-4cd0-9df1-1569c48c5b02",
   "metadata": {},
   "source": [
    "### QUE:-76. Create a NumPy array `arr1` with values from 1 to 10. Create a copy of `arr1` named `copy_arr` and modify an element in `copy_arr`. Check if modifying `copy_arr` affects `arr1`.\n",
    "\n",
    "\n"
   ]
  },
  {
   "cell_type": "code",
   "execution_count": null,
   "id": "a423ca09-5aa7-46dd-9b80-3475853638cd",
   "metadata": {},
   "outputs": [],
   "source": [
    "arr1 = np.arange(1, 11)\n",
    "copy_arr = arr1.copy()\n",
    "copy_arr[0] = 100\n",
    "print(\"Original arr1:\", arr1)\n",
    "print(\"Modified copy_arr:\", copy_arr)\n"
   ]
  },
  {
   "cell_type": "markdown",
   "id": "dfd2ce7b-0bee-4146-971e-df8a6988c484",
   "metadata": {},
   "source": [
    "-------------------------------------------------------------------------------------------------------------------------------------"
   ]
  },
  {
   "cell_type": "markdown",
   "id": "9242bd2c-3c0a-4709-8e5c-cccaaed97adf",
   "metadata": {},
   "source": [
    "### QUE:-77. Create a 2D NumPy array `matrix` of shape (3, 3) with random integers. Extract a slice `view_slice` from the matrix. Modify an element in `view_slice` and observe if it changes the original `matrix`.\n",
    "\n",
    "\n"
   ]
  },
  {
   "cell_type": "code",
   "execution_count": null,
   "id": "672f6d06-317f-43b9-bd85-debcdec3486a",
   "metadata": {},
   "outputs": [],
   "source": [
    "matrix = np.random.randint(1, 100, size=(3, 3))\n",
    "view_slice = matrix[:2, :2]\n",
    "view_slice[0, 0] = 999\n",
    "\n",
    "print(\"Original matrix:\")\n",
    "print(matrix)\n",
    "print(\"Modified view_slice:\")\n",
    "print(view_slice)"
   ]
  },
  {
   "cell_type": "markdown",
   "id": "991e4144-c2ff-4aa4-ac45-73031dcb1593",
   "metadata": {},
   "source": [
    "-------------------------------------------------------------------------------------------------------------------------------------"
   ]
  },
  {
   "cell_type": "markdown",
   "id": "070663e5-d736-48c8-8962-5254df4ee4f5",
   "metadata": {},
   "source": [
    "### QUE:-78. Create a NumPy array `array_a` of shape (4, 3) with sequential integers from 1 to 12. Extract a slice `view_b` from `array_a` and broadcast the addition of 5 to view_b. Check if it alters the original `array_a`.\n",
    "\n"
   ]
  },
  {
   "cell_type": "code",
   "execution_count": null,
   "id": "773dfa76-d9b4-40b1-a9b9-6d26e5ebfe27",
   "metadata": {},
   "outputs": [],
   "source": [
    "array_a = np.arange(1, 13).reshape(4, 3)\n",
    "\n",
    "view_b = array_a[:2, :]  \n",
    "\n",
    "\n",
    "view_b += 5\n",
    "\n",
    "print(\"Original array_a:\")\n",
    "print(array_a)\n",
    "print(view_b)"
   ]
  },
  {
   "cell_type": "markdown",
   "id": "dc7e32b2-3c47-4d09-b032-ece09539ad64",
   "metadata": {},
   "source": [
    "-------------------------------------------------------------------------------------------------------------------------------------"
   ]
  },
  {
   "cell_type": "markdown",
   "id": "dacd835e-05ed-4bd7-984c-3e386e1d7310",
   "metadata": {},
   "source": [
    "### QUE:-79. Create a NumPy array `orig_array` of shape (2, 4) with values from 1 to 8. Create a reshaped view `reshaped_view` of shape (4, 2) from orig_array. Modify an element in `reshaped_view` and check if it reflects changes in the original `orig_array`.\n",
    "\n",
    "\n"
   ]
  },
  {
   "cell_type": "code",
   "execution_count": null,
   "id": "c1a775ed-4c8f-4829-b212-84d351e68545",
   "metadata": {},
   "outputs": [],
   "source": [
    "orig_array = np.arange(1, 9).reshape(2, 4)\n",
    "reshaped_view = orig_array.T\n",
    "\n",
    "reshaped_view[0, 0] = 999\n",
    "\n",
    "print(\"Original orig_array:\")\n",
    "print(orig_array)\n",
    "print(\"Modified reshaped_view:\")\n",
    "print(reshaped_view)"
   ]
  },
  {
   "cell_type": "markdown",
   "id": "45ee006f-1e75-4a49-a0fe-4a9d9b66935d",
   "metadata": {},
   "source": [
    "-------------------------------------------------------------------------------------------------------------------------------------"
   ]
  },
  {
   "cell_type": "markdown",
   "id": "91b7f229-0747-4f53-a0f9-d70213a440c7",
   "metadata": {},
   "source": [
    "### QUE:-80. Create a NumPy array `data` of shape (3, 4) with random integers. Extract a copy `data_copy` of elements greater than 5. Modify an element in `data_copy` and verify if it affects the original `data`.\n",
    "\n",
    "\n"
   ]
  },
  {
   "cell_type": "code",
   "execution_count": null,
   "id": "039d409e-bf73-4831-aff3-efce4a445fa8",
   "metadata": {},
   "outputs": [],
   "source": [
    "data = np.random.randint(1, 10, size=(3, 4))\n",
    "data_copy = data[data > 5].copy()\n",
    "data_copy[0] = 999\n",
    "print(\"Original data:\")\n",
    "print(data)\n",
    "print(\"\\nModified data_copy:\")\n",
    "print(data_copy)"
   ]
  },
  {
   "cell_type": "markdown",
   "id": "4049fd57-af5d-495e-9057-2ae3eacd48f6",
   "metadata": {},
   "source": [
    "-------------------------------------------------------------------------------------------------------------------------------------"
   ]
  },
  {
   "cell_type": "markdown",
   "id": "87b10d68-7f31-43dd-8478-bde24fb0abfd",
   "metadata": {},
   "source": [
    "### QUE:-81. Create two matrices A and B of identical shape containing integers and perform addition and subtraction operations between them.\n",
    "\n",
    "\n"
   ]
  },
  {
   "cell_type": "code",
   "execution_count": null,
   "id": "4e015004-e1ef-4ef6-a8ef-b464d1b9fe9a",
   "metadata": {},
   "outputs": [],
   "source": [
    "A = np.array([[1, 2], [3, 4]])\n",
    "B = np.array([[5, 6], [7, 8]])\n",
    "addition_result = A + B\n",
    "print(\"Addition result:\")\n",
    "print(addition_result)\n",
    "\n",
    "subtraction_result = A - B\n",
    "print(\"Subtraction result:\")\n",
    "print(subtraction_result)\n"
   ]
  },
  {
   "cell_type": "markdown",
   "id": "14731c96-1e35-4811-9203-ad96df2e6cbc",
   "metadata": {},
   "source": [
    "-------------------------------------------------------------------------------------------------------------------------------------"
   ]
  },
  {
   "cell_type": "markdown",
   "id": "174094d2-0353-4981-8eea-f9ef0b61e301",
   "metadata": {},
   "source": [
    "### QUE:-82. Generate two matrices `C` (3x2) and `D` (2x4) and perform matrix multiplication.\n",
    "\n"
   ]
  },
  {
   "cell_type": "code",
   "execution_count": null,
   "id": "1f84a086-24be-410e-b325-6a6b57ae983d",
   "metadata": {},
   "outputs": [],
   "source": [
    "C = np.random.randint(1, 10, size=(3, 2))\n",
    "D = np.random.randint(1, 10, size=(2, 4))\n",
    "multiplication_result = np.dot(C, D)\n",
    "print(\"Matrix multiplication result:\")\n",
    "print(multiplication_result)"
   ]
  },
  {
   "cell_type": "markdown",
   "id": "f19b95d6-af56-4e96-bdcc-47a84d128776",
   "metadata": {},
   "source": [
    "-------------------------------------------------------------------------------------------------------------------------------------"
   ]
  },
  {
   "cell_type": "markdown",
   "id": "c195b1e4-fcb5-4558-b270-2d76131515fa",
   "metadata": {},
   "source": [
    "### QUE:-83. Create a matrix `E` and find its transpose.\n",
    "\n"
   ]
  },
  {
   "cell_type": "code",
   "execution_count": null,
   "id": "08ddc90a-18b5-4ce4-925a-eafdb28b6c01",
   "metadata": {},
   "outputs": [],
   "source": [
    "E = np.random.randint(1, 10, size=(3, 3))\n",
    "\n",
    "transpose_result = np.transpose(E)\n",
    "print(\"Transpose of matrix E:\")\n",
    "print(transpose_result)\n"
   ]
  },
  {
   "cell_type": "markdown",
   "id": "4eec7c02-c64a-41e2-992e-f06c68e3ff03",
   "metadata": {},
   "source": [
    "-------------------------------------------------------------------------------------------------------------------------------------"
   ]
  },
  {
   "cell_type": "markdown",
   "id": "d0922079-39cf-44fc-93c4-da456153b7c7",
   "metadata": {},
   "source": [
    "### QUE:-84. Generate a square matrix `F` and compute its determinant.\n",
    "\n"
   ]
  },
  {
   "cell_type": "code",
   "execution_count": null,
   "id": "1878075d-ef71-4d32-b995-a1b7905d89f1",
   "metadata": {},
   "outputs": [],
   "source": [
    "F = np.random.randint(1, 10, size=(3, 3))\n",
    "determinant_result = np.linalg.det(F)\n",
    "print(\"Determinant of matrix F:\", determinant_result)"
   ]
  },
  {
   "cell_type": "markdown",
   "id": "eb09cdbb-5706-4d5e-b68c-07eeb26f87e9",
   "metadata": {},
   "source": [
    "-------------------------------------------------------------------------------------------------------------------------------------"
   ]
  },
  {
   "cell_type": "markdown",
   "id": "55202ffa-214a-4e90-84a0-4e824dba3c65",
   "metadata": {},
   "source": [
    "### QUE:-85. Create a square matrix `G` and find its inverse."
   ]
  },
  {
   "cell_type": "code",
   "execution_count": null,
   "id": "ee9a3fdd-4cb0-4e00-9589-ac5be8178e6d",
   "metadata": {},
   "outputs": [],
   "source": [
    "G = np.random.randint(1, 10, size=(3, 3))\n",
    "\n",
    "inverse_result = np.linalg.inv(G)\n",
    "print(\"Inverse of matrix G:\")\n",
    "print(inverse_result)"
   ]
  },
  {
   "cell_type": "markdown",
   "id": "698c58ea-233c-4471-9e6e-159195bc8bda",
   "metadata": {},
   "source": [
    "-------------------------------------------------------------------------------------------------------------------------------------"
   ]
  },
  {
   "cell_type": "code",
   "execution_count": null,
   "id": "e9d59d26-f551-4006-ab5a-d339357cd491",
   "metadata": {},
   "outputs": [],
   "source": []
  }
 ],
 "metadata": {
  "kernelspec": {
   "display_name": "Python 3 (ipykernel)",
   "language": "python",
   "name": "python3"
  },
  "language_info": {
   "codemirror_mode": {
    "name": "ipython",
    "version": 3
   },
   "file_extension": ".py",
   "mimetype": "text/x-python",
   "name": "python",
   "nbconvert_exporter": "python",
   "pygments_lexer": "ipython3",
   "version": "3.10.8"
  }
 },
 "nbformat": 4,
 "nbformat_minor": 5
}
