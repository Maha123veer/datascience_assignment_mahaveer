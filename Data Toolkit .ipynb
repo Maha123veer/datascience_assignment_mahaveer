{
 "cells": [
  {
   "cell_type": "markdown",
   "id": "6f6e0d3a-f23e-4bf0-9806-1c323d46f5e4",
   "metadata": {},
   "source": [
    "### QUE:-1 Demonstrate three different methods for creating identical 2D arrays in NumPy Provide the code for each method and the final output after each method"
   ]
  },
  {
   "cell_type": "code",
   "execution_count": 2,
   "id": "44e695f9-d57a-4ca1-a458-a4ebee0283e3",
   "metadata": {},
   "outputs": [
    {
     "name": "stdout",
     "output_type": "stream",
     "text": [
      "[[1 2 3]\n",
      " [4 5 6]\n",
      " [7 8 9]]\n"
     ]
    }
   ],
   "source": [
    "import numpy as np\n",
    "array1=np.array([[1,2,3],[4,5,6],[7,8,9]])\n",
    "print(array1)"
   ]
  },
  {
   "cell_type": "code",
   "execution_count": null,
   "id": "e063106f-271d-474c-8ef2-e12d28870bfd",
   "metadata": {},
   "outputs": [],
   "source": [
    "arr2=np.ones((2,3))\n",
    "print(arr2)"
   ]
  },
  {
   "cell_type": "code",
   "execution_count": null,
   "id": "da44599e-1576-4835-ad48-3d6e82ce5f0f",
   "metadata": {},
   "outputs": [],
   "source": [
    "arr3=np.zeros((2,3))\n",
    "print(arr3)"
   ]
  },
  {
   "cell_type": "code",
   "execution_count": null,
   "id": "bad2d2ae-2dde-4d10-ad92-9138bf4a7ba6",
   "metadata": {},
   "outputs": [],
   "source": [
    "arr4=np.full((2,3),5)\n",
    "print(arr4)"
   ]
  },
  {
   "cell_type": "code",
   "execution_count": null,
   "id": "68120e5f-7ebb-4ca8-a103-43d5be7e4372",
   "metadata": {},
   "outputs": [],
   "source": []
  },
  {
   "cell_type": "markdown",
   "id": "3d3d36d9-dad7-4afb-9916-559923eda1f1",
   "metadata": {},
   "source": [
    "### QUE:-2 Using the Numpy function, generate an array of 100 evenly spaced numbers between 1 and 10 and Reshape that 1D array into a 2D array"
   ]
  },
  {
   "cell_type": "code",
   "execution_count": null,
   "id": "4d1b81ba-94ea-43f3-93f0-2658a88954cd",
   "metadata": {},
   "outputs": [],
   "source": [
    "arr=np.linspace(1,10,100)\n",
    "print(\"this is 1d array\\n\")\n",
    "print(arr)\n",
    "arr_2d=arr.reshape((10,10))\n",
    "print(\"\\nthis is 2d array\\n\")\n",
    "print(arr_2d)"
   ]
  },
  {
   "cell_type": "code",
   "execution_count": null,
   "id": "973f4cae-ffe7-490f-8c38-dd78d96e535b",
   "metadata": {},
   "outputs": [],
   "source": []
  },
  {
   "cell_type": "markdown",
   "id": "62d914cc-8b69-4cd8-bee9-90ff42990cd5",
   "metadata": {},
   "source": [
    "### QUE:-3 Explain the following termsg  1.The difference in nparray, npasarray and npasanyarrayX  2.The difference between Deep copy and shallow copy."
   ]
  },
  {
   "cell_type": "markdown",
   "id": "2ba85f69-798b-4299-94cd-70071fabf179",
   "metadata": {},
   "source": [
    "## numpy.array() creates a new array from any object exposing the array interface, or from any nested sequence. It always returns a new array, even if the input is already a NumPy array, unless the copy=False parameter is specified and the input is a NumPy array."
   ]
  },
  {
   "cell_type": "markdown",
   "id": "e92c17e1-4cf9-40a7-9d2f-3f526f21949c",
   "metadata": {},
   "source": [
    "## numpy.asarray() converts the input to a NumPy array, but unlike numpy.array(), it does not create a copy if the input is already a NumPy array. This can be more efficient when you don't need a copy."
   ]
  },
  {
   "cell_type": "markdown",
   "id": "d71c09aa-763a-495b-bd33-b4a214dc6550",
   "metadata": {},
   "source": [
    "## numpy.asanyarray() is similar to numpy.asarray(), but it preserves subclasses of ndarray. This means if the input is an instance of a subclass of ndarray (like numpy.matrix or numpy.ma.MaskedArray), numpy.asanyarray() will return an object of the same subclass.\n",
    "\n"
   ]
  },
  {
   "cell_type": "markdown",
   "id": "f416e75a-d889-488d-a6f3-527bc3303480",
   "metadata": {},
   "source": [
    "# deep copy and shallow copy:-"
   ]
  },
  {
   "cell_type": "markdown",
   "id": "8950caa3-09f7-43d5-b630-640065f3465b",
   "metadata": {},
   "source": [
    "# Shallow Copy:\n",
    "\n",
    "## Creates a new object, but references the same nested objects.\n",
    "## Changes to nested objects affect both the original and the copy.\n",
    "## Faster and less memory-intensive.\n",
    "## Use the view() method in NumPy.\n",
    "\n",
    "\n",
    "# Deep Copy:\n",
    "\n",
    "## Creates a new object and recursively copies all nested objects.\n",
    "## Changes to nested objects do not affect the original object.\n",
    "## Slower and more memory-intensive.\n",
    "## Use the copy() method in NumPy."
   ]
  },
  {
   "cell_type": "markdown",
   "id": "530ccfe6-5586-4a5b-a419-61be7b0bfd73",
   "metadata": {},
   "source": [
    "--------------------------------------------------------------------------------------------------------------------------------------"
   ]
  },
  {
   "cell_type": "markdown",
   "id": "df2c5c3e-43e0-401a-97f9-80c3c9162213",
   "metadata": {},
   "source": [
    "### QUE:-4 Generate a 3*3  array with random floating-point numbers between 2 and 20 then, round each number in the array to 2 decimal places ."
   ]
  },
  {
   "cell_type": "code",
   "execution_count": null,
   "id": "4ca98a55-bbfd-47a2-a48e-e28f4376ac7c",
   "metadata": {},
   "outputs": [],
   "source": [
    "random_arr=np.random.uniform(2,20,(3,3))\n",
    "round_arr=np.round(random_arr,2)\n",
    "print(random_arr)\n",
    "print(round_arr)"
   ]
  },
  {
   "cell_type": "markdown",
   "id": "96a47236-8994-4da2-bfba-e6717acd4547",
   "metadata": {},
   "source": [
    "### QUE:-5 Create a NumPy array with random integers between 1 and 10 of shape (5,6 ))  After creating the array perform the following operations:\n",
    "\n",
    " ### a)Extract all even integers from array.\n",
    "\n",
    "### b)Extract all odd integers from array"
   ]
  },
  {
   "cell_type": "code",
   "execution_count": null,
   "id": "a1ac6903-33cf-4363-b265-c243415720c6",
   "metadata": {},
   "outputs": [],
   "source": [
    "arr=np.random.randint(1,10,(5,6))\n",
    "print(arr)\n",
    "arr_even=arr[arr%2==0]\n",
    "print(\"even numbers\")\n",
    "print(arr_even)\n",
    "arr_odd=arr[arr%2==1]\n",
    "print(\"odd numbers\")\n",
    "print(arr_odd)"
   ]
  },
  {
   "cell_type": "markdown",
   "id": "475e99a4-750d-4929-adab-3cdf9ae1cb2a",
   "metadata": {},
   "source": [
    "### QUE:-6 Create a 3D NumPy array of shape (3,3,3) containing random integers between 1 and 10 Perform the following operations:\n",
    "\n",
    " ### a) Find the indices of the maximum values along each depth level (third axis).\n",
    "\n",
    " ### b) Perform elementwise multiplication of between both array"
   ]
  },
  {
   "cell_type": "code",
   "execution_count": null,
   "id": "ad8277d9-8e5b-4f30-90c6-58d063cd895a",
   "metadata": {},
   "outputs": [],
   "source": [
    "import numpy as np\n",
    "\n",
    "arr=np.random.randint(1,11,(3,3,3))\n",
    "print(\"this is arr\")\n",
    "print(arr)\n",
    "\n",
    "max_index=np.argmax(arr,axis=2)\n",
    "print(\"\\nthis is max indecies\")\n",
    "print(max_index)\n",
    "\n",
    "arr2=np.random.randint(1,11,(3,3,3))\n",
    "print(\"\\nthis is arr2\")\n",
    "print(arr2)\n",
    "\n",
    "result=arr*arr2\n",
    "print(\"\\nthis is element wise multiplication\")\n",
    "print(result)"
   ]
  },
  {
   "cell_type": "markdown",
   "id": "353f7108-afbd-456d-afca-bceb6c408012",
   "metadata": {},
   "source": [
    "### QUE:-7 Clean and transform the 'Phone' column in the sample dataset to remove non-numeric characters and convert it to a numeric data type Also display the table attributes and data types of each column"
   ]
  },
  {
   "cell_type": "code",
   "execution_count": null,
   "id": "8ec7d363-0483-4c19-8d86-f9c1862ba57d",
   "metadata": {},
   "outputs": [],
   "source": [
    "import pandas as pd\n",
    "df=pd.read_csv('People Data.csv')\n",
    "print('before cleaning data')\n",
    "print(df[['Phone']])\n",
    "df['Phone']=df['Phone'].str.replace(r'\\D','',regex=True)\n",
    "df['Phone']=pd.to_numeric(df['Phone'],errors='coerce').astype('Int64')\n",
    "print(\"\\nafter cleaning data\")\n",
    "print(df['Phone'])\n",
    "print(\"\\ndataframe information\")\n",
    "print(df.info())"
   ]
  },
  {
   "cell_type": "markdown",
   "id": "b8acc7a2-5c16-4082-8f08-c5ef7ddf26c9",
   "metadata": {},
   "source": [
    "### QUE;-8 Perform the following tasks using people dataset:\n",
    "\n",
    "### a) Read the 'data.csv' file using pandas, skipping the first 50 rows.\n",
    "\n",
    " ### b) Only read the columns: 'Last Name', ‘Gender’,’Email’,‘Phone’ and ‘Salary’ from the file.\n",
    "\n",
    "### c) Display the first 10 rows of the filtered dataset.\n",
    "\n",
    "### d) Extract the ‘Salary’ column as a Series and display its last 5 valuesX"
   ]
  },
  {
   "cell_type": "code",
   "execution_count": 29,
   "id": "61509b3c-e236-492b-b1ee-f81b479dc921",
   "metadata": {},
   "outputs": [
    {
     "name": "stdout",
     "output_type": "stream",
     "text": [
      "data with skiping 50 rows\n",
      "\n",
      "     Index          User Id First Name Last Name  Gender  \\\n",
      "50      51  CccE5DAb6E288e5         Jo    Zavala    Male   \n",
      "51      52  DfBDc3621D4bcec     Joshua     Carey  Female   \n",
      "52      53  f55b0A249f5E44D     Rickey     Hobbs  Female   \n",
      "53      54  Ed71DcfaBFd0beE      Robyn    Reilly    Male   \n",
      "54      55  FDaFD0c3f5387EC  Christina    Conrad    Male   \n",
      "..     ...              ...        ...       ...     ...   \n",
      "995    996  fedF4c7Fd9e7cFa       Kurt    Bryant  Female   \n",
      "996    997  ECddaFEDdEc4FAB      Donna     Barry  Female   \n",
      "997    998  2adde51d8B8979E      Cathy  Mckinney  Female   \n",
      "998    999  Fb2FE369D1E171A   Jermaine    Phelps    Male   \n",
      "999   1000  8b756f6231DDC6e        Lee      Tran  Female   \n",
      "\n",
      "                          Email                   Phone Date of birth  \\\n",
      "50         pamela64@example.net  001-859-448-9935x54536    23-11-1992   \n",
      "51    dianashepherd@example.net    001-274-739-8470x814    07-01-1915   \n",
      "52    ingramtiffany@example.org        241.179.9509x498    01-07-1910   \n",
      "53   carriecrawford@example.org       207.797.8345x6177    27-07-1982   \n",
      "54   fuentesclaudia@example.net    001-599-042-7428x143    06-01-1998   \n",
      "..                          ...                     ...           ...   \n",
      "995      lyonsdaisy@example.net            021.775.2933    05-01-1959   \n",
      "996     dariusbryan@example.com    001-149-710-7799x721    06-10-2001   \n",
      "997      georgechan@example.org   +1-750-774-4128x33265    13-05-1918   \n",
      "998         wanda04@example.net           (915)292-2254    31-08-1971   \n",
      "999     deannablack@example.org      079.752.5424x67259    24-01-1947   \n",
      "\n",
      "                           Job Title  Salary  \n",
      "50                      Nurse, adult   80000  \n",
      "51               Seismic interpreter   70000  \n",
      "52                         Barrister   60000  \n",
      "53              Engineer, structural  100000  \n",
      "54                   Producer, radio   50000  \n",
      "..                               ...     ...  \n",
      "995                Personnel officer   90000  \n",
      "996          Education administrator   50000  \n",
      "997  Commercial/residential surveyor   60000  \n",
      "998                 Ambulance person  100000  \n",
      "999       Nurse, learning disability   90000  \n",
      "\n",
      "[950 rows x 10 columns]\n",
      "\n",
      "only specific column data read\n",
      "\n",
      "    Last Name  Gender                   Phone  Salary\n",
      "50     Zavala    Male  001-859-448-9935x54536   80000\n",
      "51      Carey  Female    001-274-739-8470x814   70000\n",
      "52      Hobbs  Female        241.179.9509x498   60000\n",
      "53     Reilly    Male       207.797.8345x6177  100000\n",
      "54     Conrad    Male    001-599-042-7428x143   50000\n",
      "..        ...     ...                     ...     ...\n",
      "995    Bryant  Female            021.775.2933   90000\n",
      "996     Barry  Female    001-149-710-7799x721   50000\n",
      "997  Mckinney  Female   +1-750-774-4128x33265   60000\n",
      "998    Phelps    Male           (915)292-2254  100000\n",
      "999      Tran  Female      079.752.5424x67259   90000\n",
      "\n",
      "[950 rows x 4 columns]\n",
      "\n",
      "display only 10 rows\n",
      "\n",
      "   Last Name  Gender                   Phone  Salary\n",
      "50    Zavala    Male  001-859-448-9935x54536   80000\n",
      "51     Carey  Female    001-274-739-8470x814   70000\n",
      "52     Hobbs  Female        241.179.9509x498   60000\n",
      "53    Reilly    Male       207.797.8345x6177  100000\n",
      "54    Conrad    Male    001-599-042-7428x143   50000\n",
      "55      Cole    Male            663-280-5834   85000\n",
      "56   Donovan    Male                     NaN   65000\n",
      "57    Little  Female       125.219.3673x0076   60000\n",
      "58    Dawson  Female      650-748-3069x64529   60000\n",
      "59      Page    Male        849.500.6331x717   60000\n",
      "\n",
      "series column last 5 data\n",
      "\n",
      "995     90000\n",
      "996     50000\n",
      "997     60000\n",
      "998    100000\n",
      "999     90000\n",
      "Name: Salary, dtype: int64\n",
      "<class 'pandas.core.series.Series'>\n"
     ]
    }
   ],
   "source": [
    "import pandas as pd\n",
    "df=pd.read_csv(\"Data.csv\")\n",
    "df=df.iloc[50:]\n",
    "#a) Read the 'data.csv' file using pandas, skipping the first 50 rows.\n",
    "print(\"data with skiping 50 rows\\n\")\n",
    "print(df)\n",
    "\n",
    "#b) Only read the columns: 'Last Name', ‘Gender’,’Email’,‘Phone’ and ‘Salary’ from the file.\n",
    "df=df[[\"Last Name\",\"Gender\",\"Phone\",\"Salary\"]]\n",
    "print(\"\\nonly specific column data read\\n\")\n",
    "print(df)\n",
    "\n",
    "#c) Display the first 10 rows of the filtered dataset.\n",
    "print(\"\\ndisplay only 10 rows\\n\")\n",
    "print(df.head(10))\n",
    "\n",
    "#d) Extract the ‘Salary’ column as a Series and display its last 5 values\n",
    "print(\"\\nseries column last 5 data\\n\")\n",
    "print(df['Salary'].tail(5))\n",
    "print(type(df['Salary'].tail(5)))"
   ]
  },
  {
   "cell_type": "markdown",
   "id": "d7f8c7eb-91e4-41ae-822a-d1bd3b2d1dd1",
   "metadata": {},
   "source": [
    "### QUE;-9 Filter and select rows from the People_Dataset, where the “Last Name' column contains the name 'Duke',  'Gender' column contains the word Female and ‘salary’ should Pe less than 85000"
   ]
  },
  {
   "cell_type": "code",
   "execution_count": 53,
   "id": "7fa283d9-008c-4a8e-9dbb-7fa449a46411",
   "metadata": {},
   "outputs": [
    {
     "name": "stdout",
     "output_type": "stream",
     "text": [
      "     Index          User Id First Name Last Name  Gender  \\\n",
      "45      46  99A502C175C4EBd     Olivia      Duke  Female   \n",
      "210    211  DF17975CC0a0373    Katrina      Duke  Female   \n",
      "457    458  dcE1B7DE83c1076      Traci      Duke  Female   \n",
      "729    730  c9b482D7aa3e682     Lonnie      Duke  Female   \n",
      "\n",
      "                        Email                   Phone Date of birth  \\\n",
      "45        diana26@example.net  001-366-475-8607x04350    13-10-1934   \n",
      "210       robin78@example.com            740.434.0212    21-09-1935   \n",
      "457  perryhoffman@example.org     +1-903-596-0995x489    11-02-1997   \n",
      "729   kevinkramer@example.net            982.692.6257    12-05-2015   \n",
      "\n",
      "           Job Title  Salary  \n",
      "45           Dentist   60000  \n",
      "210  Producer, radio   50000  \n",
      "457        Herbalist   50000  \n",
      "729     Nurse, adult   70000  \n"
     ]
    }
   ],
   "source": [
    "import pandas as pd\n",
    "df=pd.read_csv(\"Data.csv\")\n",
    "filterd=df[(df[\"Last Name\"]==\"Duke\")&(df['Gender']==\"Female\")&(df['Salary']<85000)]\n",
    "print(filterd)\n"
   ]
  },
  {
   "cell_type": "markdown",
   "id": "7f5d14e0-582f-496b-9a6c-0e1cd8aaff61",
   "metadata": {},
   "source": [
    "### QUE:-10 Create a 7*5 Dataframe in Pandas using a series generated from 35 random integers between 1 to 6?"
   ]
  },
  {
   "cell_type": "code",
   "execution_count": 4,
   "id": "746920e2-e85e-4359-b972-f9ee86826ec4",
   "metadata": {},
   "outputs": [
    {
     "name": "stdout",
     "output_type": "stream",
     "text": [
      "   0  1  2  3  4\n",
      "0  5  2  1  3  5\n",
      "1  3  2  1  5  3\n",
      "2  2  1  4  4  6\n",
      "3  1  3  6  1  2\n",
      "4  6  1  6  1  4\n",
      "5  2  5  2  4  3\n",
      "6  6  5  2  3  1\n"
     ]
    }
   ],
   "source": [
    "import pandas as pd\n",
    "import numpy as np\n",
    "rand_int=np.random.randint(1,7,35)\n",
    "reshape=rand_int.reshape(7,5)\n",
    "df=pd.DataFrame(reshape)\n",
    "print(df)"
   ]
  },
  {
   "cell_type": "markdown",
   "id": "b162d91c-a182-4bce-b3da-4db216085246",
   "metadata": {},
   "source": [
    "### QUE:-11 Create two different Series, each of length 50, with the following criteria:\n",
    "\n",
    "a) The first Series should contain random numbers ranging from 10 to 50.\n",
    "\n",
    "b) The second Series should contain random numbers ranging from 100 to 1000.\n",
    "\n",
    "c) Create a DataFrame by 'joining these Series by column, and, change the names of the columns to 'col1', 'col2',\n",
    "etc&"
   ]
  },
  {
   "cell_type": "code",
   "execution_count": 15,
   "id": "7295e300-e5c6-423a-86e8-c760ae4b456e",
   "metadata": {},
   "outputs": [
    {
     "name": "stdout",
     "output_type": "stream",
     "text": [
      "\n",
      "this is the first series\n",
      "\n",
      "\n",
      "this is the second series\n",
      "\n",
      "\n",
      "this is Datafrmae\n",
      "\n",
      "    col1  col2\n",
      "0     36   782\n",
      "1     45   271\n",
      "2     40   542\n",
      "3     30   314\n",
      "4     46   864\n",
      "5     14   111\n",
      "6     31   783\n",
      "7     22   233\n",
      "8     49   776\n",
      "9     27   605\n",
      "10    26   365\n",
      "11    40   844\n",
      "12    34   568\n",
      "13    30   393\n",
      "14    19   934\n",
      "15    39   356\n",
      "16    48   246\n",
      "17    26   630\n",
      "18    38   879\n",
      "19    48   695\n",
      "20    30   186\n",
      "21    23   330\n",
      "22    21   280\n",
      "23    46   303\n",
      "24    15   615\n",
      "25    20   594\n",
      "26    35   440\n",
      "27    27   978\n",
      "28    34   217\n",
      "29    32   489\n",
      "30    24   232\n",
      "31    34   416\n",
      "32    16   505\n",
      "33    46   135\n",
      "34    30   347\n",
      "35    17   393\n",
      "36    39   872\n",
      "37    11   943\n",
      "38    35   502\n",
      "39    49   190\n",
      "40    39   954\n",
      "41    14   235\n",
      "42    25   162\n",
      "43    49   963\n",
      "44    37   756\n",
      "45    14   243\n",
      "46    42   128\n",
      "47    10   701\n",
      "48    46   363\n",
      "49    48   761\n"
     ]
    }
   ],
   "source": [
    "import pandas as pd\n",
    "import numpy as np\n",
    "series1=pd.Series(np.random.randint(10,50,50))\n",
    "print(\"\\nthis is the first series\\n\")\n",
    "#print(series1)\n",
    "series2=pd.Series(np.random.randint(100,1000,50))\n",
    "print(\"\\nthis is the second series\\n\")\n",
    "#print(series2)\n",
    "df=pd.DataFrame({'col1':series1,'col2':series2})\n",
    "print(\"\\nthis is Datafrmae\\n\")\n",
    "print(df)"
   ]
  },
  {
   "cell_type": "markdown",
   "id": "7fb39bc9-ab35-4ad5-a39d-081f23f76b48",
   "metadata": {},
   "source": [
    "### QQUE:-12 Perform the following operations using people data set:\n",
    "\n",
    "a) Delete the 'Email', 'Phone', and 'Date of birth' columns from the dataset.\n",
    "\n",
    "b) Delete the rows containing any missing values.\n",
    "\n",
    "d) Print the final output also&"
   ]
  },
  {
   "cell_type": "code",
   "execution_count": 45,
   "id": "de506e34-efaa-4538-b705-d7a6194c4d28",
   "metadata": {},
   "outputs": [],
   "source": [
    "df=pd.read_csv(\"Data.csv\")\n",
    "df.drop(['Email','Phone','Date of birth'] ,axis=1,inplace=True)"
   ]
  },
  {
   "cell_type": "code",
   "execution_count": 50,
   "id": "2d289930-e27b-4bd4-a17e-100f2599db53",
   "metadata": {},
   "outputs": [],
   "source": [
    "df.dropna(inplace=True)"
   ]
  },
  {
   "cell_type": "code",
   "execution_count": 48,
   "id": "e3e718ad-0c4a-4363-936a-29f9a85a2a7e",
   "metadata": {},
   "outputs": [
    {
     "data": {
      "text/html": [
       "<div>\n",
       "<style scoped>\n",
       "    .dataframe tbody tr th:only-of-type {\n",
       "        vertical-align: middle;\n",
       "    }\n",
       "\n",
       "    .dataframe tbody tr th {\n",
       "        vertical-align: top;\n",
       "    }\n",
       "\n",
       "    .dataframe thead th {\n",
       "        text-align: right;\n",
       "    }\n",
       "</style>\n",
       "<table border=\"1\" class=\"dataframe\">\n",
       "  <thead>\n",
       "    <tr style=\"text-align: right;\">\n",
       "      <th></th>\n",
       "      <th>Index</th>\n",
       "      <th>User Id</th>\n",
       "      <th>First Name</th>\n",
       "      <th>Last Name</th>\n",
       "      <th>Gender</th>\n",
       "      <th>Job Title</th>\n",
       "      <th>Salary</th>\n",
       "    </tr>\n",
       "  </thead>\n",
       "  <tbody>\n",
       "    <tr>\n",
       "      <th>0</th>\n",
       "      <td>1</td>\n",
       "      <td>8717bbf45cCDbEe</td>\n",
       "      <td>Shelia</td>\n",
       "      <td>Mahoney</td>\n",
       "      <td>Male</td>\n",
       "      <td>Probation officer</td>\n",
       "      <td>90000</td>\n",
       "    </tr>\n",
       "    <tr>\n",
       "      <th>1</th>\n",
       "      <td>2</td>\n",
       "      <td>3d5AD30A4cD38ed</td>\n",
       "      <td>Jo</td>\n",
       "      <td>Rivers</td>\n",
       "      <td>Female</td>\n",
       "      <td>Dancer</td>\n",
       "      <td>80000</td>\n",
       "    </tr>\n",
       "    <tr>\n",
       "      <th>2</th>\n",
       "      <td>3</td>\n",
       "      <td>810Ce0F276Badec</td>\n",
       "      <td>Sheryl</td>\n",
       "      <td>Lowery</td>\n",
       "      <td>Female</td>\n",
       "      <td>Copy</td>\n",
       "      <td>50000</td>\n",
       "    </tr>\n",
       "    <tr>\n",
       "      <th>3</th>\n",
       "      <td>4</td>\n",
       "      <td>BF2a889C00f0cE1</td>\n",
       "      <td>Whitney</td>\n",
       "      <td>Hooper</td>\n",
       "      <td>Male</td>\n",
       "      <td>Counselling psychologist</td>\n",
       "      <td>65000</td>\n",
       "    </tr>\n",
       "    <tr>\n",
       "      <th>4</th>\n",
       "      <td>5</td>\n",
       "      <td>9afFEafAe1CBBB9</td>\n",
       "      <td>Lindsey</td>\n",
       "      <td>Rice</td>\n",
       "      <td>Female</td>\n",
       "      <td>Biomedical engineer</td>\n",
       "      <td>100000</td>\n",
       "    </tr>\n",
       "    <tr>\n",
       "      <th>...</th>\n",
       "      <td>...</td>\n",
       "      <td>...</td>\n",
       "      <td>...</td>\n",
       "      <td>...</td>\n",
       "      <td>...</td>\n",
       "      <td>...</td>\n",
       "      <td>...</td>\n",
       "    </tr>\n",
       "    <tr>\n",
       "      <th>995</th>\n",
       "      <td>996</td>\n",
       "      <td>fedF4c7Fd9e7cFa</td>\n",
       "      <td>Kurt</td>\n",
       "      <td>Bryant</td>\n",
       "      <td>Female</td>\n",
       "      <td>Personnel officer</td>\n",
       "      <td>90000</td>\n",
       "    </tr>\n",
       "    <tr>\n",
       "      <th>996</th>\n",
       "      <td>997</td>\n",
       "      <td>ECddaFEDdEc4FAB</td>\n",
       "      <td>Donna</td>\n",
       "      <td>Barry</td>\n",
       "      <td>Female</td>\n",
       "      <td>Education administrator</td>\n",
       "      <td>50000</td>\n",
       "    </tr>\n",
       "    <tr>\n",
       "      <th>997</th>\n",
       "      <td>998</td>\n",
       "      <td>2adde51d8B8979E</td>\n",
       "      <td>Cathy</td>\n",
       "      <td>Mckinney</td>\n",
       "      <td>Female</td>\n",
       "      <td>Commercial/residential surveyor</td>\n",
       "      <td>60000</td>\n",
       "    </tr>\n",
       "    <tr>\n",
       "      <th>998</th>\n",
       "      <td>999</td>\n",
       "      <td>Fb2FE369D1E171A</td>\n",
       "      <td>Jermaine</td>\n",
       "      <td>Phelps</td>\n",
       "      <td>Male</td>\n",
       "      <td>Ambulance person</td>\n",
       "      <td>100000</td>\n",
       "    </tr>\n",
       "    <tr>\n",
       "      <th>999</th>\n",
       "      <td>1000</td>\n",
       "      <td>8b756f6231DDC6e</td>\n",
       "      <td>Lee</td>\n",
       "      <td>Tran</td>\n",
       "      <td>Female</td>\n",
       "      <td>Nurse, learning disability</td>\n",
       "      <td>90000</td>\n",
       "    </tr>\n",
       "  </tbody>\n",
       "</table>\n",
       "<p>1000 rows × 7 columns</p>\n",
       "</div>"
      ],
      "text/plain": [
       "     Index          User Id First Name Last Name  Gender  \\\n",
       "0        1  8717bbf45cCDbEe     Shelia   Mahoney    Male   \n",
       "1        2  3d5AD30A4cD38ed         Jo    Rivers  Female   \n",
       "2        3  810Ce0F276Badec     Sheryl    Lowery  Female   \n",
       "3        4  BF2a889C00f0cE1    Whitney    Hooper    Male   \n",
       "4        5  9afFEafAe1CBBB9    Lindsey      Rice  Female   \n",
       "..     ...              ...        ...       ...     ...   \n",
       "995    996  fedF4c7Fd9e7cFa       Kurt    Bryant  Female   \n",
       "996    997  ECddaFEDdEc4FAB      Donna     Barry  Female   \n",
       "997    998  2adde51d8B8979E      Cathy  Mckinney  Female   \n",
       "998    999  Fb2FE369D1E171A   Jermaine    Phelps    Male   \n",
       "999   1000  8b756f6231DDC6e        Lee      Tran  Female   \n",
       "\n",
       "                           Job Title  Salary  \n",
       "0                  Probation officer   90000  \n",
       "1                             Dancer   80000  \n",
       "2                               Copy   50000  \n",
       "3           Counselling psychologist   65000  \n",
       "4                Biomedical engineer  100000  \n",
       "..                               ...     ...  \n",
       "995                Personnel officer   90000  \n",
       "996          Education administrator   50000  \n",
       "997  Commercial/residential surveyor   60000  \n",
       "998                 Ambulance person  100000  \n",
       "999       Nurse, learning disability   90000  \n",
       "\n",
       "[1000 rows x 7 columns]"
      ]
     },
     "execution_count": 49,
     "metadata": {},
     "output_type": "execute_result"
    }
   ],
   "source": [
    "df"
   ]
  },
  {
   "cell_type": "code",
   "execution_count": null,
   "id": "1b32824c-2eca-4a5a-8eda-5e8e49cc7c31",
   "metadata": {},
   "outputs": [],
   "source": []
  }
 ],
 "metadata": {
  "kernelspec": {
   "display_name": "Python 3 (ipykernel)",
   "language": "python",
   "name": "python3"
  },
  "language_info": {
   "codemirror_mode": {
    "name": "ipython",
    "version": 3
   },
   "file_extension": ".py",
   "mimetype": "text/x-python",
   "name": "python",
   "nbconvert_exporter": "python",
   "pygments_lexer": "ipython3",
   "version": "3.10.8"
  }
 },
 "nbformat": 4,
 "nbformat_minor": 5
}
