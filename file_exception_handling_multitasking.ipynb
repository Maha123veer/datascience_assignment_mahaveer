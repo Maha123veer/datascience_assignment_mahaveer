{
 "cells": [
  {
   "cell_type": "markdown",
   "id": "6e712689-d38c-43b5-9acd-0b4a177123f7",
   "metadata": {},
   "source": [
    "### QUE;-1 write a code to read the contents of a file in python."
   ]
  },
  {
   "cell_type": "code",
   "execution_count": null,
   "id": "ebfbd336-81fa-4d44-8390-323979b124bf",
   "metadata": {},
   "outputs": [],
   "source": [
    "with open(\"file_excep.txt\",\"r\") as file:\n",
    "    contents=file.read()\n",
    "    print(contents)"
   ]
  },
  {
   "cell_type": "markdown",
   "id": "fbc71b8b-5332-4b74-af3e-c24a2d66b0f9",
   "metadata": {},
   "source": [
    "-------------------------------------------------------------------------------------------------------------------------------------------------------------"
   ]
  },
  {
   "cell_type": "markdown",
   "id": "2c05b144-3efd-46f9-bc6c-6e0a26f2b90b",
   "metadata": {},
   "source": [
    "### QUE:- 2 write a code to write to file in python."
   ]
  },
  {
   "cell_type": "code",
   "execution_count": null,
   "id": "2b9abf8f-008e-4634-8399-d7b38112ec70",
   "metadata": {},
   "outputs": [],
   "source": [
    "with open(\"file_excep2.txt\", \"w\") as file:\n",
    "    file.write(\"hello dear students \\n\")\n",
    "    file.write(\"im also a learner \\n\")\n",
    "    file.write(\"this is my data science course \\n\")\n",
    "    file.write(\"And im a data scientist \\n\")\n"
   ]
  },
  {
   "cell_type": "markdown",
   "id": "c477b28f-820f-4bca-a706-90c502a33bf0",
   "metadata": {},
   "source": [
    "--------------------------------------------------------------------------------------------------------------------------------------------------------"
   ]
  },
  {
   "cell_type": "markdown",
   "id": "24284b4f-a8af-43a9-837b-e0f9b1036826",
   "metadata": {},
   "source": [
    "### QUW:-3 write a code to append to a file in python."
   ]
  },
  {
   "cell_type": "code",
   "execution_count": null,
   "id": "56296741-c418-4e94-a8a2-d97b6b520ba9",
   "metadata": {},
   "outputs": [],
   "source": [
    "with open(\"file_excep2.txt\",\"a\") as file:\n",
    "    file.write(\"hello im again here to using append\")\n",
    "    "
   ]
  },
  {
   "cell_type": "markdown",
   "id": "c0633f28-f04b-4178-87c0-ebe7eaabde6c",
   "metadata": {},
   "source": [
    "-------------------------------------------------------------------------------------------------------------------------------------------------------"
   ]
  },
  {
   "cell_type": "markdown",
   "id": "b6b39e24-bde4-4588-a5c3-50afe939b57c",
   "metadata": {},
   "source": [
    "### QUE:-4 write a code to read a binary file in python."
   ]
  },
  {
   "cell_type": "code",
   "execution_count": null,
   "id": "c62e5311-2d14-4663-9690-1df61ba6fc69",
   "metadata": {},
   "outputs": [],
   "source": [
    "with open(\"read_binary.bin\",\"wb\") as file:\n",
    "    file.write(b\"\\x48\\x65\\x6C\\x6C\\x6F\\x20\\x57\\x6F\\x72\\x6C\\x64\")"
   ]
  },
  {
   "cell_type": "code",
   "execution_count": null,
   "id": "dd9fc63e-9574-46c8-bc08-df1a65ee00bc",
   "metadata": {},
   "outputs": [],
   "source": [
    "with open(\"read_binary.bin\",\"rb\") as file:\n",
    "    print(file.read())\n",
    " "
   ]
  },
  {
   "cell_type": "markdown",
   "id": "83edba2f-487c-4046-8bd2-63bc2eb73d1e",
   "metadata": {},
   "source": [
    "---------------------------------------------------------------------------------------------------------------------------------------------"
   ]
  },
  {
   "cell_type": "markdown",
   "id": "a6ee31d0-5035-44c5-a22b-0da70f1021ca",
   "metadata": {},
   "source": [
    "### QUE:-5 what happens if we dont use 'with' keyword with 'open' in python."
   ]
  },
  {
   "cell_type": "markdown",
   "id": "9c1a9af4-ea1d-4543-896b-b6be2c06203f",
   "metadata": {},
   "source": [
    "#### ---> If you don't use the with keyword with the open() function in Python, you need to manually close the file after you're done with it. Failing to close the file can lead to resource leaks and other potential issues, especially when dealing with a large number of files or when the program runs for a long tim"
   ]
  },
  {
   "cell_type": "markdown",
   "id": "96a7b4da-339f-4247-b0cc-4ae71e628d4d",
   "metadata": {},
   "source": [
    "---------------------------------------------------------------------------------------------------------------------------------------------"
   ]
  },
  {
   "cell_type": "markdown",
   "id": "177a0352-7842-4f2a-962c-f5003a5bdf02",
   "metadata": {},
   "source": [
    "### QUE:-6 explain the concept of buffering in file handling and how it helps in improving read and write operations?"
   ]
  },
  {
   "cell_type": "markdown",
   "id": "3f1e50fb-e6bb-4466-891c-20b8fd40bdc5",
   "metadata": {},
   "source": [
    "#### ---> Buffering is a technique used in file handling to improve the efficiency of read and write operations by reducing the number of system calls made to the underlying operating system.\n",
    "\n",
    "#### ---> When data is read from or written to a file, the operating system typically performs I/O operations in blocks of data rather than individual bytes. This means that instead of reading or writing a single byte at a time, the operating system reads or writes a chunk of data, known as a buffer, which is typically larger than a single byte."
   ]
  },
  {
   "cell_type": "markdown",
   "id": "1063bde1-2409-4ed6-91e4-8f05bc9480f8",
   "metadata": {},
   "source": [
    "#### ---> buffering is handled transparently by the open() function when working with files. By default, files are opened in buffered mode, but you can control the buffering behavior using the buffering parameter when calling open()."
   ]
  },
  {
   "cell_type": "markdown",
   "id": "a505fcd9-e9ff-4131-8db6-813b5310728f",
   "metadata": {},
   "source": [
    "----------------------------------------------------------------------------------------------------------------------------------------------"
   ]
  },
  {
   "cell_type": "markdown",
   "id": "410bfc7c-b031-4d45-bc15-5ca6c162c580",
   "metadata": {},
   "source": [
    "### QUE:-7 describe the steps involved in implementing buffered file handling in a programming language of your choice"
   ]
  },
  {
   "cell_type": "markdown",
   "id": "d01fbd79-a5ce-44c8-91fa-95ce433866a9",
   "metadata": {},
   "source": [
    "#### ---> 1. Import the io Module: The io module provides tools for working with streams of data, including file I/O operations."
   ]
  },
  {
   "cell_type": "code",
   "execution_count": null,
   "id": "cbb56771-11bf-4c3b-b3cd-4addc2bee380",
   "metadata": {},
   "outputs": [],
   "source": [
    "import io"
   ]
  },
  {
   "cell_type": "markdown",
   "id": "9594d710-d34f-4eb4-8da5-952ebdc7461e",
   "metadata": {},
   "source": [
    "#### ---> 2. open a file wih with example.txt in wb mode amn create object of bufferedwriter"
   ]
  },
  {
   "cell_type": "code",
   "execution_count": null,
   "id": "c011eed3-09ea-41aa-965f-73324a911475",
   "metadata": {},
   "outputs": [],
   "source": [
    "with open (\"example.txt\",\"wb\") as f:\n",
    "    file=io.BufferedWriter(f)"
   ]
  },
  {
   "cell_type": "markdown",
   "id": "fbe47401-6aa1-4cec-b5fd-6b16242dcfef",
   "metadata": {},
   "source": [
    "#### ---> write a bunch of data"
   ]
  },
  {
   "cell_type": "code",
   "execution_count": null,
   "id": "030ecb1d-4451-4776-8dee-20ffed5c64b8",
   "metadata": {},
   "outputs": [],
   "source": [
    "import io\n",
    "with open (\"example.txt\",\"wb\") as f:\n",
    "    file=io.BufferedWriter(f)\n",
    "    file.write(b\"Data science is a concept to unify statistics data analysis informatics, and their related methods to understand and analyze actual phenomena with data. It uses techniques and theories drawn from many fields within the context of mathematics, statistics computer science information science and domain knowledge. However data science is different from computer science and information science. Turing Award winner Jim Gray imagined data science as a fourth paradigm of science  and now data-driven and asserted that everything about science is changing because of the impact of information technology and the data deluge.\")\n",
    "    file.write(b\"HELLO WORLD\")\n",
    "    file.write(b\"hello PW skills\")\n",
    "    file.flush()"
   ]
  },
  {
   "cell_type": "markdown",
   "id": "7c569638-e57c-4ad3-b9ae-9d6ab9f461d6",
   "metadata": {},
   "source": [
    "#### ---> after that when you have to read a data."
   ]
  },
  {
   "cell_type": "code",
   "execution_count": null,
   "id": "87395ce0-123d-4893-ab9c-2004c0fe2b2f",
   "metadata": {},
   "outputs": [],
   "source": [
    "with open (\"example.txt\",\"rb\") as f:\n",
    "    file=io.BufferedReader(f)\n",
    "    data=file.read(150)\n",
    "    print(data)"
   ]
  },
  {
   "cell_type": "markdown",
   "id": "90a428c4-c114-46fd-bafb-03dc849dc7be",
   "metadata": {},
   "source": [
    "--------------------------------------------------------------------------------------------------------------------------------------------"
   ]
  },
  {
   "cell_type": "markdown",
   "id": "fb2df2a5-288a-403f-bf3a-ab866ff6cd22",
   "metadata": {},
   "source": [
    "### QUE;-8 write a python function to read a text file using buffered reaading and return its contents."
   ]
  },
  {
   "cell_type": "code",
   "execution_count": null,
   "id": "c1bbb98d-f5cd-492c-81e6-add5b0d1ad4d",
   "metadata": {},
   "outputs": [],
   "source": [
    "import io\n",
    "def buffread(filepath):\n",
    "    with open(filepath, \"rb\") as f:\n",
    "        file = io.BufferedReader(f)\n",
    "        data = file.read(150)\n",
    "    return data\n",
    "    \n",
    "filepath = \"example.txt\"\n",
    "contents = buffread(filepath)\n",
    "print(contents)\n"
   ]
  },
  {
   "cell_type": "markdown",
   "id": "2eca6f76-5f9c-4604-aeba-fb38009c63be",
   "metadata": {},
   "source": [
    "------------------------------------------------------------------------------------------------------------------------------------------------------------------"
   ]
  },
  {
   "cell_type": "markdown",
   "id": "db717cca-07d2-4eb9-90c6-aef219059714",
   "metadata": {},
   "source": [
    "### QUE:-9 what are the advantage of using buffered reading over direct file reading in python."
   ]
  },
  {
   "cell_type": "markdown",
   "id": "c901c848-a2b0-4f6e-a36f-c5b0aa49770e",
   "metadata": {},
   "source": [
    "#### ---> Improved Performance: Buffered reading reduces system calls and optimizes I/O operations, leading to faster file reading.\n",
    "\n",
    "#### ---> Reduced Disk Access: Reading data into memory buffers minimizes direct disk access, which can be slow.\n",
    "\n",
    "#### ---> Efficient Memory Usage: Buffered reading processes data in manageable chunks, preventing excessive memory usage.\n",
    "\n",
    "#### ---> Automatic Buffer Management: Buffer sizes are managed automatically, optimizing performance without manual intervention.\n",
    "\n",
    "#### ---> Support for Different Buffering Policies: Buffered reading supports various buffering strategies, such as no buffering, line buffering, and full buffering.\n",
    "\n",
    "#### ---> Platform Independence: Buffered reading abstracts away platform-specific details, ensuring consistent behavior across different operating systems.\n",
    "\n",
    "\n",
    "\n",
    "\n",
    "\n"
   ]
  },
  {
   "cell_type": "markdown",
   "id": "cea479bb-daec-437a-acc8-52f3ed124a63",
   "metadata": {},
   "source": [
    "--------------------------------------------------------------------------------------------------------------------------------------------"
   ]
  },
  {
   "cell_type": "markdown",
   "id": "bc1ddcaa-4502-4d20-8a80-6e97553db43f",
   "metadata": {},
   "source": [
    "### QUE:-10 write a python code snippet to append context to a file using buffered writing."
   ]
  },
  {
   "cell_type": "code",
   "execution_count": null,
   "id": "c50e8e40-3204-4610-8370-d15ddf4157c0",
   "metadata": {},
   "outputs": [],
   "source": [
    "import io\n",
    "\n",
    "def append_to_file(file_path, content):\n",
    "    with open(file_path, \"ab\") as file:\n",
    "        data = io.BufferedWriter(file)\n",
    "        data.write(content_to_append)\n",
    "        data.flush()\n",
    "file_path = \"example.txt\"\n",
    "content_to_append = b\"New content to append\\n\"\n",
    "append_to_file(file_path, content_to_append)\n"
   ]
  },
  {
   "cell_type": "markdown",
   "id": "520a4cef-ba30-4ab4-b243-eebcfc807d53",
   "metadata": {},
   "source": [
    "-------------------------------------------------------------------------------------------------------------------------------"
   ]
  },
  {
   "cell_type": "markdown",
   "id": "8e7dcb45-2bd5-4aaf-b99b-1e7533c77e30",
   "metadata": {},
   "source": [
    "### QUE:-11 write a python function that demostrate the use of close method on a file."
   ]
  },
  {
   "cell_type": "code",
   "execution_count": null,
   "id": "b8698e65-8a2b-46bf-bbbf-dd8860d4c866",
   "metadata": {},
   "outputs": [],
   "source": [
    "def demo_close_method(file_path):\n",
    "    file = open(file_path, \"w\")\n",
    "    try:\n",
    "        file.write(\"Hello, world!\\n\")\n",
    "        file.write(\"This is a demonstration of the close() method.\\n\")\n",
    "    finally:\n",
    "        file.close()\n",
    "    \n",
    "    try:\n",
    "        file.write(\"Attempting to write to a closed file.\")\n",
    "    except ValueError as e:\n",
    "        print(\"Error:\", e)\n",
    "\n",
    "file_path = \"example.txt\"\n",
    "demo_close_method(file_path)\n"
   ]
  },
  {
   "cell_type": "markdown",
   "id": "bb7dd741-a76a-4b4a-a6c6-e763554f2dc6",
   "metadata": {},
   "source": [
    "------------------------------------------------------------------------------------------------------------------------------------"
   ]
  },
  {
   "cell_type": "markdown",
   "id": "d939f7b5-82fb-4403-90dd-13e20a3cca30",
   "metadata": {},
   "source": [
    "### QUE:-12 create a python function to showcase the 'detach()' method on a object file."
   ]
  },
  {
   "cell_type": "code",
   "execution_count": null,
   "id": "003908c6-1067-478c-8270-eb4e93aadc70",
   "metadata": {},
   "outputs": [],
   "source": [
    "def demo_detach_method(file_path):\n",
    "    file = open(file_path, \"w\")\n",
    "    \n",
    "    try:\n",
    "        file.write(\"Hello, world!\\n\")\n",
    "        file.write(\"This is a demonstration of the detach() method.\\n\")\n",
    "        \n",
    "        raw_stream = file.detach()\n",
    "        print(\"Raw stream:\", raw_stream)\n",
    "        \n",
    "        try:\n",
    "            file.write(\"Attempting to write to a detached file.\")\n",
    "        except ValueError as e:\n",
    "            print(\"Error:\", e)\n",
    "    finally:\n",
    "        file.close()\n",
    "\n",
    "file_path = \"example1.txt\"\n",
    "demo_detach_method(file_path)"
   ]
  },
  {
   "cell_type": "markdown",
   "id": "809d52ba-ee01-4bd1-bdab-813add87129c",
   "metadata": {},
   "source": [
    "------------------------------------------------------------------------------------------------------------------------------"
   ]
  },
  {
   "cell_type": "markdown",
   "id": "838ef0ef-c5e3-494b-b8c8-e89ef4879639",
   "metadata": {},
   "source": [
    "### QUE:-13 write a python function to demostrate the use of the seek() method to change the file position."
   ]
  },
  {
   "cell_type": "code",
   "execution_count": null,
   "id": "11b27663-93b7-4728-b9b0-568cb06a4c1b",
   "metadata": {},
   "outputs": [],
   "source": [
    "def demo_seek_method(file_path):\n",
    "    with open(file_path, \"r\") as file:\n",
    "        data = file.read(50)\n",
    "        print(\"Initial data read:\", data)\n",
    "        \n",
    "        file.seek(0)\n",
    "        \n",
    "        data = file.read(50)\n",
    "        print(\"Data read after seek:\", data)\n",
    "\n",
    "file_path = \"example.txt\"\n",
    "demo_seek_method(file_path)"
   ]
  },
  {
   "cell_type": "markdown",
   "id": "0c3695e5-c10b-4149-bb5a-996842fe2163",
   "metadata": {},
   "source": [
    "----------------------------------------------------------------------------------------------------------------------------"
   ]
  },
  {
   "cell_type": "markdown",
   "id": "a73b7456-994b-4e7b-b47a-8831de70834b",
   "metadata": {},
   "source": [
    "### QUE:-14 create a python function to return the file discriptor(integer number) of a  file using the fileno() method."
   ]
  },
  {
   "cell_type": "code",
   "execution_count": null,
   "id": "fdf92ec2-4f71-4d96-b61c-bb2fca22451d",
   "metadata": {},
   "outputs": [],
   "source": [
    "def get_file_descriptor(file_path):\n",
    "    with open(file_path, \"r\") as file:\n",
    "        file_descriptor = file.fileno()\n",
    "    return file_descriptor\n",
    "\n",
    "file_path = \"example.txt\"\n",
    "descriptor = get_file_descriptor(file_path)\n",
    "print(\"File descriptor:\", descriptor)\n"
   ]
  },
  {
   "cell_type": "markdown",
   "id": "4cd98b3e-63d3-4ccb-9c87-31fe5d010a5a",
   "metadata": {},
   "source": [
    "-----------------------------------------------------------------------------------------------------------------------------"
   ]
  },
  {
   "cell_type": "markdown",
   "id": "79a7e81c-6a41-4b74-b47f-1587debc9757",
   "metadata": {},
   "source": [
    "### QUE:-15 write a python to return the current position of the files object using the tell() method"
   ]
  },
  {
   "cell_type": "code",
   "execution_count": null,
   "id": "f9592f7c-2dd4-4665-9116-e8faa157bb45",
   "metadata": {},
   "outputs": [],
   "source": [
    "def get_current_position(file_path):\n",
    "    with open(file_path, \"r\") as file:\n",
    "        position = file.tell()\n",
    "    return position\n",
    "\n",
    "file_path = \"example.txt\"\n",
    "position = get_current_position(file_path)\n",
    "print(\"Current position:\", position)\n"
   ]
  },
  {
   "cell_type": "markdown",
   "id": "9ffd25df-dac3-406c-8536-279d01468378",
   "metadata": {},
   "source": [
    "------------------------------------------------------------------------------------------------------------------------------"
   ]
  },
  {
   "cell_type": "markdown",
   "id": "edfb9aaf-e1a4-484b-85af-74ab36479b89",
   "metadata": {},
   "source": [
    "### QUE;-16 create a python programme that logs a messege to a file using the logging module."
   ]
  },
  {
   "cell_type": "code",
   "execution_count": null,
   "id": "4ec6b50f-74d6-459f-b46b-d5f44908108c",
   "metadata": {},
   "outputs": [],
   "source": [
    "import logging\n",
    "\n",
    "def setup_logging(log_file):\n",
    "    logging.basicConfig(filename=log_file, level=logging.INFO, format='%(asctime)s - %(levelname)s - %(message)s')\n",
    "\n",
    "def log_message(message):\n",
    "    logging.info(message)\n",
    "\n",
    "log_file = \"example.log\"\n",
    "setup_logging(log_file)\n",
    "log_message(\"This is a logged message.\")"
   ]
  },
  {
   "cell_type": "markdown",
   "id": "f9bfd86c-8eaf-437d-acbb-ec900e35357b",
   "metadata": {},
   "source": [
    "------------------------------------------------------------------------------------------------------------------------------"
   ]
  },
  {
   "cell_type": "markdown",
   "id": "16e252bc-bd96-4123-a6b5-00ed4c3b4c27",
   "metadata": {},
   "source": [
    "### QUE:-17 explain the importance in logging levels in pythons logging module."
   ]
  },
  {
   "cell_type": "markdown",
   "id": "b16f810e-6e79-45e2-8b91-215a9c4138d1",
   "metadata": {},
   "source": [
    "#### ---> Granular Control: Logging levels allow developers to control which messages are logged by specifying the minimum level of severity for logging. This provides fine-tuning of logging output.\n",
    "\n",
    "#### ---> Severity Classification: Each logging level corresponds to a specific severity level, such as DEBUG, INFO, WARNING, ERROR, and CRITICAL, enabling classification of log messages based on importance.\n",
    "\n",
    "#### ---> Flexible Configuration: Developers can configure different loggers with varying levels of verbosity based on the application's requirements, ensuring appropriate logging output in different environments.\n",
    "\n",
    "#### ---> Diagnostic Insights: Logging levels help in diagnosing issues by providing insights into the severity of events occurring within the application, allowing developers to prioritize and address critical errors effectively.\n",
    "\n",
    "#### ---> Standardization: Logging levels establish a standardized way to categorize log messages across different components of an application, ensuring consistency in logging practices and facilitating log analysis and interpretation"
   ]
  },
  {
   "cell_type": "markdown",
   "id": "31e253bf-584e-4c0d-ad75-29ede684b5f5",
   "metadata": {},
   "source": [
    "---------------------------------------------------------------------------------------------------------------------------"
   ]
  },
  {
   "cell_type": "markdown",
   "id": "0bb25cc0-013b-47e4-ad18-f496d6ccf4e6",
   "metadata": {},
   "source": [
    "### QUE:-18 create a python programme that uses the debugger to trace a recursive function."
   ]
  },
  {
   "cell_type": "code",
   "execution_count": null,
   "id": "4c37f493-986e-4b19-b4bb-720e051b30ad",
   "metadata": {},
   "outputs": [],
   "source": [
    "import pdb\n",
    "\n",
    "def factorial(n):\n",
    "    # Set a breakpoint at the beginning of the function\n",
    "    pdb.set_trace()\n",
    "    \n",
    "    if n == 0:\n",
    "        return 1\n",
    "    else:\n",
    "        return n * factorial(n - 1)\n",
    "\n",
    "# Call the recursive function with an argument\n",
    "result = factorial(5)\n",
    "print(\"Result:\", result)\n"
   ]
  },
  {
   "cell_type": "markdown",
   "id": "0142babd-6ab3-42c4-94d4-c2a9e509bd76",
   "metadata": {},
   "source": [
    "--------------------------------------------------------------------------------------------------------------------------"
   ]
  },
  {
   "cell_type": "markdown",
   "id": "57b76227-da5c-423b-93b2-07c195b9e9a1",
   "metadata": {},
   "source": [
    "### QUE:-19 create a python programme that demostrate setting breakpoints and inspecting varible using the debugger."
   ]
  },
  {
   "cell_type": "code",
   "execution_count": null,
   "id": "91e7687e-388c-4d82-a42a-b77a86e8bd09",
   "metadata": {},
   "outputs": [],
   "source": [
    "import pdb\n",
    "\n",
    "def calculate_sum(a, b):\n",
    "    # Set a breakpoint at this line\n",
    "    pdb.set_trace()\n",
    "    \n",
    "    # Add the two numbers\n",
    "    result = a + b\n",
    "    \n",
    "    # Return the result\n",
    "    return result\n",
    "\n",
    "# Call the function with some arguments\n",
    "result = calculate_sum(5, 10)\n",
    "print(\"Result:\", result)\n"
   ]
  },
  {
   "cell_type": "markdown",
   "id": "2f01da6b-e359-4e2e-b5eb-328464c7ed40",
   "metadata": {},
   "source": [
    "--------------------------------------------------------------------------------------------------------------------------------"
   ]
  },
  {
   "cell_type": "markdown",
   "id": "12c39119-21aa-46b0-adf3-6adb5a917d50",
   "metadata": {},
   "source": [
    "### QUE:-20 create a python programe that uses the debugger to trace a recursive function."
   ]
  },
  {
   "cell_type": "code",
   "execution_count": null,
   "id": "39e7fa7c-e836-405f-afd2-7d23a3c5e393",
   "metadata": {},
   "outputs": [],
   "source": [
    "import pdb\n",
    "\n",
    "def factorial(n):\n",
    "    # Set a breakpoint at the beginning of the function\n",
    "    pdb.set_trace()\n",
    "    \n",
    "    if n == 0:\n",
    "        return 1\n",
    "    else:\n",
    "        return n * factorial(n - 1)\n",
    "\n",
    "# Call the recursive function with an argument\n",
    "result = factorial(5)\n",
    "print(\"Result:\", result)\n"
   ]
  },
  {
   "cell_type": "markdown",
   "id": "38d3c9a1-be00-4620-91af-a3eeb66a5b41",
   "metadata": {},
   "source": [
    "-------------------------------------------------------------------------------------------------------------------------------"
   ]
  },
  {
   "cell_type": "markdown",
   "id": "5b89403d-2107-4c6f-a6af-3e2fba89f9ef",
   "metadata": {},
   "source": [
    "### QUE:-21 WRITE A TRY EXCEPT BLOCK TO HANDLE ZERODIVISIBLEERROR."
   ]
  },
  {
   "cell_type": "code",
   "execution_count": 3,
   "id": "6a71e6ce-255a-466e-8687-f391994a8594",
   "metadata": {},
   "outputs": [
    {
     "name": "stdout",
     "output_type": "stream",
     "text": [
      "error: division by zero division by zero\n"
     ]
    }
   ],
   "source": [
    "try:\n",
    "    result=12/0\n",
    "except ZeroDivisionError as e:\n",
    "    print(\"error: division by zero\",e)\n",
    "    "
   ]
  },
  {
   "cell_type": "markdown",
   "id": "88b49c9d-7c4f-4f07-a94a-056762fc5645",
   "metadata": {},
   "source": [
    "-----------------------------------------------------------------------------------------------------------------------------"
   ]
  },
  {
   "cell_type": "markdown",
   "id": "24518909-f564-4964-b0ba-5b5bf6dfa612",
   "metadata": {},
   "source": [
    "### QUE:-22 how does the else block work with try except."
   ]
  },
  {
   "cell_type": "markdown",
   "id": "77f4bd84-da35-41fc-b30f-3d8d0aaadd91",
   "metadata": {},
   "source": [
    "#### ---> The else block in a try-except statement in Python is executed if no exception occurs in the try block."
   ]
  },
  {
   "cell_type": "code",
   "execution_count": 4,
   "id": "50201308-f049-479d-a345-9d719e7548d2",
   "metadata": {},
   "outputs": [
    {
     "name": "stdout",
     "output_type": "stream",
     "text": [
      "Division successful, result: 5.0\n"
     ]
    }
   ],
   "source": [
    "try:\n",
    "    result = 10 / 2\n",
    "except ZeroDivisionError:\n",
    "    print(\"Error: Division by zero occurred\")\n",
    "else:\n",
    "    print(\"Division successful, result:\", result)\n"
   ]
  },
  {
   "cell_type": "markdown",
   "id": "8f9ac2c8-27b1-4733-aae1-f482a13a393e",
   "metadata": {},
   "source": [
    "--------------------------------------------------------------------------------------------------------------------------"
   ]
  },
  {
   "cell_type": "markdown",
   "id": "4e790e14-e061-48f9-9c8a-52d87ff50dab",
   "metadata": {},
   "source": [
    "### QUE:-23 implement try-except-else block to open and read  an file."
   ]
  },
  {
   "cell_type": "code",
   "execution_count": 5,
   "id": "1c5aebc4-16d3-487c-8a93-7c48e48f41ec",
   "metadata": {},
   "outputs": [
    {
     "name": "stdout",
     "output_type": "stream",
     "text": [
      "File contents:\n",
      "Hello, world!\n",
      "This is a demonstration of the close() method.\n",
      "\n"
     ]
    }
   ],
   "source": [
    "try:\n",
    "    with open(\"example.txt\", \"r\") as file:\n",
    "        contents = file.read()\n",
    "except FileNotFoundError:\n",
    "    print(\"Error: File not found\")\n",
    "except IOError:\n",
    "    print(\"Error: Unable to read the file\")\n",
    "else:\n",
    "    print(\"File contents:\")\n",
    "    print(contents)\n"
   ]
  },
  {
   "cell_type": "markdown",
   "id": "19cd3186-ec5c-44b0-acfa-6e7bcf16d1a0",
   "metadata": {},
   "source": [
    "-----------------------------------------------------------------------------------------------------------------------------"
   ]
  },
  {
   "cell_type": "markdown",
   "id": "ecdae00b-7f82-4e8f-8062-9ab263d1434e",
   "metadata": {},
   "source": [
    "### QUE:-24 what is the purpose of the finally block in exeception handling."
   ]
  },
  {
   "cell_type": "markdown",
   "id": "ef0c195a-8f17-44ea-96e2-451e7fed0f82",
   "metadata": {},
   "source": [
    "#### ---> The finally block in exception handling serves the purpose of providing a cleanup code that should be executed regardless of whether an exception occurs or not. "
   ]
  },
  {
   "cell_type": "code",
   "execution_count": 6,
   "id": "6c93f015-2c1d-4668-b2c5-2c8003a6e20f",
   "metadata": {},
   "outputs": [
    {
     "name": "stdout",
     "output_type": "stream",
     "text": [
      "File closed successfully\n"
     ]
    }
   ],
   "source": [
    "try:\n",
    "    file = open(\"example.txt\", \"w\")\n",
    "    \n",
    "    file.write(\"Hello, world!\")\n",
    "except IOError:\n",
    "    print(\"Error: Unable to write to file\")\n",
    "finally:\n",
    "    if 'file' in locals():\n",
    "        file.close()\n",
    "        print(\"File closed successfully\")\n"
   ]
  },
  {
   "cell_type": "markdown",
   "id": "e660c069-e943-4060-8b50-8082c4d06050",
   "metadata": {},
   "source": [
    "---------------------------------------------------------------------------------------------------------------------------"
   ]
  },
  {
   "cell_type": "markdown",
   "id": "6d801e8b-41bc-40b1-b8d3-f4b77a8627b6",
   "metadata": {},
   "source": [
    "### QUE:-25 write a try except finally block to handle a valueerror."
   ]
  },
  {
   "cell_type": "code",
   "execution_count": 8,
   "id": "78eaae97-a62c-4561-a272-13d6e99d66e1",
   "metadata": {},
   "outputs": [
    {
     "name": "stdout",
     "output_type": "stream",
     "text": [
      "Error: Unable to convert string to integer\n",
      "Finally block executed\n"
     ]
    }
   ],
   "source": [
    "try:\n",
    "    number = int(\"abc\")\n",
    "except ValueError:\n",
    "    print(\"Error: Unable to convert string to integer\")\n",
    "finally:\n",
    "    print(\"Finally block executed\")\n"
   ]
  },
  {
   "cell_type": "markdown",
   "id": "c3611387-5b2f-473d-8cc5-38c7950a1aac",
   "metadata": {},
   "source": [
    "------------------------------------------------------------------------------------------------------------------------------"
   ]
  },
  {
   "cell_type": "markdown",
   "id": "fe84d5d5-e3f4-469d-93af-cf34a1f7631a",
   "metadata": {},
   "source": [
    "### QUE:-26 how multiple except block work in python."
   ]
  },
  {
   "cell_type": "code",
   "execution_count": 9,
   "id": "45951d65-e331-465f-85dc-6fb979c66b7d",
   "metadata": {},
   "outputs": [
    {
     "name": "stdout",
     "output_type": "stream",
     "text": [
      "Error: Unable to convert contents to integer\n"
     ]
    }
   ],
   "source": [
    "try:\n",
    "    file = open(\"example.txt\", \"r\")\n",
    "    \n",
    "    contents = file.read()\n",
    "    \n",
    "    number = int(contents)\n",
    "except FileNotFoundError:\n",
    "    print(\"Error: File not found\")\n",
    "except ValueError:\n",
    "    print(\"Error: Unable to convert contents to integer\")\n",
    "finally:\n",
    "    if 'file' in locals():\n",
    "        file.close()\n"
   ]
  },
  {
   "cell_type": "markdown",
   "id": "7675636b-76f2-4b8f-8431-c1375672a4e1",
   "metadata": {},
   "source": [
    "--------------------------------------------------------------------------------------------------------------------------"
   ]
  },
  {
   "cell_type": "markdown",
   "id": "cc6956ce-0dc6-48f9-9286-826835af971f",
   "metadata": {},
   "source": [
    "### QUE:-27 what is a custom exception in python."
   ]
  },
  {
   "cell_type": "markdown",
   "id": "7d979263-7998-480e-898b-4d7df25ce454",
   "metadata": {},
   "source": [
    "#### ---> A custom exception in Python is an exception class that you define yourself by subclassing the built-in Exception class or one of its subclasses. Custom exceptions allow you to create specific error conditions tailored to your application's needs, making your code more expressive and easier to understand."
   ]
  },
  {
   "cell_type": "code",
   "execution_count": 10,
   "id": "90798d83-7d1d-4b4b-a6b0-8d7a62cf041a",
   "metadata": {},
   "outputs": [],
   "source": [
    "class CustomError(Exception):\n",
    "    \"\"\"Custom exception class.\"\"\"\n",
    "    pass\n"
   ]
  },
  {
   "cell_type": "markdown",
   "id": "04713f74-a9a5-47e8-acb6-3ea3e8091635",
   "metadata": {},
   "source": [
    "----------------------------------------------------------------------------------------------------------------------------"
   ]
  },
  {
   "cell_type": "markdown",
   "id": "c08fb0a9-e39f-4caa-9772-1e4cf28119c6",
   "metadata": {},
   "source": [
    "### QUE;-28 create a custom exception class with a message."
   ]
  },
  {
   "cell_type": "code",
   "execution_count": 11,
   "id": "cb13344c-ec37-40cd-bfd6-cc373a278def",
   "metadata": {},
   "outputs": [
    {
     "name": "stdout",
     "output_type": "stream",
     "text": [
      "Custom error occurred: This is a custom error message\n"
     ]
    }
   ],
   "source": [
    "class CustomError(Exception):\n",
    "    \"\"\"Custom exception class with a message.\"\"\"\n",
    "    \n",
    "    def __init__(self, message):\n",
    "        \"\"\"Initialize the custom exception with a message.\"\"\"\n",
    "        self.message = message\n",
    "try:\n",
    "    raise CustomError(\"This is a custom error message\")\n",
    "except CustomError as e:\n",
    "    print(\"Custom error occurred:\", e.message)\n"
   ]
  },
  {
   "cell_type": "markdown",
   "id": "f5c50a6e-95b0-42a6-b3bf-e54ca6a1f359",
   "metadata": {},
   "source": [
    "-----------------------------------------------------------------------------------------------------------------------------"
   ]
  },
  {
   "cell_type": "markdown",
   "id": "d9c2d1cc-e4f4-4abf-b103-a0337265115e",
   "metadata": {},
   "source": [
    "### QUE:-29 write a code to raise a custom exception in python."
   ]
  },
  {
   "cell_type": "code",
   "execution_count": 15,
   "id": "407a4fb9-9565-43b3-bf72-b04d1156cce0",
   "metadata": {},
   "outputs": [
    {
     "name": "stdout",
     "output_type": "stream",
     "text": [
      "Custom error occurred: Age cannot be negative\n"
     ]
    }
   ],
   "source": [
    "class CustomError(Exception):\n",
    "    \n",
    "    def __init__(self, message):\n",
    "        self.message = message\n",
    "\n",
    "def validate_age(age):\n",
    "    if age < 0:\n",
    "        raise CustomError(\"Age cannot be negative\")\n",
    "\n",
    "try:\n",
    "    age = -5\n",
    "    validate_age(age)\n",
    "except CustomError as e:\n",
    "    print(\"Custom error occurred:\", e.message)"
   ]
  },
  {
   "cell_type": "markdown",
   "id": "96e942eb-c840-423b-a607-a40dafdf0ae7",
   "metadata": {},
   "source": [
    "----------------------------------------------------------------------------------------------------------------------------"
   ]
  },
  {
   "cell_type": "markdown",
   "id": "2233ad71-e5c3-48c8-914a-8ff65a509650",
   "metadata": {},
   "source": [
    "### QUE:-30 write a function that raise a custom exception when a value is negetive."
   ]
  },
  {
   "cell_type": "code",
   "execution_count": 16,
   "id": "766f297c-2919-48d0-9a90-3fc61ec870f4",
   "metadata": {},
   "outputs": [
    {
     "name": "stdout",
     "output_type": "stream",
     "text": [
      "Custom error occurred: Negative value encountered: -5\n"
     ]
    }
   ],
   "source": [
    "class NegativeValueError(Exception):\n",
    "    \n",
    "    def __init__(self, value):\n",
    "        self.message = f\"Negative value encountered: {value}\"\n",
    "\n",
    "def check_positive(value):\n",
    "    if value < 0:\n",
    "        raise NegativeValueError(value)\n",
    "\n",
    "try:\n",
    "    check_positive(-5)\n",
    "except NegativeValueError as e:\n",
    "    print(\"Custom error occurred:\", e.message)\n"
   ]
  },
  {
   "cell_type": "markdown",
   "id": "0991a5e1-3c42-428e-9da6-4212dd8a6ce9",
   "metadata": {},
   "source": [
    "----------------------------------------------------------------------------------------------------------------------------"
   ]
  },
  {
   "cell_type": "markdown",
   "id": "78455c46-33fc-406b-a126-9d51365ad571",
   "metadata": {},
   "source": [
    "### QUE:-31 what is the role of try except else and finally in exception handling."
   ]
  },
  {
   "cell_type": "markdown",
   "id": "8e59e98d-9b03-4a22-b47b-0d3ac565ee66",
   "metadata": {},
   "source": [
    "#### ---> try block: The try block is used to enclose the code that may raise an exception. It allows you to specify the code that you want to monitor for exceptions.\n",
    "\n",
    "#### ---> except block: The except block is used to catch and handle exceptions that occur within the corresponding try block. You can have multiple except blocks to handle different types of exceptions or specific error conditions.\n",
    "\n",
    "#### ---> else block: The else block is optional and is executed if no exceptions occur in the associated try block. It allows you to define code that should run only if the try block executes successfully, without raising any exceptions.\n",
    "\n",
    "#### ---> finally block: The finally block is also optional and is used to define cleanup code that should always be executed, regardless of whether an exception occurs or not. It is typically used to release resources, close files, or perform other cleanup operations."
   ]
  },
  {
   "cell_type": "markdown",
   "id": "37840c4e-dfe1-4af3-9b49-d466f2e4bbbd",
   "metadata": {},
   "source": [
    "------------------------------------------------------------------------------------------------------------------------------"
   ]
  },
  {
   "cell_type": "markdown",
   "id": "22f54323-6b43-4308-b8ba-f852efaf4d7b",
   "metadata": {},
   "source": [
    "### QUE:-32  how can custom exceptions improve code readability and maintainity"
   ]
  },
  {
   "cell_type": "markdown",
   "id": "798e195e-e44f-4d7a-9240-d1a063603a88",
   "metadata": {},
   "source": [
    "#### ---> Expressive Error Handling: Custom exceptions provide descriptive error conditions, making it easier to understand errors in the context of your application.\n",
    "\n",
    "#### ---> Modular Error Handling: Custom exceptions modularize error handling logic, separating it from the main code logic for improved organization and maintenance.\n",
    "\n",
    "#### ---> Centralized Error Reporting: Custom exceptions offer a centralized mechanism for reporting errors, promoting code consistency and readability.\n",
    "\n",
    "#### ---> Enhanced Debugging: Custom exceptions can include additional context or debugging information, aiding in troubleshooting and debugging efforts.\n",
    "\n",
    "#### ---> Facilitates Documentation: Custom exceptions serve as self-documenting elements, documenting potential error conditions and improving code comprehension for other developers."
   ]
  },
  {
   "cell_type": "markdown",
   "id": "1c07c34e-9144-4aac-b5a7-b960ecb3582f",
   "metadata": {},
   "source": [
    "----------------------------------------------------------------------------------------------------------------------------"
   ]
  },
  {
   "cell_type": "markdown",
   "id": "ff2db126-0108-45a1-ba29-98844eca6c3d",
   "metadata": {},
   "source": [
    "### QUE:-33 what is multithreading."
   ]
  },
  {
   "cell_type": "markdown",
   "id": "569b9470-cfbb-45df-833a-f555d3240853",
   "metadata": {},
   "source": [
    "#### ---> Multithreading is a programming technique that enables concurrent execution of multiple threads within a single process. It allows different tasks to run simultaneously, improving performance and responsiveness."
   ]
  },
  {
   "cell_type": "markdown",
   "id": "0bbe4758-6154-4b3f-88ba-1256d0536799",
   "metadata": {},
   "source": [
    "------------------------------------------------------------------------------------------------------------------------------"
   ]
  },
  {
   "cell_type": "markdown",
   "id": "5d719a9a-b4e6-4780-99be-75f91e0aceef",
   "metadata": {},
   "source": [
    "### QUE:-34 create a thread in python."
   ]
  },
  {
   "cell_type": "code",
   "execution_count": 19,
   "id": "e01e2229-7619-4d6a-8a34-bee7f485da71",
   "metadata": {},
   "outputs": [
    {
     "name": "stdout",
     "output_type": "stream",
     "text": [
      "Thread: Thread-5 (print_numbers) Number: 1\n",
      "Thread: Thread-5 (print_numbers) Number: 2\n",
      "Thread: Thread-5 (print_numbers) Number: 3\n",
      "Thread: Thread-5 (print_numbers) Number: 4\n",
      "Thread: Thread-5 (print_numbers) Number: 5\n",
      "Main thread exiting\n"
     ]
    }
   ],
   "source": [
    "import threading\n",
    "def print_numbers():\n",
    "    for i in range(1, 6):\n",
    "        print(\"Thread:\", threading.current_thread().name, \"Number:\", i)\n",
    "\n",
    "thread = threading.Thread(target=print_numbers)\n",
    "\n",
    "thread.start()\n",
    "\n",
    "thread.join()\n",
    "\n",
    "print(\"Main thread exiting\")\n"
   ]
  },
  {
   "cell_type": "markdown",
   "id": "0992cd61-deb0-4b07-b5eb-531b2828af53",
   "metadata": {},
   "source": [
    "---------------------------------------------------------------------------------------------------------------------------"
   ]
  },
  {
   "cell_type": "markdown",
   "id": "4ed7750b-ed18-4e2b-aa33-397c9dacba30",
   "metadata": {},
   "source": [
    "### QUE:-35 what is global interpreter lock in python."
   ]
  },
  {
   "cell_type": "markdown",
   "id": "a79b9576-efa2-443e-a4cb-c2addd638e03",
   "metadata": {},
   "source": [
    "#### ---> The Global Interpreter Lock (GIL) is a mechanism used in the Python interpreter (CPython) to ensure that only one thread executes Python bytecode at a time. This means that even on a multi-core CPU, only one thread can execute Python bytecode concurrently."
   ]
  },
  {
   "cell_type": "markdown",
   "id": "cdd9599e-6852-4efa-9438-d5fd65609eac",
   "metadata": {},
   "source": [
    "---------------------------------------------------------------------------------------------------------------------------"
   ]
  },
  {
   "cell_type": "markdown",
   "id": "2cf01a1c-3194-42fe-a8ac-ddf54fdb9224",
   "metadata": {},
   "source": [
    "### QUE:-36 impliment a simple multithread example in python."
   ]
  },
  {
   "cell_type": "code",
   "execution_count": 20,
   "id": "5258f562-7f31-4e42-a995-6aabf0765bd1",
   "metadata": {},
   "outputs": [
    {
     "name": "stdout",
     "output_type": "stream",
     "text": [
      "Thread: Thread-6 (print_numbers) Number: 1\n",
      "Thread: Thread-7 (print_numbers) Number: 1\n",
      "Thread: Thread-8 (print_numbers) Number: 1\n",
      "Thread:Thread: Thread-7 (print_numbers) Number: 2\n",
      "Thread: Thread-8 (print_numbers) Number: 2\n",
      " Thread-6 (print_numbers) Number: 2\n",
      "Thread: Thread-7 (print_numbers) Number: 3\n",
      "Thread: Thread-6 (print_numbers) Number: 3\n",
      "Thread: Thread-8 (print_numbers) Number: 3\n",
      "Thread:Thread: Thread-7 (print_numbers) Number: 4\n",
      " Thread-8 (print_numbers) Number: 4\n",
      "Thread: Thread-6 (print_numbers) Number: 4\n",
      "Thread:Thread: Thread-8 (print_numbers) Number: 5\n",
      " Thread-7 (print_numbers) Number: 5\n",
      "Thread: Thread-6 (print_numbers) Number: 5\n",
      "Main thread exiting\n"
     ]
    }
   ],
   "source": [
    "import threading\n",
    "import time\n",
    "\n",
    "def print_numbers():\n",
    "    for i in range(1, 6):\n",
    "        print(\"Thread:\", threading.current_thread().name, \"Number:\", i)\n",
    "        time.sleep(1) \n",
    "\n",
    "threads = []\n",
    "for i in range(3):  \n",
    "    thread = threading.Thread(target=print_numbers)\n",
    "    threads.append(thread)\n",
    "\n",
    "\n",
    "for thread in threads:\n",
    "    thread.start()\n",
    "\n",
    "\n",
    "for thread in threads:\n",
    "    thread.join()\n",
    "\n",
    "print(\"Main thread exiting\")\n"
   ]
  },
  {
   "cell_type": "markdown",
   "id": "13455a78-622b-49cd-ae59-f1ce9e976e6a",
   "metadata": {},
   "source": [
    "--------------------------------------------------------------------------------------------------------------------------"
   ]
  },
  {
   "cell_type": "markdown",
   "id": "e2594e2a-5915-4697-9a7a-dcef1b3bcd15",
   "metadata": {},
   "source": [
    "### QUE:-37 what is the purpose of the join() method in threading"
   ]
  },
  {
   "cell_type": "markdown",
   "id": "2b5023db-1b12-463f-8edf-b3a974d165f8",
   "metadata": {},
   "source": [
    "### ----> The join() method in threading is used to wait for a thread to complete its execution before proceeding with the rest of the program. When you call join() on a thread object, the calling thread (typically the main thread) will pause its execution and wait for the specified thread to finish."
   ]
  },
  {
   "cell_type": "markdown",
   "id": "dee7d07d-efaa-42cd-9a06-a4dd598a5426",
   "metadata": {},
   "source": [
    "#### ---> Synchronization: join() synchronizes the execution of threads, ensuring that certain operations are completed before others can proceed.\n",
    "\n",
    "#### ---> Wait for Completion: It allows the calling thread to wait for a specific thread to finish its task before continuing with subsequent operations.\n",
    "\n",
    "#### ---> Prevent Race Conditions: By waiting for one thread to complete before proceeding with another, join() helps prevent race conditions and ensures data integrity when multiple threads access shared resources.\n",
    "\n",
    "#### ---> Clean-Up: join() enables clean-up operations to be performed after a thread has finished its execution, ensuring that necessary tasks are completed before proceeding with the rest of the program."
   ]
  },
  {
   "cell_type": "markdown",
   "id": "ed6aeae4-5cf8-4a14-80be-2f37bf0c4772",
   "metadata": {},
   "source": [
    "-----------------------------------------------------------------------------------------------------------------------------------"
   ]
  },
  {
   "cell_type": "markdown",
   "id": "2c5cfda9-c472-4b4e-a4f2-7cb097fe7417",
   "metadata": {},
   "source": [
    "### QUE:-38 describe the scenerio where multithreading would be benificial in pytho."
   ]
  },
  {
   "cell_type": "markdown",
   "id": "1e00e715-73d3-4800-a253-0cfda766a3ad",
   "metadata": {},
   "source": [
    "#### ---> I/O-bound Tasks: Multithreading is useful for tasks that involve waiting for I/O operations to complete, such as reading from files or making network requests. It improves efficiency by allowing multiple I/O-bound tasks to run concurrently.\n",
    "\n",
    "#### ---> Asynchronous Programming: Multithreading is commonly used in asynchronous programming to handle concurrent I/O operations without blocking the main thread. It enhances responsiveness, especially in network programming and web scraping.\n",
    "\n",
    "#### ---> GUI Applications: Multithreading enhances responsiveness in GUI applications by offloading time-consuming tasks to background threads. This ensures that the GUI remains responsive to user interactions while heavy computations or I/O operations are performed asynchronously.\n",
    "\n",
    "#### ---> Parallel Computing: Multithreading accelerates parallelizable computations, such as numerical or data processing tasks, by leveraging multiple CPU cores. It divides the workload across threads to speed up the computation process.\n",
    "\n",
    "#### ---> Event-driven Programming: Multithreading enables event-driven models, like web servers or message brokers, to handle multiple concurrent requests or events simultaneously. Each thread independently manages a separate request or event, improving system scalability and responsiveness.\n",
    "\n",
    "#### ---> Task Parallelism: Multithreading facilitates task parallelism, where independent tasks or subtasks are executed concurrently. It improves performance and resource utilization by executing tasks simultaneously."
   ]
  },
  {
   "cell_type": "markdown",
   "id": "b913302c-f891-4e7e-a64d-5dfec2b1e83a",
   "metadata": {},
   "source": [
    "-----------------------------------------------------------------------------------------------------------------------------------------"
   ]
  },
  {
   "cell_type": "markdown",
   "id": "5e8bccef-733b-4d67-93c7-faa5ab7de461",
   "metadata": {},
   "source": [
    "### QUE:-39 what is multiprocessing in python."
   ]
  },
  {
   "cell_type": "markdown",
   "id": "ca56fe88-1b75-459f-b339-03410afbbc1b",
   "metadata": {},
   "source": [
    "#### ---> Multiprocessing in Python refers to the ability of a program to create and manage multiple processes concurrently. Unlike multithreading, where multiple threads run within a single process and share the same memory space, multiprocessing involves creating separate processes, each with its own memory space. This allows multiple processes to execute code concurrently and potentially utilize multiple CPU cores simultaneously."
   ]
  },
  {
   "cell_type": "markdown",
   "id": "66ca4830-a9a7-405f-a87e-1ad5d9332dde",
   "metadata": {},
   "source": [
    "-----------------------------------------------------------------------------------------------------------------------------"
   ]
  },
  {
   "cell_type": "markdown",
   "id": "81cadc3f-addb-4360-9c25-62e49c275062",
   "metadata": {},
   "source": [
    "### QUE:-40 how is multiprocessing different from multithreading in python."
   ]
  },
  {
   "cell_type": "markdown",
   "id": "c0c7d366-38bb-4a1d-b49b-960315677747",
   "metadata": {},
   "source": [
    "#### ---> 1.Processes vs. Threads:\n",
    "\n",
    "#### ---> Multiprocessing involves creating multiple independent processes, each with its own memory space and resources. These processes run concurrently and potentially in parallel on different CPU cores.\n",
    "#### ---> Multithreading, on the other hand, involves creating multiple threads within a single process. These threads share the same memory space and resources of the process and run concurrently within the process.\n",
    "\n",
    "\n",
    "#### ---> 2.Isolation:\n",
    "\n",
    "#### --->. multiprocessing, each process is isolated from others, meaning they do not share memory space. This provides better isolation and avoids issues such as race conditions and data corruption\n",
    "#### ---> In multithreading, all threads within a process share the same memory space, which can lead to potential concurrency issues such as race conditions and data corruption if proper synchronization mechanisms are not used.\n",
    "\n",
    "#### ---> 3.Parallelism:\n",
    "\n",
    "#### ---> Multiprocessing enables true parallelism on multi-core systems since each process runs independently and can utilize separate CPU cores simultaneously.\n",
    "#### ---> Multithreading does not achieve true parallelism in CPython due to the Global Interpreter Lock (GIL), which allows only one thread to execute Python bytecode at a time. However, multithreading can still achieve concurrency and improve responsiveness, especially for I/O-bound tasks.\n",
    "\n",
    "#### ---> 4.Inter-Process Communication (IPC):\n",
    "\n",
    "#### ---> In multiprocessing, communication between processes is achieved through mechanisms such as pipes, queues, shared memory, and message passing.\n",
    "#### ---> In multithreading, communication between threads is typically done through shared variables, locks, condition variables, and message passing.\n",
    "\n",
    "#### ---> 5.Complexity:\n",
    "#### ---> Multiprocessing introduces additional complexity compared to multithreading, especially in terms of inter-process communication, resource management, and process spawning overhead.\n",
    "#### ---> Multithreading is generally simpler to implement and understand since threads share the same memory space and resources within a single process."
   ]
  },
  {
   "cell_type": "markdown",
   "id": "f71fb2ea-50e7-4176-9fa6-ac11e2126740",
   "metadata": {},
   "source": [
    "------------------------------------------------------------------------------------------------------------------------------"
   ]
  },
  {
   "cell_type": "markdown",
   "id": "9af1ed32-4fe8-4847-be41-43a6ff8731b3",
   "metadata": {},
   "source": [
    "### QUE:-41 create a process using the multiprocesssing module in python."
   ]
  },
  {
   "cell_type": "code",
   "execution_count": 1,
   "id": "442c2fb6-612a-4881-a96d-989d617f08b3",
   "metadata": {},
   "outputs": [
    {
     "name": "stdout",
     "output_type": "stream",
     "text": [
      "Number: 1\n",
      "Number: 2\n",
      "Number: 3\n",
      "Number: 4\n",
      "Number: 5\n",
      "Main process exiting\n"
     ]
    }
   ],
   "source": [
    "import multiprocessing\n",
    "\n",
    "def print_numbers():\n",
    "    for i in range(1, 6):\n",
    "        print(\"Number:\", i)\n",
    "\n",
    "if __name__ == \"__main__\":\n",
    "    process = multiprocessing.Process(target=print_numbers)\n",
    "\n",
    "    process.start()\n",
    "\n",
    "    process.join()\n",
    "\n",
    "    print(\"Main process exiting\")\n"
   ]
  },
  {
   "cell_type": "markdown",
   "id": "40785c31-2b7c-4a2e-a51f-e5b151257a36",
   "metadata": {},
   "source": [
    "-----------------------------------------------------------------------------------------------------------------------------------"
   ]
  },
  {
   "cell_type": "markdown",
   "id": "4515d79e-1174-4248-9389-2bdb27ec6633",
   "metadata": {},
   "source": [
    "### QUE:-42 explain the concept of pool in the multiprocessing module."
   ]
  },
  {
   "cell_type": "markdown",
   "id": "0af9c8ee-9728-4620-adb5-5cf710514068",
   "metadata": {},
   "source": [
    "#### ---> In the multiprocessing module in Python, a pool is a convenient way to manage a fixed number of worker processes for executing tasks concurrently. It provides a high-level interface for distributing work across multiple processes and collecting results efficiently. The main concept behind using a pool is to abstract away the complexity of process management and parallelism, allowing developers to focus on the tasks to be executed."
   ]
  },
  {
   "cell_type": "markdown",
   "id": "03583399-e0c6-4fff-95df-8c7970437454",
   "metadata": {},
   "source": [
    "#### ---> Creation: A pool is created by specifying the number of worker processes to be used, typically matching the number of CPU cores available on the system.\n",
    "\n",
    "#### --->  Task Submission: Tasks are submitted to the pool using methods like apply(), apply_async(), map(), or map_async(), allowing functions and their arguments to be passed for execution.\n",
    "\n",
    "#### ---> Task Distribution: The pool manages the distribution of tasks among worker processes, ensuring concurrent execution and maximizing CPU utilization.\n",
    "\n",
    "#### ---> Execution: Each worker process in the pool independently executes assigned tasks, whether they are CPU-bound or I/O-bound, optimizing performance dynamically.\n",
    "\n",
    "#### ---> Result Collection: After all tasks are completed, the pool collects and aggregates results, which can be retrieved using methods like get() or by iterating over the results.\n",
    "\n",
    "#### ---> Cleanup: Once all tasks are finished and results are collected, the pool automatically terminates worker processes and releases resources, ensuring proper cleanup and avoiding resource leaks."
   ]
  },
  {
   "cell_type": "markdown",
   "id": "b11d41ee-f3b9-4bf1-bf12-c49ff8d12d5b",
   "metadata": {},
   "source": [
    "---------------------------------------------------------------------------------------------------------------------------------"
   ]
  },
  {
   "cell_type": "markdown",
   "id": "f595433b-b03b-497d-99d0-5a9a53d8cf07",
   "metadata": {},
   "source": [
    "### QUE:-43 explain inter process communication in multiprocessing"
   ]
  },
  {
   "cell_type": "markdown",
   "id": "fccdd8ab-e22f-4a04-820c-3f23d16f4cf1",
   "metadata": {},
   "source": [
    "#### ---> Inter-process communication (IPC) in multiprocessing refers to the mechanisms and techniques used to facilitate communication and data exchange between different processes running concurrently. In Python's multiprocessing module, IPC allows processes to collaborate, coordinate, and share information with each other, enabling more complex and cooperative concurrent execution.`"
   ]
  },
  {
   "cell_type": "markdown",
   "id": "ecec707b-3349-4b25-9d44-3e5a7b530947",
   "metadata": {},
   "source": [
    "#### ---> Shared Memory: Processes communicate by accessing shared regions of memory, allowing efficient data exchange. Python's multiprocessing module provides shared memory objects like Value and Array.\n",
    "\n",
    "#### ---> Queues: Processes exchange messages through synchronized queues, ensuring safe and efficient communication. The multiprocessing module offers a Queue class for this purpose.\n",
    "\n",
    "#### ---> Pipes: Processes communicate through unidirectional data streams, enabling two-way communication between pairs of processes. Python's multiprocessing module provides the Pipe class for creating pipes.\n",
    "\n",
    "#### ---> Locks and Semaphores: Processes use locks and semaphores to synchronize access to shared resources, preventing race conditions and ensuring mutual exclusion.\n",
    "\n",
    "#### ---> Events and Conditions: Processes coordinate execution through events and conditions, signaling and waiting for specific conditions to occur before proceeding. Python's multiprocessing module offers primitives like Event and Condition for this purpose."
   ]
  },
  {
   "cell_type": "markdown",
   "id": "70a54d4d-b10c-45ac-953e-48a5b3641978",
   "metadata": {},
   "source": [
    "----------------------------------------------------------------------------------------------------------------------------------"
   ]
  },
  {
   "cell_type": "code",
   "execution_count": null,
   "id": "3f5dbcb8-6874-4e21-af4b-10020f618d3d",
   "metadata": {},
   "outputs": [],
   "source": []
  }
 ],
 "metadata": {
  "kernelspec": {
   "display_name": "Python 3 (ipykernel)",
   "language": "python",
   "name": "python3"
  },
  "language_info": {
   "codemirror_mode": {
    "name": "ipython",
    "version": 3
   },
   "file_extension": ".py",
   "mimetype": "text/x-python",
   "name": "python",
   "nbconvert_exporter": "python",
   "pygments_lexer": "ipython3",
   "version": "3.10.8"
  }
 },
 "nbformat": 4,
 "nbformat_minor": 5
}
