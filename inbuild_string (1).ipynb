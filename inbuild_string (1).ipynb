{
 "cells": [
  {
   "cell_type": "markdown",
   "id": "5077f0d4-3a17-4c45-a035-8ab33c94a739",
   "metadata": {},
   "source": [
    "### QUE:-1  What is the purpose of the len() function in Python, and how can it be used with strings?"
   ]
  },
  {
   "cell_type": "markdown",
   "id": "dc097882-a93e-4bb5-80b1-18aa9165c842",
   "metadata": {},
   "source": [
    "### ---> the 'len()\" fucntion in python used to determine the length of an object . it returns the number of items in containers such as the list , tuple , dictionary or the number of chatacter in string. "
   ]
  },
  {
   "cell_type": "code",
   "execution_count": 1,
   "id": "8b179dbb-e600-4b3b-bec9-745a5070d823",
   "metadata": {},
   "outputs": [
    {
     "name": "stdout",
     "output_type": "stream",
     "text": [
      "length of the string = 15\n"
     ]
    }
   ],
   "source": [
    "#example:-\n",
    "string=\"hello pw skills\"\n",
    "lenght=len(string)\n",
    "print(\"length of the string =\", lenght)"
   ]
  },
  {
   "cell_type": "markdown",
   "id": "99a10eeb-f5ea-452b-af08-d33246db67aa",
   "metadata": {},
   "source": [
    "### QUE:-2 . How can you concatenate two or more strings in Python, and can you provide an example of string concatenation?"
   ]
  },
  {
   "cell_type": "markdown",
   "id": "d3ff6775-862a-450a-97a2-d7a5662729a3",
   "metadata": {},
   "source": [
    "### ---> in python you can concatenation two or more string by using the \"+\" operator or by using the 'str.join()' method."
   ]
  },
  {
   "cell_type": "code",
   "execution_count": 7,
   "id": "60c456e5-d23a-4edc-8f53-19335702c61f",
   "metadata": {},
   "outputs": [
    {
     "name": "stdout",
     "output_type": "stream",
     "text": [
      "concatenation of strings= Hello Pw Skills how are you!\n"
     ]
    }
   ],
   "source": [
    "# USING + OPERATOR:-\n",
    "string1='Hello'\n",
    "string2='Pw Skills'\n",
    "string3='how are you'\n",
    "concatenation_strings=string1 + ' ' + string2 + ' ' + string3 + '!'\n",
    "print(\"concatenation of strings=\",concatenation_strings)"
   ]
  },
  {
   "cell_type": "code",
   "execution_count": 14,
   "id": "6e5fea5d-5793-48ec-8706-3592f0aedd55",
   "metadata": {},
   "outputs": [
    {
     "name": "stdout",
     "output_type": "stream",
     "text": [
      "Hello, World!\n"
     ]
    }
   ],
   "source": [
    "#USING THE 'STR.JOIN()' METHOD:-\n",
    "strings = [\"Hello\", \"World\"]\n",
    "separator = \", \"\n",
    "concatenated_string = separator.join(strings) + \"!\"\n",
    "print(concatenated_string)\n"
   ]
  },
  {
   "cell_type": "markdown",
   "id": "79ffd730-514c-4130-af2a-c9ae303e3420",
   "metadata": {},
   "source": [
    "### QUE:-3. What is string slicing in Python, and how can you extract a portion of a string using this method?"
   ]
  },
  {
   "cell_type": "markdown",
   "id": "4982a505-6acc-4595-a2e4-d975ee5f1f86",
   "metadata": {},
   "source": [
    "### string slicing\n",
    "#### ---> string slicig in python is a technique used to extract a portion of a string by specifying a range of indices . \n",
    "#### ---> the syntax for string slicing is string '[start:end:jump]' , where start is the index of first character to include in the slice , and end is the index of the character just after the last character to include in the slice . "
   ]
  },
  {
   "cell_type": "code",
   "execution_count": 12,
   "id": "94f921a0-6229-4777-9def-181c5ecd78c7",
   "metadata": {},
   "outputs": [
    {
     "name": "stdout",
     "output_type": "stream",
     "text": [
      "Slice 1: hello pw skills how are you\n",
      "Slice 2: uoy era woh slliks wp olleh\n",
      "Slice 3: pw skills \n",
      "Slice 4: how are you\n"
     ]
    }
   ],
   "source": [
    "# example of slicing\n",
    "string='hello pw skills how are you'\n",
    "slice1=string[0::]\n",
    "slice2=string[::-1]\n",
    "slice3=string[6:16]\n",
    "slice4=string[-11:]\n",
    "print(\"Slice 1:\", slice1)\n",
    "print(\"Slice 2:\", slice2)\n",
    "print(\"Slice 3:\", slice3)\n",
    "print(\"Slice 4:\", slice4)\n"
   ]
  },
  {
   "cell_type": "markdown",
   "id": "3c9c36da-b070-463c-a07d-0e62eb593648",
   "metadata": {},
   "source": [
    "### QUE:-4. How can you change the case of a string in Python, and can you provide examples of both making a string all uppercase and all lowercase?\n",
    "\n",
    "\n"
   ]
  },
  {
   "cell_type": "markdown",
   "id": "0c3cd69f-8a2c-4120-8e6f-fec15747e790",
   "metadata": {},
   "source": [
    "#### ---> In Python, you can change the case of a string using the upper() and lower() methods. Here are examples of both making a string all uppercase and all lowercase:"
   ]
  },
  {
   "cell_type": "code",
   "execution_count": 13,
   "id": "9de3c4cc-2c00-43b6-b263-1c2af78a611f",
   "metadata": {},
   "outputs": [
    {
     "name": "stdout",
     "output_type": "stream",
     "text": [
      "Uppercase: HELLO, WORLD!\n"
     ]
    }
   ],
   "source": [
    "# UPPERCASE STRING\n",
    "string = \"Hello, World!\"\n",
    "uppercase_string =string.upper()\n",
    "print(\"Uppercase:\", uppercase_string)\n"
   ]
  },
  {
   "cell_type": "code",
   "execution_count": 15,
   "id": "f64ee17f-f41e-42b7-a49b-2d065cefd920",
   "metadata": {},
   "outputs": [
    {
     "name": "stdout",
     "output_type": "stream",
     "text": [
      "lowercase: hello, world!\n"
     ]
    }
   ],
   "source": [
    "# LOWERCASE STRING\n",
    "mstring = \"Hello, World!\"\n",
    "uppercase_string = string.lower()\n",
    "print(\"lowercase:\", uppercase_string)\n"
   ]
  },
  {
   "cell_type": "markdown",
   "id": "b0176462-1e04-453a-8f2f-96ad3930d35e",
   "metadata": {},
   "source": [
    "------------------------------------------------------------------------------------------------------------------------------------"
   ]
  },
  {
   "cell_type": "markdown",
   "id": "16f1ac90-5141-47fa-9e35-c2a6eb7c61cf",
   "metadata": {},
   "source": [
    "### QUE:-5. What does the split() method do in Python, and how can you split a string using a specific delimiter? "
   ]
  },
  {
   "cell_type": "markdown",
   "id": "ceb66b94-0cee-40c1-a819-4752f08e48c9",
   "metadata": {},
   "source": [
    "#### ---> The split() method in Python is used to split a string into a list of substrings based on a specified delimiter. By default, the delimiter is a whitespace (space, tab, newline). However, you can also specify a custom delimiter as an argument to the split() method."
   ]
  },
  {
   "cell_type": "code",
   "execution_count": 16,
   "id": "1896dc36-822a-442a-9355-42f6703174a0",
   "metadata": {},
   "outputs": [
    {
     "name": "stdout",
     "output_type": "stream",
     "text": [
      "Fruits List: ['apple', 'banana', 'orange', 'grape']\n"
     ]
    }
   ],
   "source": [
    "string = \"apple,banana,orange,grape\"\n",
    "fruits_list = string.split(\",\")  # Split the string using comma as the delimiter\n",
    "print(\"Fruits List:\", fruits_list)\n"
   ]
  },
  {
   "cell_type": "code",
   "execution_count": null,
   "id": "ff4c9d00-9bd0-40af-b7be-7ce38c8df8ee",
   "metadata": {},
   "outputs": [],
   "source": []
  },
  {
   "cell_type": "code",
   "execution_count": null,
   "id": "73294af4-967a-4942-9d1e-91042213c686",
   "metadata": {},
   "outputs": [],
   "source": []
  },
  {
   "cell_type": "code",
   "execution_count": null,
   "id": "94c1babf-94b0-469e-8e37-d1f777002496",
   "metadata": {},
   "outputs": [],
   "source": []
  }
 ],
 "metadata": {
  "kernelspec": {
   "display_name": "Python 3 (ipykernel)",
   "language": "python",
   "name": "python3"
  },
  "language_info": {
   "codemirror_mode": {
    "name": "ipython",
    "version": 3
   },
   "file_extension": ".py",
   "mimetype": "text/x-python",
   "name": "python",
   "nbconvert_exporter": "python",
   "pygments_lexer": "ipython3",
   "version": "3.10.8"
  }
 },
 "nbformat": 4,
 "nbformat_minor": 5
}
