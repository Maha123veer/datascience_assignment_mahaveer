{
 "cells": [
  {
   "cell_type": "markdown",
   "id": "008cc084-a800-443d-b1ff-b7b4edb43234",
   "metadata": {},
   "source": [
    "## QUE:-1 convert an integer to a floating point number"
   ]
  },
  {
   "cell_type": "code",
   "execution_count": 1,
   "id": "b164fc0c-1181-4300-81f5-38912d6c1f86",
   "metadata": {},
   "outputs": [
    {
     "name": "stdin",
     "output_type": "stream",
     "text": [
      "enter the number= 20\n"
     ]
    },
    {
     "name": "stdout",
     "output_type": "stream",
     "text": [
      "integer to float = 20.0\n"
     ]
    }
   ],
   "source": [
    "int_num=int(input(\"enter the number=\"))\n",
    "convert=float(int_num)\n",
    "print(\"integer to float =\",convert)\n"
   ]
  },
  {
   "cell_type": "markdown",
   "id": "d351019e-4950-472a-be11-982742eace94",
   "metadata": {},
   "source": [
    "## QUE:-2 convert to float to an integer"
   ]
  },
  {
   "cell_type": "code",
   "execution_count": 2,
   "id": "6513729d-b0cf-4de1-aaf6-02c48eb5f6e6",
   "metadata": {},
   "outputs": [
    {
     "name": "stdin",
     "output_type": "stream",
     "text": [
      "enter the number= 50.20\n"
     ]
    },
    {
     "name": "stdout",
     "output_type": "stream",
     "text": [
      "float to integer = 50\n"
     ]
    }
   ],
   "source": [
    "float_num=float(input(\"enter the number=\"))\n",
    "convert=int(float_num)\n",
    "print(\"float to integer =\",convert)"
   ]
  },
  {
   "cell_type": "markdown",
   "id": "4ed381a2-c2aa-4a9f-81a1-5de0011af810",
   "metadata": {},
   "source": [
    "## QUE:-3 convert an integer to an string"
   ]
  },
  {
   "cell_type": "code",
   "execution_count": 4,
   "id": "1ef2f8ed-417a-4f7d-81e8-ca7a88778e96",
   "metadata": {},
   "outputs": [
    {
     "name": "stdin",
     "output_type": "stream",
     "text": [
      "enter the number= 205\n"
     ]
    },
    {
     "name": "stdout",
     "output_type": "stream",
     "text": [
      "integer to string = 205\n"
     ]
    }
   ],
   "source": [
    "int_num=int(input(\"enter the number=\"))\n",
    "convert=str(int_num)\n",
    "print(\"integer to string =\",convert)"
   ]
  },
  {
   "cell_type": "markdown",
   "id": "b8f4d5c2-9727-4748-95b7-7b5b3def5fb5",
   "metadata": {},
   "source": [
    "## QUE:-4 convert a list to a tuple"
   ]
  },
  {
   "cell_type": "code",
   "execution_count": 7,
   "id": "5404e452-0ddb-45af-aea0-e5f4dd5afea8",
   "metadata": {},
   "outputs": [
    {
     "name": "stdout",
     "output_type": "stream",
     "text": [
      "list to tuple= (12, 204, 'veer', True, 34.34)\n"
     ]
    }
   ],
   "source": [
    "list1=[12,204,\"veer\",True,34.34]\n",
    "convert=tuple(list1)\n",
    "print(\"list to tuple=\",convert)"
   ]
  },
  {
   "cell_type": "markdown",
   "id": "b72011ed-155e-44ec-8f98-2a91b5187b0b",
   "metadata": {},
   "source": [
    "## QUE:-5 convert a tuple to a list"
   ]
  },
  {
   "cell_type": "code",
   "execution_count": 8,
   "id": "84b5aab6-3413-4892-bf37-fe36f6dcff45",
   "metadata": {},
   "outputs": [
    {
     "name": "stdout",
     "output_type": "stream",
     "text": [
      "tuple to list= [12, 204, 'veer', True, 34.34]\n"
     ]
    }
   ],
   "source": [
    "tuple1=(12,204,\"veer\",True,34.34)\n",
    "convert=list(tuple1)\n",
    "print(\"tuple to list=\",convert)"
   ]
  },
  {
   "cell_type": "markdown",
   "id": "1e14cd1e-06b1-48d5-8e34-da670f632311",
   "metadata": {},
   "source": [
    "## QUE:-6 convert a decimal number to a binary"
   ]
  },
  {
   "cell_type": "code",
   "execution_count": 10,
   "id": "997bfea9-232a-4b5c-9f5f-a5bf292dd296",
   "metadata": {},
   "outputs": [
    {
     "name": "stdin",
     "output_type": "stream",
     "text": [
      "enter a decimal number 5\n"
     ]
    },
    {
     "name": "stdout",
     "output_type": "stream",
     "text": [
      "decimal to binary= 0b101\n"
     ]
    }
   ],
   "source": [
    "decimal=int(input(\"enter a decimal number\"))\n",
    "convert=bin(decimal)\n",
    "print(\"decimal to binary=\",convert)"
   ]
  },
  {
   "cell_type": "markdown",
   "id": "19d14d89-209f-462f-a49c-30c91449d09a",
   "metadata": {},
   "source": [
    "## QUE:-7 convert a non zero number to boolean"
   ]
  },
  {
   "cell_type": "code",
   "execution_count": null,
   "id": "e154e96f-6bd8-450e-b958-56101c4c1d57",
   "metadata": {},
   "outputs": [],
   "source": [
    "num=int(input(\"enter a number\"))\n",
    "convert=bool(num)\n",
    "print(\"decimal to binary=\",convert)"
   ]
  }
 ],
 "metadata": {
  "kernelspec": {
   "display_name": "Python 3 (ipykernel)",
   "language": "python",
   "name": "python3"
  },
  "language_info": {
   "codemirror_mode": {
    "name": "ipython",
    "version": 3
   },
   "file_extension": ".py",
   "mimetype": "text/x-python",
   "name": "python",
   "nbconvert_exporter": "python",
   "pygments_lexer": "ipython3",
   "version": "3.10.8"
  }
 },
 "nbformat": 4,
 "nbformat_minor": 5
}
