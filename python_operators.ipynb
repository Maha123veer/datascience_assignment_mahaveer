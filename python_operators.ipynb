{
 "cells": [
  {
   "cell_type": "markdown",
   "id": "b65298d5-0acc-4f2c-9494-94098f5b801a",
   "metadata": {},
   "source": [
    "## QUE:-1 calculate the sum,difference,product and quotient of two numbers."
   ]
  },
  {
   "cell_type": "code",
   "execution_count": 4,
   "id": "1bc186e8-2391-4fce-83cf-7bf54fa52604",
   "metadata": {},
   "outputs": [
    {
     "name": "stdin",
     "output_type": "stream",
     "text": [
      "enter the number= 30\n",
      "enter the number= 45\n"
     ]
    },
    {
     "name": "stdout",
     "output_type": "stream",
     "text": [
      "sum of 30 and 45= 75\n",
      "difference of 30 and 45= 15\n",
      "product of 30 and 45= 1350\n",
      "quotient of 30 and 45= 0.6666666666666666\n"
     ]
    }
   ],
   "source": [
    "num1=int(input(\"enter the number=\"))\n",
    "num2=int(input(\"enter the number=\"))\n",
    "sum_=num1+num2\n",
    "difference_= num1-num2 if num1 > num2 else num2-num1\n",
    "product=num1*num2\n",
    "quotient=num1/num2\n",
    "\n",
    "print(f\"sum of {num1} and {num2}=\",sum_)\n",
    "print(f\"difference of {num1} and {num2}=\",difference_)\n",
    "print(f\"product of {num1} and {num2}=\",product)\n",
    "print(f\"quotient of {num1} and {num2}=\",quotient)"
   ]
  },
  {
   "cell_type": "markdown",
   "id": "70fcf0cf-7bb7-4f8c-bdd9-2a0e88ba559d",
   "metadata": {},
   "source": [
    "## QUE:2 perform various assignment operations on a variable"
   ]
  },
  {
   "cell_type": "code",
   "execution_count": 5,
   "id": "0f05f455-a66c-49e9-8990-bf998c37c5b1",
   "metadata": {},
   "outputs": [
    {
     "name": "stdout",
     "output_type": "stream",
     "text": [
      "Original value of x: 10\n",
      "After addition assignment: 15\n",
      "After subtraction assignment: 12\n",
      "After multiplication assignment: 24\n",
      "After division assignment: 6.0\n",
      "After modulus assignment: 0.0\n",
      "After exponentiation assignment: 0.0\n",
      "After floor division assignment: 0.0\n"
     ]
    }
   ],
   "source": [
    "x = 10\n",
    "print(\"Original value of x:\", x)\n",
    "\n",
    "x += 5\n",
    "print(\"After addition assignment:\", x)\n",
    "\n",
    "x -= 3\n",
    "print(\"After subtraction assignment:\", x)\n",
    "\n",
    "x *= 2\n",
    "print(\"After multiplication assignment:\", x)\n",
    "\n",
    "x /= 4\n",
    "print(\"After division assignment:\", x)\n",
    "\n",
    "x %= 3\n",
    "print(\"After modulus assignment:\", x)\n",
    "\n",
    "x **= 2\n",
    "print(\"After exponentiation assignment:\", x)\n",
    "\n",
    "x //= 3\n",
    "print(\"After floor division assignment:\", x)\n"
   ]
  },
  {
   "cell_type": "markdown",
   "id": "9ace8c8f-bd16-4d65-94f4-bf424d841e84",
   "metadata": {},
   "source": [
    "## QUE:-3 compare two numbers and prints the results"
   ]
  },
  {
   "cell_type": "code",
   "execution_count": 9,
   "id": "994f1123-fcc8-407d-af3c-738a7d321a73",
   "metadata": {},
   "outputs": [
    {
     "name": "stdin",
     "output_type": "stream",
     "text": [
      "enter the number= 45\n",
      "enter the number= 45\n"
     ]
    },
    {
     "name": "stdout",
     "output_type": "stream",
     "text": [
      "45 is equal to 45\n"
     ]
    }
   ],
   "source": [
    "num1=int(input(\"enter the number=\"))\n",
    "num2=int(input(\"enter the number=\"))\n",
    "if num1<num2:\n",
    "    print(f\"{num1} is smaller than {num2}\")\n",
    "elif num1>num2:\n",
    "    print(f\"{num1} is greater than {num2}\")\n",
    "else:\n",
    "    print(f\"{num1} is equal to {num2}\")"
   ]
  },
  {
   "cell_type": "markdown",
   "id": "cd4d04fd-7cec-47a3-aac3-a8eb3ed68486",
   "metadata": {},
   "source": [
    "## QUE:-4 check condition using logic oprator."
   ]
  },
  {
   "cell_type": "markdown",
   "id": "fba5a191-5e6d-4fd9-90de-96c959040409",
   "metadata": {},
   "source": [
    "#### there are three logic operator \"AND\" \"OR\" \"NOT\"\n"
   ]
  },
  {
   "cell_type": "code",
   "execution_count": 13,
   "id": "8cdbd7a3-fc96-492f-9151-0daa92bd76ab",
   "metadata": {},
   "outputs": [
    {
     "name": "stdin",
     "output_type": "stream",
     "text": [
      "enter the number= 50\n",
      "enter the number= 40\n",
      "enter the number= 80\n"
     ]
    },
    {
     "name": "stdout",
     "output_type": "stream",
     "text": [
      "50 is greater than 40 and 80 is greater than 50\n"
     ]
    }
   ],
   "source": [
    "# AND operator\n",
    "num1=int(input(\"enter the number=\"))\n",
    "num2=int(input(\"enter the number=\"))\n",
    "num3=int(input(\"enter the number=\"))\n",
    "if num1>num2 and num3>num1:\n",
    "    print(f\"{num1} is greater than {num2} and {num3} is greater than {num1}\")\n",
    "else:\n",
    "    print(\"condition is not applied\")"
   ]
  },
  {
   "cell_type": "code",
   "execution_count": 14,
   "id": "f8c61a24-7f2f-472b-b3b5-44a7bb6e4f43",
   "metadata": {},
   "outputs": [
    {
     "name": "stdin",
     "output_type": "stream",
     "text": [
      "enter the number= 10\n",
      "enter the number= 20\n",
      "enter the number= 10\n"
     ]
    },
    {
     "name": "stdout",
     "output_type": "stream",
     "text": [
      "10 is less than 20 or 10 is greater than 10\n"
     ]
    }
   ],
   "source": [
    "# OR operator\n",
    "num1=int(input(\"enter the number=\"))\n",
    "num2=int(input(\"enter the number=\"))\n",
    "num3=int(input(\"enter the number=\"))\n",
    "if num1<num2 or num3>num1:\n",
    "    print(f\"{num1} is less than {num2} or {num3} is greater than {num1}\")\n",
    "else:\n",
    "    print(\"condition is not applied\")"
   ]
  },
  {
   "cell_type": "code",
   "execution_count": 17,
   "id": "97c17d05-a189-4f6f-9345-b814ed8624e5",
   "metadata": {},
   "outputs": [
    {
     "name": "stdin",
     "output_type": "stream",
     "text": [
      "enter the number= 45\n",
      "enter the number= 65\n"
     ]
    },
    {
     "name": "stdout",
     "output_type": "stream",
     "text": [
      "45 is not equal to 65 \n"
     ]
    }
   ],
   "source": [
    "# NOT operator\n",
    "num1=int(input(\"enter the number=\"))\n",
    "num2=int(input(\"enter the number=\"))\n",
    "\n",
    "if not num1==num2:\n",
    "    print(f\"{num1} is not equal to {num2} \")\n",
    "else:\n",
    "    print(\"condition is not applied\")"
   ]
  },
  {
   "cell_type": "markdown",
   "id": "89862dac-041f-48c3-93f1-2aeebeed65db",
   "metadata": {},
   "source": [
    "##### "
   ]
  },
  {
   "cell_type": "markdown",
   "id": "992e298d-0027-4bfa-9a7b-3bd1e27a7d3a",
   "metadata": {},
   "source": [
    "## QUE:-5 check the identity of variables"
   ]
  },
  {
   "cell_type": "code",
   "execution_count": 1,
   "id": "d1844819-4686-499a-bf92-63154c757947",
   "metadata": {},
   "outputs": [
    {
     "name": "stdout",
     "output_type": "stream",
     "text": [
      "x and y has different identity\n",
      "x and y has same identity\n"
     ]
    }
   ],
   "source": [
    "x=[1,2,3]\n",
    "y=[1,2,3]\n",
    "z=x\n",
    "if x is y:\n",
    "    print(\"x and y has same identity\")\n",
    "else:\n",
    "    print(\"x and y has different identity\")\n",
    "    \n",
    "if x is z:\n",
    "    print(\"x and y has same identity\")\n",
    "else:\n",
    "    print(\"x and y has different identity\")\n",
    "    "
   ]
  },
  {
   "cell_type": "code",
   "execution_count": 2,
   "id": "de5f6d0f-26e1-4f1b-b3c6-507c982a1364",
   "metadata": {},
   "outputs": [
    {
     "name": "stdout",
     "output_type": "stream",
     "text": [
      "x and y has same value\n"
     ]
    }
   ],
   "source": [
    "x=[1,2,3]\n",
    "y=[1,2,3]\n",
    "if x == y:\n",
    "    print(\"x and y has same value\")\n",
    "else:\n",
    "    print(\"x and y has different value\")"
   ]
  },
  {
   "cell_type": "markdown",
   "id": "3b7648a3-adfb-4987-95ec-355695d7677f",
   "metadata": {},
   "source": [
    "## QUE:-6 perform bitwise operations on any two integers"
   ]
  },
  {
   "cell_type": "code",
   "execution_count": 8,
   "id": "6f4e3df1-8026-474f-a254-6473a97f874f",
   "metadata": {},
   "outputs": [
    {
     "name": "stdout",
     "output_type": "stream",
     "text": [
      "0b1100\n",
      "Bitwise AND: 2\n",
      "Bitwise OR: 14\n",
      "Bitwise XOR: 12\n",
      "Bitwise NOT of num1: -11\n",
      "Left shift of num1: 40\n",
      "Right shift of num1: 2\n"
     ]
    }
   ],
   "source": [
    "num1 = 10  # binary: 1010\n",
    "num2 = 6   # binary: 0110\n",
    "\n",
    "result_and = num1 & num2  \n",
    "print(\"Bitwise AND:\", result_and)\n",
    "\n",
    "result_or = num1 | num2   \n",
    "print(\"Bitwise OR:\", result_or)\n",
    "\n",
    "result_xor = num1 ^ num2  \n",
    "print(\"Bitwise XOR:\", result_xor)\n",
    "\n",
    "result_not = ~num1       \n",
    "print(\"Bitwise NOT of num1:\", result_not)\n",
    "\n",
    "result_left_shift = num1 << 2  \n",
    "print(\"Left shift of num1:\", result_left_shift)\n",
    "\n",
    "result_right_shift = num1 >> 2  \n",
    "print(\"Right shift of num1:\", result_right_shift)"
   ]
  },
  {
   "cell_type": "markdown",
   "id": "ba3f7fae-6981-4614-a7f1-cc1a3892ac21",
   "metadata": {},
   "source": [
    "## QUE:-7 use unary operators to change the sign of a number"
   ]
  },
  {
   "cell_type": "code",
   "execution_count": 2,
   "id": "1451a422-c841-49fb-8c6e-4d216b8b31c3",
   "metadata": {},
   "outputs": [
    {
     "name": "stdout",
     "output_type": "stream",
     "text": [
      "original number= 6\n",
      "neetive number= -6\n"
     ]
    }
   ],
   "source": [
    "num=6\n",
    "neg_num=-num\n",
    "print(\"original number=\",num)\n",
    "print(\"neetive number=\",neg_num)"
   ]
  },
  {
   "cell_type": "markdown",
   "id": "c1366c09-7c45-46b4-92d6-67c2b01810d6",
   "metadata": {},
   "source": [
    "## QUE:-8 use the ternary operator to assign values based on condition"
   ]
  },
  {
   "cell_type": "code",
   "execution_count": null,
   "id": "006652c8-796d-49f7-8e1f-a216c16a57c8",
   "metadata": {},
   "outputs": [],
   "source": [
    "num=int(input(\"enter a number=\"))\n",
    "\n",
    "\n",
    "              "
   ]
  }
 ],
 "metadata": {
  "kernelspec": {
   "display_name": "Python 3 (ipykernel)",
   "language": "python",
   "name": "python3"
  },
  "language_info": {
   "codemirror_mode": {
    "name": "ipython",
    "version": 3
   },
   "file_extension": ".py",
   "mimetype": "text/x-python",
   "name": "python",
   "nbconvert_exporter": "python",
   "pygments_lexer": "ipython3",
   "version": "3.10.8"
  }
 },
 "nbformat": 4,
 "nbformat_minor": 5
}
