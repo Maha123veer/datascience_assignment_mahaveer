{
 "cells": [
  {
   "cell_type": "markdown",
   "metadata": {
    "id": "PoT3Ns6bzMHX"
   },
   "source": [
    "#### 1.Write a Python function check the number is prime or not?"
   ]
  },
  {
   "cell_type": "code",
   "execution_count": 12,
   "metadata": {},
   "outputs": [
    {
     "name": "stdout",
     "output_type": "stream",
     "text": [
      "12 is not a prime number\n"
     ]
    }
   ],
   "source": [
    "def prime_num(num):\n",
    "    if num>1:\n",
    "        for i in range(2,num):\n",
    "            if num%i==0:\n",
    "                print(num,\"is not a prime number\")\n",
    "                break\n",
    "        else:\n",
    "            print(num,\"is a prime nummber\")\n",
    "    else:\n",
    "        print(\"1 is not a prime number\")\n",
    "prime_num(12)"
   ]
  },
  {
   "cell_type": "markdown",
   "metadata": {
    "id": "oAoEH4GYzQ3S"
   },
   "source": [
    "# 2.Write a Python function string is palindrome or not?"
   ]
  },
  {
   "cell_type": "code",
   "execution_count": 4,
   "metadata": {
    "id": "SodMRdGNzRJw"
   },
   "outputs": [
    {
     "name": "stdout",
     "output_type": "stream",
     "text": [
      "this string is palindrom\n"
     ]
    }
   ],
   "source": [
    "def palindrom(stringg):\n",
    "    if stringg == stringg[::-1]:\n",
    "        print(\"this string is palindrom\")\n",
    "    else:\n",
    "        print(\"this string is not palindrom\")\n",
    "palindrom(\"madam\")"
   ]
  },
  {
   "cell_type": "markdown",
   "metadata": {
    "id": "17MlAlemzftA"
   },
   "source": [
    "#### 3. Write a Python function Print 7 Pascal's triangle."
   ]
  },
  {
   "cell_type": "code",
   "execution_count": 15,
   "metadata": {},
   "outputs": [
    {
     "name": "stdin",
     "output_type": "stream",
     "text": [
      "enter the row number= 7\n"
     ]
    },
    {
     "name": "stdout",
     "output_type": "stream",
     "text": [
      "      1 \n",
      "     1 1 \n",
      "    1 2 1 \n",
      "   1 3 3 1 \n",
      "  1 4 6 4 1 \n",
      " 1 5 10 10 5 1 \n",
      "1 6 15 20 15 6 1 \n"
     ]
    }
   ],
   "source": [
    "def factorial(n):\n",
    "    if n == 0:\n",
    "        return 1\n",
    "    result = 1\n",
    "    for i in range(1, n + 1):\n",
    "        result *= i\n",
    "    return result\n",
    "rows=int(input(\"enter the row number=\"))\n",
    "for n in range(rows):\n",
    "    for space in range(1,rows-n):\n",
    "        print(end=' ')\n",
    "        \n",
    "    for r in range(n+1):\n",
    "        ncr=factorial(n)//(factorial(r)*factorial(n-r))\n",
    "        print(ncr,end=' ')\n",
    "        \n",
    "    print('')"
   ]
  },
  {
   "cell_type": "markdown",
   "metadata": {
    "id": "V_xfOEQvzlP-"
   },
   "source": [
    "4. #### 5.Write a Python function to calculate the harmonic mean\n",
    "\n",
    "HM = n / [1/x1 + 1/x2 + 1/x3 + ... + 1/xn]\n",
    "\n",
    "Here, the total number of observations is divided by the sum of reciprocals of all observations."
   ]
  },
  {
   "cell_type": "code",
   "execution_count": 22,
   "metadata": {},
   "outputs": [
    {
     "name": "stdout",
     "output_type": "stream",
     "text": [
      "Harmonic Mean: 4.37956204379562\n"
     ]
    }
   ],
   "source": [
    "def harmonic_mean(numbers):\n",
    "    reciprocal_sum = 0\n",
    "    for x in numbers:\n",
    "        reciprocal_sum += 1 / x\n",
    "        \n",
    "    if reciprocal_sum != 0:\n",
    "        return len(numbers) / reciprocal_sum\n",
    "    else:\n",
    "        return 0\n",
    "numbers = [2, 4, 6, 8, 10]\n",
    "hm = harmonic_mean(numbers)\n",
    "print(\"Harmonic Mean:\", hm)"
   ]
  },
  {
   "cell_type": "markdown",
   "metadata": {
    "id": "An-bG3Ia0Dwn"
   },
   "source": [
    "#### Types of arguments\n",
    "\n",
    "\n",
    "    1. Required arguments\n",
    "    2. Keyword arguments\n",
    "    3. Default arguments\n",
    "    4. Variable-length arguments"
   ]
  },
  {
   "cell_type": "markdown",
   "metadata": {
    "id": "QaWwxJgD0ITP"
   },
   "source": [
    "#### 1. Required arguments: (the function calculate returns the sum of two arguments a and b )"
   ]
  },
  {
   "cell_type": "code",
   "execution_count": 23,
   "metadata": {
    "id": "DMU81ynX0EDx"
   },
   "outputs": [
    {
     "name": "stdout",
     "output_type": "stream",
     "text": [
      "a and b = 25\n"
     ]
    }
   ],
   "source": [
    "def Calculate(a,b):\n",
    "    return a+b\n",
    "sum1=Calculate(12,13)\n",
    "print(\"a and b =\",sum1)"
   ]
  },
  {
   "cell_type": "markdown",
   "metadata": {
    "id": "ssQeyLoE0KPK"
   },
   "source": [
    "#### 2.Keyword arguments:(The function simple_interest(p, t, r) is called with the keyword arguments)\n",
    "\n",
    " P = (100 × S.I.)/(R × T)"
   ]
  },
  {
   "cell_type": "code",
   "execution_count": 26,
   "metadata": {
    "id": "QGsoeae00Kko"
   },
   "outputs": [
    {
     "name": "stdout",
     "output_type": "stream",
     "text": [
      "principle_ammount 5000.0\n"
     ]
    }
   ],
   "source": [
    "def simple_interest(SI,R,T):\n",
    "    p=(100*SI)/(R*T)\n",
    "    return p\n",
    "principle_ammount=simple_interest(SI=1000,R=10,T=2)\n",
    "print(\"principle_ammount\", principle_ammount)"
   ]
  },
  {
   "cell_type": "markdown",
   "metadata": {
    "id": "aPe4hgEy0igE"
   },
   "source": [
    "#### 3. Default arguments: (the function calculate returns the multiplication of 4 arguments a, b ,c and d. Variable c and d will have default arguments of 45 and 10)"
   ]
  },
  {
   "cell_type": "code",
   "execution_count": 27,
   "metadata": {
    "id": "q9bngT0_0vHa"
   },
   "outputs": [
    {
     "name": "stdout",
     "output_type": "stream",
     "text": [
      "Result: 2700\n",
      "Result: 120\n"
     ]
    }
   ],
   "source": [
    "def calculate(a,b,c=45,d=10):\n",
    "    return a*b*c*d\n",
    "result = calculate(2,3)\n",
    "print(\"Result:\", result)  \n",
    "\n",
    "result = calculate(2,3,4,5)\n",
    "print(\"Result:\", result)  \n"
   ]
  },
  {
   "cell_type": "markdown",
   "metadata": {
    "id": "IJXOzdIV0vyG"
   },
   "source": []
  }
 ],
 "metadata": {
  "colab": {
   "provenance": []
  },
  "kernelspec": {
   "display_name": "Python 3 (ipykernel)",
   "language": "python",
   "name": "python3"
  },
  "language_info": {
   "codemirror_mode": {
    "name": "ipython",
    "version": 3
   },
   "file_extension": ".py",
   "mimetype": "text/x-python",
   "name": "python",
   "nbconvert_exporter": "python",
   "pygments_lexer": "ipython3",
   "version": "3.10.8"
  }
 },
 "nbformat": 4,
 "nbformat_minor": 4
}
